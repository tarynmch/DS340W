{
 "cells": [
  {
   "cell_type": "code",
   "execution_count": 1,
   "id": "rocky-scratch",
   "metadata": {
    "execution": {
     "iopub.execute_input": "2021-05-11T17:39:01.059319Z",
     "iopub.status.busy": "2021-05-11T17:39:01.058588Z",
     "iopub.status.idle": "2021-05-11T17:39:03.124093Z",
     "shell.execute_reply": "2021-05-11T17:39:03.123291Z"
    },
    "papermill": {
     "duration": 2.164963,
     "end_time": "2021-05-11T17:39:03.124285",
     "exception": false,
     "start_time": "2021-05-11T17:39:00.959322",
     "status": "completed"
    },
    "tags": []
   },
   "outputs": [],
   "source": [
    "# Importing Libraries\n",
    "\n",
    "import os\n",
    "import warnings\n",
    "import pandas as pd\n",
    "import numpy as np\n",
    "import seaborn as sns\n",
    "import matplotlib.pyplot as plt\n",
    "from sklearn import metrics\n",
    "import matplotlib.pyplot as plt\n",
    "from sklearn.decomposition import PCA\n",
    "from imblearn.over_sampling import SMOTE\n",
    "from sklearn.feature_selection import RFE\n",
    "from sklearn.model_selection import KFold\n",
    "from sklearn.metrics import accuracy_score\n",
    "from sklearn.metrics import confusion_matrix\n",
    "from sklearn.preprocessing import LabelEncoder\n",
    "from sklearn.preprocessing import StandardScaler\n",
    "from sklearn import linear_model, ensemble, tree\n",
    "from sklearn.metrics import classification_report\n",
    "from sklearn.linear_model import LogisticRegression\n",
    "from sklearn.model_selection import train_test_split\n",
    "from sklearn.model_selection import RandomizedSearchCV\n",
    "from statsmodels.stats.outliers_influence import variance_inflation_factor\n",
    "from sklearn.ensemble import RandomForestClassifier, GradientBoostingClassifier\n",
    "from sklearn.metrics import r2_score, mean_squared_error, mean_absolute_error\n",
    "from sklearn.model_selection import cross_val_score,GridSearchCV,cross_validate\n",
    "from sklearn.metrics import confusion_matrix, auc,roc_auc_score,roc_curve,recall_score,classification_report\n",
    "warnings.filterwarnings('ignore')\n",
    "pd.set_option('display.max_rows', 100, 'display.max_columns', 400)"
   ]
  },
  {
   "cell_type": "markdown",
   "id": "later-raleigh",
   "metadata": {
    "papermill": {
     "duration": 0.085578,
     "end_time": "2021-05-11T17:39:03.299724",
     "exception": false,
     "start_time": "2021-05-11T17:39:03.214146",
     "status": "completed"
    },
    "tags": []
   },
   "source": [
    "# IMPORTING DATA"
   ]
  },
  {
   "cell_type": "code",
   "execution_count": 2,
   "id": "silver-instrumentation",
   "metadata": {
    "execution": {
     "iopub.execute_input": "2021-05-11T17:39:03.496241Z",
     "iopub.status.busy": "2021-05-11T17:39:03.495476Z",
     "iopub.status.idle": "2021-05-11T17:39:03.498489Z",
     "shell.execute_reply": "2021-05-11T17:39:03.499152Z"
    },
    "papermill": {
     "duration": 0.112593,
     "end_time": "2021-05-11T17:39:03.499328",
     "exception": false,
     "start_time": "2021-05-11T17:39:03.386735",
     "status": "completed"
    },
    "tags": []
   },
   "outputs": [],
   "source": [
    "# Function to Load the file at specified path\n",
    "# Parameters :- 1. path :- path from where file should be I\n",
    "\n",
    "def Load_File(path) :\n",
    "    if os.path.isfile(path) :\n",
    "        data = pd.read_csv(path)\n",
    "        data = data.replace('?', np.nan)\n",
    "        print(\"\\n\" + \"Number of rows in data are %s\" % len(data))\n",
    "        print(\"Number of columns in data are %s\" % len(data.columns) + \"\\n\")\n",
    "        print(\"Following are the data types of columns:- \")\n",
    "        print(data.dtypes)\n",
    "        print(\"Number of missing values in the data are:- \")\n",
    "        print(data.isnull().sum())\n",
    "        print(\"Data Import is Complete\")\n",
    "        \n",
    "        return data\n",
    "    else:\n",
    "        print(path + \" does not exist. Enter the correct path\")\n",
    "\n",
    "# Function to Encode the Categorical Data Columns\n",
    "# Parameters 1. df :- Dataframe 2. Column_name :- Feature to encode\n",
    "\n",
    "def categorical_encoding(df, column_name_list=[]):\n",
    "    \n",
    "    for column_name in column_name_list:\n",
    "        print(df[column_name].unique())\n",
    "        categorical_columns = pd.get_dummies(df[column_name], prefix = column_name, \n",
    "                                             prefix_sep = '_', drop_first = False)\n",
    "        df = pd.concat([df, categorical_columns], axis = 1)\n",
    "        df = df.drop(column_name, axis = 1)\n",
    "    return df\n",
    "\n",
    "\n",
    "# Function to Label Encode the data\n",
    "# Parameters :- 1. data :- Dataframe 2. columns_list :- List of columns to label encode\n",
    "\n",
    "def labelEncoder(data, columns_list):\n",
    "    for col in columns_list:\n",
    "        encoder = LabelEncoder()\n",
    "        data[col]  = encoder.fit_transform(data[col])\n",
    "    return data\n",
    "\n",
    "\n",
    "# Function to plot stacked plot\n",
    "# Paramteres :- \n",
    "# data :- Dataframe used for plotting\n",
    "# column_one :- Column One to group by\n",
    "# column_two : Column Two to group by\n",
    "# agg_column : Column to count numbers\n",
    "\n",
    "def stacked_plot(data, column_one, column_two, agg_column, plot_size=(10, 5)):\n",
    "    pal     = sns.color_palette(\"colorblind\")\n",
    "    grouped = data.groupby([column_one, column_two])[agg_column].count()\n",
    "    grouped = grouped.groupby(level=0).apply(lambda x:100 * x / float(x.sum()))\n",
    "    grouped = grouped.unstack(column_two).fillna(0)\n",
    "    print(grouped)\n",
    "    unique_list = list(data[column_two].unique())\n",
    "    grouped[unique_list].plot(kind='bar', stacked=True, color=pal, figsize=plot_size)"
   ]
  },
  {
   "cell_type": "code",
   "execution_count": 3,
   "id": "intended-disaster",
   "metadata": {
    "execution": {
     "iopub.execute_input": "2021-05-11T17:39:03.676042Z",
     "iopub.status.busy": "2021-05-11T17:39:03.675270Z",
     "iopub.status.idle": "2021-05-11T17:39:03.707095Z",
     "shell.execute_reply": "2021-05-11T17:39:03.707745Z"
    },
    "papermill": {
     "duration": 0.121439,
     "end_time": "2021-05-11T17:39:03.707970",
     "exception": false,
     "start_time": "2021-05-11T17:39:03.586531",
     "status": "completed"
    },
    "tags": []
   },
   "outputs": [
    {
     "name": "stdout",
     "output_type": "stream",
     "text": [
      "\n",
      "Number of rows in data are 206\n",
      "Number of columns in data are 6\n",
      "\n",
      "Following are the data types of columns:- \n",
      "code_module           object\n",
      "code_presentation     object\n",
      "id_assessment          int64\n",
      "assessment_type       object\n",
      "date                 float64\n",
      "weight               float64\n",
      "dtype: object\n",
      "Number of missing values in the data are:- \n",
      "code_module           0\n",
      "code_presentation     0\n",
      "id_assessment         0\n",
      "assessment_type       0\n",
      "date                 11\n",
      "weight                0\n",
      "dtype: int64\n",
      "Data Import is Complete\n"
     ]
    }
   ],
   "source": [
    "\"\"\"LOADING ASSESSMENTS DATA\"\"\"\n",
    "\n",
    "# code_module          identification code of the module, to which the assessment belongs\n",
    "# code_presentation    identification code of the presentation, to which the assessment belongs\n",
    "# id_assessment        identification number of the assessment\n",
    "# assessment_type      type of assessment\n",
    "# date                 days information about the final submission date of the assessment calculated as the number of days \n",
    "#                      since the start of the module-presentation. The starting date of the presentation has number 0 (zero)\n",
    "# weight               weight of the assessment in %. Typically, Exams are treated separately and have the weight 100%\n",
    "#                      the sum of all other assessments is 100%\n",
    "\n",
    "oulad_assessment = Load_File('G:/DL,FE Projects/Education in Big Data/archive/assessments.csv')"
   ]
  },
  {
   "cell_type": "code",
   "execution_count": 4,
   "id": "thermal-syndication",
   "metadata": {
    "execution": {
     "iopub.execute_input": "2021-05-11T17:39:03.899864Z",
     "iopub.status.busy": "2021-05-11T17:39:03.897901Z",
     "iopub.status.idle": "2021-05-11T17:39:03.918874Z",
     "shell.execute_reply": "2021-05-11T17:39:03.919425Z"
    },
    "papermill": {
     "duration": 0.1226,
     "end_time": "2021-05-11T17:39:03.919604",
     "exception": false,
     "start_time": "2021-05-11T17:39:03.797004",
     "status": "completed"
    },
    "tags": []
   },
   "outputs": [
    {
     "data": {
      "text/html": [
       "<div>\n",
       "<style scoped>\n",
       "    .dataframe tbody tr th:only-of-type {\n",
       "        vertical-align: middle;\n",
       "    }\n",
       "\n",
       "    .dataframe tbody tr th {\n",
       "        vertical-align: top;\n",
       "    }\n",
       "\n",
       "    .dataframe thead th {\n",
       "        text-align: right;\n",
       "    }\n",
       "</style>\n",
       "<table border=\"1\" class=\"dataframe\">\n",
       "  <thead>\n",
       "    <tr style=\"text-align: right;\">\n",
       "      <th></th>\n",
       "      <th>code_module</th>\n",
       "      <th>code_presentation</th>\n",
       "      <th>id_assessment</th>\n",
       "      <th>assessment_type</th>\n",
       "      <th>date</th>\n",
       "      <th>weight</th>\n",
       "    </tr>\n",
       "  </thead>\n",
       "  <tbody>\n",
       "    <tr>\n",
       "      <th>0</th>\n",
       "      <td>AAA</td>\n",
       "      <td>2013J</td>\n",
       "      <td>1752</td>\n",
       "      <td>TMA</td>\n",
       "      <td>19.0</td>\n",
       "      <td>10.0</td>\n",
       "    </tr>\n",
       "    <tr>\n",
       "      <th>1</th>\n",
       "      <td>AAA</td>\n",
       "      <td>2013J</td>\n",
       "      <td>1753</td>\n",
       "      <td>TMA</td>\n",
       "      <td>54.0</td>\n",
       "      <td>20.0</td>\n",
       "    </tr>\n",
       "    <tr>\n",
       "      <th>2</th>\n",
       "      <td>AAA</td>\n",
       "      <td>2013J</td>\n",
       "      <td>1754</td>\n",
       "      <td>TMA</td>\n",
       "      <td>117.0</td>\n",
       "      <td>20.0</td>\n",
       "    </tr>\n",
       "    <tr>\n",
       "      <th>3</th>\n",
       "      <td>AAA</td>\n",
       "      <td>2013J</td>\n",
       "      <td>1755</td>\n",
       "      <td>TMA</td>\n",
       "      <td>166.0</td>\n",
       "      <td>20.0</td>\n",
       "    </tr>\n",
       "    <tr>\n",
       "      <th>4</th>\n",
       "      <td>AAA</td>\n",
       "      <td>2013J</td>\n",
       "      <td>1756</td>\n",
       "      <td>TMA</td>\n",
       "      <td>215.0</td>\n",
       "      <td>30.0</td>\n",
       "    </tr>\n",
       "  </tbody>\n",
       "</table>\n",
       "</div>"
      ],
      "text/plain": [
       "  code_module code_presentation  id_assessment assessment_type   date  weight\n",
       "0         AAA             2013J           1752             TMA   19.0    10.0\n",
       "1         AAA             2013J           1753             TMA   54.0    20.0\n",
       "2         AAA             2013J           1754             TMA  117.0    20.0\n",
       "3         AAA             2013J           1755             TMA  166.0    20.0\n",
       "4         AAA             2013J           1756             TMA  215.0    30.0"
      ]
     },
     "execution_count": 4,
     "metadata": {},
     "output_type": "execute_result"
    }
   ],
   "source": [
    "oulad_assessment.head()"
   ]
  },
  {
   "cell_type": "code",
   "execution_count": 5,
   "id": "inappropriate-words",
   "metadata": {
    "execution": {
     "iopub.execute_input": "2021-05-11T17:39:04.101167Z",
     "iopub.status.busy": "2021-05-11T17:39:04.100406Z",
     "iopub.status.idle": "2021-05-11T17:39:04.106448Z",
     "shell.execute_reply": "2021-05-11T17:39:04.105787Z"
    },
    "papermill": {
     "duration": 0.098443,
     "end_time": "2021-05-11T17:39:04.106602",
     "exception": false,
     "start_time": "2021-05-11T17:39:04.008159",
     "status": "completed"
    },
    "tags": []
   },
   "outputs": [],
   "source": [
    "### Filling in the missing values with the mean of the number of days.\n",
    "\n",
    "oulad_assessment['date'] = oulad_assessment['date'].fillna(int(oulad_assessment['date'].astype(float).mean()))"
   ]
  },
  {
   "cell_type": "code",
   "execution_count": 6,
   "id": "precise-document",
   "metadata": {
    "execution": {
     "iopub.execute_input": "2021-05-11T17:39:04.287597Z",
     "iopub.status.busy": "2021-05-11T17:39:04.286856Z",
     "iopub.status.idle": "2021-05-11T17:39:04.296409Z",
     "shell.execute_reply": "2021-05-11T17:39:04.295808Z"
    },
    "papermill": {
     "duration": 0.100578,
     "end_time": "2021-05-11T17:39:04.296553",
     "exception": false,
     "start_time": "2021-05-11T17:39:04.195975",
     "status": "completed"
    },
    "tags": []
   },
   "outputs": [
    {
     "data": {
      "text/plain": [
       "array(['AAA', 'BBB', 'CCC', 'DDD', 'EEE', 'FFF', 'GGG'], dtype=object)"
      ]
     },
     "execution_count": 6,
     "metadata": {},
     "output_type": "execute_result"
    }
   ],
   "source": [
    "### There are 7 types of code_module\n",
    "\n",
    "oulad_assessment['code_module'].unique()"
   ]
  },
  {
   "cell_type": "code",
   "execution_count": 7,
   "id": "immediate-sperm",
   "metadata": {
    "execution": {
     "iopub.execute_input": "2021-05-11T17:39:04.481153Z",
     "iopub.status.busy": "2021-05-11T17:39:04.480416Z",
     "iopub.status.idle": "2021-05-11T17:39:04.486307Z",
     "shell.execute_reply": "2021-05-11T17:39:04.486884Z"
    },
    "papermill": {
     "duration": 0.100843,
     "end_time": "2021-05-11T17:39:04.487105",
     "exception": false,
     "start_time": "2021-05-11T17:39:04.386262",
     "status": "completed"
    },
    "tags": []
   },
   "outputs": [
    {
     "data": {
      "text/plain": [
       "array(['TMA', 'Exam', 'CMA'], dtype=object)"
      ]
     },
     "execution_count": 7,
     "metadata": {},
     "output_type": "execute_result"
    }
   ],
   "source": [
    "### There are 3 types of Assessment\n",
    "# TMA :- Tutor Marked Assessment\n",
    "# CMA :- Computer Marked Assessment\n",
    "# Exam :- Final Exam\n",
    "\n",
    "oulad_assessment['assessment_type'].unique()"
   ]
  },
  {
   "cell_type": "code",
   "execution_count": 8,
   "id": "banner-business",
   "metadata": {
    "execution": {
     "iopub.execute_input": "2021-05-11T17:39:04.670068Z",
     "iopub.status.busy": "2021-05-11T17:39:04.669310Z",
     "iopub.status.idle": "2021-05-11T17:39:04.854236Z",
     "shell.execute_reply": "2021-05-11T17:39:04.854753Z"
    },
    "papermill": {
     "duration": 0.277316,
     "end_time": "2021-05-11T17:39:04.854940",
     "exception": false,
     "start_time": "2021-05-11T17:39:04.577624",
     "status": "completed"
    },
    "tags": []
   },
   "outputs": [
    {
     "data": {
      "text/plain": [
       "(array([29., 25., 22., 34., 20., 32., 44.]),\n",
       " array([ 12.        ,  47.57142857,  83.14285714, 118.71428571,\n",
       "        154.28571429, 189.85714286, 225.42857143, 261.        ]),\n",
       " <BarContainer object of 7 artists>)"
      ]
     },
     "execution_count": 8,
     "metadata": {},
     "output_type": "execute_result"
    },
    {
     "data": {
      "image/png": "[encoded data removed]",
      "text/plain": [
       "<Figure size 432x288 with 1 Axes>"
      ]
     },
     "metadata": {
      "needs_background": "light"
     },
     "output_type": "display_data"
    }
   ],
   "source": [
    "### Below histogram shows us the range of for the number for days for final submission.\n",
    "\n",
    "plt.hist(oulad_assessment['date'].astype(int), bins=7)"
   ]
  },
  {
   "cell_type": "code",
   "execution_count": 9,
   "id": "laughing-deadline",
   "metadata": {
    "execution": {
     "iopub.execute_input": "2021-05-11T17:39:05.043676Z",
     "iopub.status.busy": "2021-05-11T17:39:05.042902Z",
     "iopub.status.idle": "2021-05-11T17:39:05.061214Z",
     "shell.execute_reply": "2021-05-11T17:39:05.060454Z"
    },
    "papermill": {
     "duration": 0.114131,
     "end_time": "2021-05-11T17:39:05.061370",
     "exception": false,
     "start_time": "2021-05-11T17:39:04.947239",
     "status": "completed"
    },
    "tags": []
   },
   "outputs": [
    {
     "name": "stdout",
     "output_type": "stream",
     "text": [
      "\n",
      "Number of rows in data are 22\n",
      "Number of columns in data are 3\n",
      "\n",
      "Following are the data types of columns:- \n",
      "code_module                   object\n",
      "code_presentation             object\n",
      "module_presentation_length     int64\n",
      "dtype: object\n",
      "Number of missing values in the data are:- \n",
      "code_module                   0\n",
      "code_presentation             0\n",
      "module_presentation_length    0\n",
      "dtype: int64\n",
      "Data Import is Complete\n"
     ]
    }
   ],
   "source": [
    "\"\"\"Loading Courses Data\"\"\"\n",
    "\n",
    "# code_module         name of the module, which serves as the identifier\n",
    "# code_presentation   name of the presentation. It consists of the year and B for the presentation \n",
    "#                     starting in February and J for the presentation starting in October\n",
    "# length              length of the module presentation in days\n",
    "\n",
    "oulad_courses = Load_File('G:/DL,FE Projects/Education in Big Data/archive/courses.csv')"
   ]
  },
  {
   "cell_type": "code",
   "execution_count": 10,
   "id": "lesser-savage",
   "metadata": {
    "execution": {
     "iopub.execute_input": "2021-05-11T17:39:05.262593Z",
     "iopub.status.busy": "2021-05-11T17:39:05.258676Z",
     "iopub.status.idle": "2021-05-11T17:39:05.269303Z",
     "shell.execute_reply": "2021-05-11T17:39:05.268475Z"
    },
    "papermill": {
     "duration": 0.114328,
     "end_time": "2021-05-11T17:39:05.269473",
     "exception": false,
     "start_time": "2021-05-11T17:39:05.155145",
     "status": "completed"
    },
    "scrolled": true,
    "tags": []
   },
   "outputs": [
    {
     "data": {
      "text/html": [
       "<div>\n",
       "<style scoped>\n",
       "    .dataframe tbody tr th:only-of-type {\n",
       "        vertical-align: middle;\n",
       "    }\n",
       "\n",
       "    .dataframe tbody tr th {\n",
       "        vertical-align: top;\n",
       "    }\n",
       "\n",
       "    .dataframe thead th {\n",
       "        text-align: right;\n",
       "    }\n",
       "</style>\n",
       "<table border=\"1\" class=\"dataframe\">\n",
       "  <thead>\n",
       "    <tr style=\"text-align: right;\">\n",
       "      <th></th>\n",
       "      <th>code_module</th>\n",
       "      <th>code_presentation</th>\n",
       "      <th>module_presentation_length</th>\n",
       "    </tr>\n",
       "  </thead>\n",
       "  <tbody>\n",
       "    <tr>\n",
       "      <th>0</th>\n",
       "      <td>AAA</td>\n",
       "      <td>2013J</td>\n",
       "      <td>268</td>\n",
       "    </tr>\n",
       "    <tr>\n",
       "      <th>1</th>\n",
       "      <td>AAA</td>\n",
       "      <td>2014J</td>\n",
       "      <td>269</td>\n",
       "    </tr>\n",
       "    <tr>\n",
       "      <th>2</th>\n",
       "      <td>BBB</td>\n",
       "      <td>2013J</td>\n",
       "      <td>268</td>\n",
       "    </tr>\n",
       "    <tr>\n",
       "      <th>3</th>\n",
       "      <td>BBB</td>\n",
       "      <td>2014J</td>\n",
       "      <td>262</td>\n",
       "    </tr>\n",
       "    <tr>\n",
       "      <th>4</th>\n",
       "      <td>BBB</td>\n",
       "      <td>2013B</td>\n",
       "      <td>240</td>\n",
       "    </tr>\n",
       "  </tbody>\n",
       "</table>\n",
       "</div>"
      ],
      "text/plain": [
       "  code_module code_presentation  module_presentation_length\n",
       "0         AAA             2013J                         268\n",
       "1         AAA             2014J                         269\n",
       "2         BBB             2013J                         268\n",
       "3         BBB             2014J                         262\n",
       "4         BBB             2013B                         240"
      ]
     },
     "execution_count": 10,
     "metadata": {},
     "output_type": "execute_result"
    }
   ],
   "source": [
    "oulad_courses.head()"
   ]
  },
  {
   "cell_type": "code",
   "execution_count": 11,
   "id": "blind-texas",
   "metadata": {
    "execution": {
     "iopub.execute_input": "2021-05-11T17:39:05.465710Z",
     "iopub.status.busy": "2021-05-11T17:39:05.464842Z",
     "iopub.status.idle": "2021-05-11T17:39:05.651735Z",
     "shell.execute_reply": "2021-05-11T17:39:05.652420Z"
    },
    "papermill": {
     "duration": 0.288773,
     "end_time": "2021-05-11T17:39:05.652613",
     "exception": false,
     "start_time": "2021-05-11T17:39:05.363840",
     "status": "completed"
    },
    "tags": []
   },
   "outputs": [
    {
     "name": "stdout",
     "output_type": "stream",
     "text": [
      "\n",
      "Number of rows in data are 173912\n",
      "Number of columns in data are 5\n",
      "\n",
      "Following are the data types of columns:- \n",
      "id_assessment       int64\n",
      "id_student          int64\n",
      "date_submitted      int64\n",
      "is_banked           int64\n",
      "score             float64\n",
      "dtype: object\n",
      "Number of missing values in the data are:- \n",
      "id_assessment       0\n",
      "id_student          0\n",
      "date_submitted      0\n",
      "is_banked           0\n",
      "score             173\n",
      "dtype: int64\n",
      "Data Import is Complete\n"
     ]
    }
   ],
   "source": [
    "\"\"\"Loading Student Assessment Data\"\"\"\n",
    "\n",
    "# id_assessment            the identification number of the assessment\n",
    "# id_student               a unique identification number for the student\n",
    "# date_submitted           the date of student submission, measured as the number of days \n",
    "#.                         since the start of the module presentation\n",
    "# is_banked                a status flag indicating that the assessment result has been transferred from a previous presentation\n",
    "# score                    the studentís score in this assessment. The range is from 0 to 100. The score lower than 40 is \n",
    "#                          interpreted as Fail. The marks are in the range from 0 to 100\n",
    "\n",
    "oulad_student_assessment = Load_File('G:/DL,FE Projects/Education in Big Data/archive/studentAssessment.csv')"
   ]
  },
  {
   "cell_type": "code",
   "execution_count": 12,
   "id": "super-benefit",
   "metadata": {
    "execution": {
     "iopub.execute_input": "2021-05-11T17:39:05.850548Z",
     "iopub.status.busy": "2021-05-11T17:39:05.849144Z",
     "iopub.status.idle": "2021-05-11T17:39:05.884401Z",
     "shell.execute_reply": "2021-05-11T17:39:05.884983Z"
    },
    "papermill": {
     "duration": 0.141483,
     "end_time": "2021-05-11T17:39:05.885163",
     "exception": false,
     "start_time": "2021-05-11T17:39:05.743680",
     "status": "completed"
    },
    "tags": []
   },
   "outputs": [],
   "source": [
    "### As the number of missing values are very less as compared to the total data\n",
    "\n",
    "oulad_student_assessment = oulad_student_assessment.dropna()"
   ]
  },
  {
   "cell_type": "code",
   "execution_count": 13,
   "id": "artificial-basketball",
   "metadata": {
    "execution": {
     "iopub.execute_input": "2021-05-11T17:39:06.084500Z",
     "iopub.status.busy": "2021-05-11T17:39:06.083801Z",
     "iopub.status.idle": "2021-05-11T17:39:06.089756Z",
     "shell.execute_reply": "2021-05-11T17:39:06.089124Z"
    },
    "papermill": {
     "duration": 0.112513,
     "end_time": "2021-05-11T17:39:06.089919",
     "exception": false,
     "start_time": "2021-05-11T17:39:05.977406",
     "status": "completed"
    },
    "tags": []
   },
   "outputs": [
    {
     "data": {
      "text/html": [
       "<div>\n",
       "<style scoped>\n",
       "    .dataframe tbody tr th:only-of-type {\n",
       "        vertical-align: middle;\n",
       "    }\n",
       "\n",
       "    .dataframe tbody tr th {\n",
       "        vertical-align: top;\n",
       "    }\n",
       "\n",
       "    .dataframe thead th {\n",
       "        text-align: right;\n",
       "    }\n",
       "</style>\n",
       "<table border=\"1\" class=\"dataframe\">\n",
       "  <thead>\n",
       "    <tr style=\"text-align: right;\">\n",
       "      <th></th>\n",
       "      <th>id_assessment</th>\n",
       "      <th>id_student</th>\n",
       "      <th>date_submitted</th>\n",
       "      <th>is_banked</th>\n",
       "      <th>score</th>\n",
       "    </tr>\n",
       "  </thead>\n",
       "  <tbody>\n",
       "    <tr>\n",
       "      <th>0</th>\n",
       "      <td>1752</td>\n",
       "      <td>11391</td>\n",
       "      <td>18</td>\n",
       "      <td>0</td>\n",
       "      <td>78.0</td>\n",
       "    </tr>\n",
       "    <tr>\n",
       "      <th>1</th>\n",
       "      <td>1752</td>\n",
       "      <td>28400</td>\n",
       "      <td>22</td>\n",
       "      <td>0</td>\n",
       "      <td>70.0</td>\n",
       "    </tr>\n",
       "    <tr>\n",
       "      <th>2</th>\n",
       "      <td>1752</td>\n",
       "      <td>31604</td>\n",
       "      <td>17</td>\n",
       "      <td>0</td>\n",
       "      <td>72.0</td>\n",
       "    </tr>\n",
       "    <tr>\n",
       "      <th>3</th>\n",
       "      <td>1752</td>\n",
       "      <td>32885</td>\n",
       "      <td>26</td>\n",
       "      <td>0</td>\n",
       "      <td>69.0</td>\n",
       "    </tr>\n",
       "    <tr>\n",
       "      <th>4</th>\n",
       "      <td>1752</td>\n",
       "      <td>38053</td>\n",
       "      <td>19</td>\n",
       "      <td>0</td>\n",
       "      <td>79.0</td>\n",
       "    </tr>\n",
       "  </tbody>\n",
       "</table>\n",
       "</div>"
      ],
      "text/plain": [
       "   id_assessment  id_student  date_submitted  is_banked  score\n",
       "0           1752       11391              18          0   78.0\n",
       "1           1752       28400              22          0   70.0\n",
       "2           1752       31604              17          0   72.0\n",
       "3           1752       32885              26          0   69.0\n",
       "4           1752       38053              19          0   79.0"
      ]
     },
     "execution_count": 13,
     "metadata": {},
     "output_type": "execute_result"
    }
   ],
   "source": [
    "oulad_student_assessment.head()"
   ]
  },
  {
   "cell_type": "code",
   "execution_count": 14,
   "id": "bacterial-uncle",
   "metadata": {
    "execution": {
     "iopub.execute_input": "2021-05-11T17:39:06.281163Z",
     "iopub.status.busy": "2021-05-11T17:39:06.280389Z",
     "iopub.status.idle": "2021-05-11T17:39:06.344182Z",
     "shell.execute_reply": "2021-05-11T17:39:06.343449Z"
    },
    "papermill": {
     "duration": 0.160631,
     "end_time": "2021-05-11T17:39:06.344336",
     "exception": false,
     "start_time": "2021-05-11T17:39:06.183705",
     "status": "completed"
    },
    "tags": []
   },
   "outputs": [
    {
     "name": "stdout",
     "output_type": "stream",
     "text": [
      "\n",
      "Number of rows in data are 32593\n",
      "Number of columns in data are 5\n",
      "\n",
      "Following are the data types of columns:- \n",
      "code_module             object\n",
      "code_presentation       object\n",
      "id_student               int64\n",
      "date_registration      float64\n",
      "date_unregistration    float64\n",
      "dtype: object\n",
      "Number of missing values in the data are:- \n",
      "code_module                0\n",
      "code_presentation          0\n",
      "id_student                 0\n",
      "date_registration         45\n",
      "date_unregistration    22521\n",
      "dtype: int64\n",
      "Data Import is Complete\n"
     ]
    }
   ],
   "source": [
    "\"\"\"Loading Student Registration Data\"\"\"\n",
    "\n",
    "# code_module             an identification code for a module\n",
    "# code_presentation       the identification code of the presentation\n",
    "# id_student              a unique identification number for the student\n",
    "# date_registration       the date of student's registration on the module presentation, this is the number of days measured relative to \n",
    "#                         the start of the module-presentation (e.g. the negative value -30 means that the student registered to module\n",
    "#                         presentation 30 days before it started)\n",
    "# date_unregistration     date of student unregistration from the module presentation, this is the number of days measured relative to \n",
    "#                         the start of the module-presentation. Students, who completed the course have this field empty. Students who \n",
    "#                         unregistered have Withdrawal as the value of the final_result column in the studentInfo.csv file\n",
    "\n",
    "oulad_student_registration = Load_File('G:/DL,FE Projects/Education in Big Data/archive/studentRegistration.csv')"
   ]
  },
  {
   "cell_type": "code",
   "execution_count": 15,
   "id": "animated-remainder",
   "metadata": {
    "execution": {
     "iopub.execute_input": "2021-05-11T17:39:06.549320Z",
     "iopub.status.busy": "2021-05-11T17:39:06.543984Z",
     "iopub.status.idle": "2021-05-11T17:39:06.581210Z",
     "shell.execute_reply": "2021-05-11T17:39:06.581715Z"
    },
    "papermill": {
     "duration": 0.144102,
     "end_time": "2021-05-11T17:39:06.581904",
     "exception": false,
     "start_time": "2021-05-11T17:39:06.437802",
     "status": "completed"
    },
    "tags": []
   },
   "outputs": [],
   "source": [
    "## From the description it is clear that if value is missing in column date_unregistration then that means student\n",
    "## completed the course and if it is null then student withdrawn from the course\n",
    "\n",
    "## 0 : 'COMPLETED'\n",
    "## 1 : 'WITHDRAWN'\n",
    "\n",
    "## There are very few missing values in the data_registration column. I replaced it with the 0 \n",
    "\n",
    "oulad_student_registration['date_unregistration'] = ['0' if pd.isnull(days) else '1' for days in oulad_student_registration['date_unregistration']]\n",
    "oulad_student_registration['date_registration']   = oulad_student_registration['date_registration'].fillna(0).astype(float).apply(abs)\n"
   ]
  },
  {
   "cell_type": "code",
   "execution_count": 16,
   "id": "civil-brazil",
   "metadata": {
    "execution": {
     "iopub.execute_input": "2021-05-11T17:39:06.784526Z",
     "iopub.status.busy": "2021-05-11T17:39:06.783464Z",
     "iopub.status.idle": "2021-05-11T17:39:06.788324Z",
     "shell.execute_reply": "2021-05-11T17:39:06.787617Z"
    },
    "papermill": {
     "duration": 0.112328,
     "end_time": "2021-05-11T17:39:06.788482",
     "exception": false,
     "start_time": "2021-05-11T17:39:06.676154",
     "status": "completed"
    },
    "tags": []
   },
   "outputs": [
    {
     "data": {
      "text/html": [
       "<div>\n",
       "<style scoped>\n",
       "    .dataframe tbody tr th:only-of-type {\n",
       "        vertical-align: middle;\n",
       "    }\n",
       "\n",
       "    .dataframe tbody tr th {\n",
       "        vertical-align: top;\n",
       "    }\n",
       "\n",
       "    .dataframe thead th {\n",
       "        text-align: right;\n",
       "    }\n",
       "</style>\n",
       "<table border=\"1\" class=\"dataframe\">\n",
       "  <thead>\n",
       "    <tr style=\"text-align: right;\">\n",
       "      <th></th>\n",
       "      <th>code_module</th>\n",
       "      <th>code_presentation</th>\n",
       "      <th>id_student</th>\n",
       "      <th>date_registration</th>\n",
       "      <th>date_unregistration</th>\n",
       "    </tr>\n",
       "  </thead>\n",
       "  <tbody>\n",
       "    <tr>\n",
       "      <th>0</th>\n",
       "      <td>AAA</td>\n",
       "      <td>2013J</td>\n",
       "      <td>11391</td>\n",
       "      <td>159.0</td>\n",
       "      <td>0</td>\n",
       "    </tr>\n",
       "    <tr>\n",
       "      <th>1</th>\n",
       "      <td>AAA</td>\n",
       "      <td>2013J</td>\n",
       "      <td>28400</td>\n",
       "      <td>53.0</td>\n",
       "      <td>0</td>\n",
       "    </tr>\n",
       "    <tr>\n",
       "      <th>2</th>\n",
       "      <td>AAA</td>\n",
       "      <td>2013J</td>\n",
       "      <td>30268</td>\n",
       "      <td>92.0</td>\n",
       "      <td>1</td>\n",
       "    </tr>\n",
       "    <tr>\n",
       "      <th>3</th>\n",
       "      <td>AAA</td>\n",
       "      <td>2013J</td>\n",
       "      <td>31604</td>\n",
       "      <td>52.0</td>\n",
       "      <td>0</td>\n",
       "    </tr>\n",
       "    <tr>\n",
       "      <th>4</th>\n",
       "      <td>AAA</td>\n",
       "      <td>2013J</td>\n",
       "      <td>32885</td>\n",
       "      <td>176.0</td>\n",
       "      <td>0</td>\n",
       "    </tr>\n",
       "  </tbody>\n",
       "</table>\n",
       "</div>"
      ],
      "text/plain": [
       "  code_module code_presentation  id_student  date_registration  \\\n",
       "0         AAA             2013J       11391              159.0   \n",
       "1         AAA             2013J       28400               53.0   \n",
       "2         AAA             2013J       30268               92.0   \n",
       "3         AAA             2013J       31604               52.0   \n",
       "4         AAA             2013J       32885              176.0   \n",
       "\n",
       "  date_unregistration  \n",
       "0                   0  \n",
       "1                   0  \n",
       "2                   1  \n",
       "3                   0  \n",
       "4                   0  "
      ]
     },
     "execution_count": 16,
     "metadata": {},
     "output_type": "execute_result"
    }
   ],
   "source": [
    "oulad_student_registration.head()"
   ]
  },
  {
   "cell_type": "code",
   "execution_count": 17,
   "id": "original-logistics",
   "metadata": {
    "execution": {
     "iopub.execute_input": "2021-05-11T17:39:06.981310Z",
     "iopub.status.busy": "2021-05-11T17:39:06.980617Z",
     "iopub.status.idle": "2021-05-11T17:39:07.150740Z",
     "shell.execute_reply": "2021-05-11T17:39:07.150082Z"
    },
    "papermill": {
     "duration": 0.268258,
     "end_time": "2021-05-11T17:39:07.150930",
     "exception": false,
     "start_time": "2021-05-11T17:39:06.882672",
     "status": "completed"
    },
    "tags": []
   },
   "outputs": [
    {
     "name": "stdout",
     "output_type": "stream",
     "text": [
      "\n",
      "Number of rows in data are 32593\n",
      "Number of columns in data are 12\n",
      "\n",
      "Following are the data types of columns:- \n",
      "code_module             object\n",
      "code_presentation       object\n",
      "id_student               int64\n",
      "gender                  object\n",
      "region                  object\n",
      "highest_education       object\n",
      "imd_band                object\n",
      "age_band                object\n",
      "num_of_prev_attempts     int64\n",
      "studied_credits          int64\n",
      "disability              object\n",
      "final_result            object\n",
      "dtype: object\n",
      "Number of missing values in the data are:- \n",
      "code_module                0\n",
      "code_presentation          0\n",
      "id_student                 0\n",
      "gender                     0\n",
      "region                     0\n",
      "highest_education          0\n",
      "imd_band                1111\n",
      "age_band                   0\n",
      "num_of_prev_attempts       0\n",
      "studied_credits            0\n",
      "disability                 0\n",
      "final_result               0\n",
      "dtype: int64\n",
      "Data Import is Complete\n"
     ]
    }
   ],
   "source": [
    "\"\"\"Loading Student Information Data\"\"\"\n",
    "\n",
    "# code_module             an identification code for a module on which the student is registered\n",
    "# code_presentation       the identification code of the presentation during which the student is registered on the module\n",
    "# id_student              a unique identification number for the student\n",
    "# gender                  the studentís gender\n",
    "# region                  identifies the geographic region, where the student lived while taking the module-presentation\n",
    "# highest_education       highest student education level on entry to the module presentation\n",
    "# imd_band                specifies the Index of Multiple Depravation band of the place where the student lived during the module-presentation\n",
    "# age_band                band of the studentís age\n",
    "# num_of_prev_attempts    the number times the student has attempted this module\n",
    "# studied_credits         the total number of credits for the modules the student is currently studying\n",
    "# disability              indicates whether the student has declared a disability\n",
    "# final_result            studentís final result in the module-presentation\n",
    "\n",
    "oulad_student_info = Load_File('G:/DL,FE Projects/Education in Big Data/archive/studentInfo.csv')"
   ]
  },
  {
   "cell_type": "code",
   "execution_count": 18,
   "id": "suitable-first",
   "metadata": {
    "execution": {
     "iopub.execute_input": "2021-05-11T17:39:07.362911Z",
     "iopub.status.busy": "2021-05-11T17:39:07.361887Z",
     "iopub.status.idle": "2021-05-11T17:39:07.369310Z",
     "shell.execute_reply": "2021-05-11T17:39:07.368481Z"
    },
    "papermill": {
     "duration": 0.123253,
     "end_time": "2021-05-11T17:39:07.369502",
     "exception": false,
     "start_time": "2021-05-11T17:39:07.246249",
     "status": "completed"
    },
    "tags": []
   },
   "outputs": [
    {
     "name": "stdout",
     "output_type": "stream",
     "text": [
      "['90-100%' '20-30%' '30-40%' '50-60%' '80-90%' '70-80%' nan '60-70%'\n",
      " '40-50%' '10-20' '0-10%']\n"
     ]
    }
   ],
   "source": [
    "### There are missing values in the imd_band. As those represent then band in which they are, we can think of them \n",
    "### like a category and we can fill missing values with the mode\n",
    "\n",
    "print(oulad_student_info['imd_band'].unique())\n",
    "\n",
    "oulad_student_info['imd_band'] = oulad_student_info['imd_band'].fillna(oulad_student_info['imd_band'].mode()[0])"
   ]
  },
  {
   "cell_type": "code",
   "execution_count": 19,
   "id": "substantial-malaysia",
   "metadata": {
    "execution": {
     "iopub.execute_input": "2021-05-11T17:39:07.577263Z",
     "iopub.status.busy": "2021-05-11T17:39:07.576549Z",
     "iopub.status.idle": "2021-05-11T17:39:07.582067Z",
     "shell.execute_reply": "2021-05-11T17:39:07.580681Z"
    },
    "papermill": {
     "duration": 0.116639,
     "end_time": "2021-05-11T17:39:07.582245",
     "exception": false,
     "start_time": "2021-05-11T17:39:07.465606",
     "status": "completed"
    },
    "tags": []
   },
   "outputs": [
    {
     "data": {
      "text/html": [
       "<div>\n",
       "<style scoped>\n",
       "    .dataframe tbody tr th:only-of-type {\n",
       "        vertical-align: middle;\n",
       "    }\n",
       "\n",
       "    .dataframe tbody tr th {\n",
       "        vertical-align: top;\n",
       "    }\n",
       "\n",
       "    .dataframe thead th {\n",
       "        text-align: right;\n",
       "    }\n",
       "</style>\n",
       "<table border=\"1\" class=\"dataframe\">\n",
       "  <thead>\n",
       "    <tr style=\"text-align: right;\">\n",
       "      <th></th>\n",
       "      <th>code_module</th>\n",
       "      <th>code_presentation</th>\n",
       "      <th>id_student</th>\n",
       "      <th>gender</th>\n",
       "      <th>region</th>\n",
       "      <th>highest_education</th>\n",
       "      <th>imd_band</th>\n",
       "      <th>age_band</th>\n",
       "      <th>num_of_prev_attempts</th>\n",
       "      <th>studied_credits</th>\n",
       "      <th>disability</th>\n",
       "      <th>final_result</th>\n",
       "    </tr>\n",
       "  </thead>\n",
       "  <tbody>\n",
       "    <tr>\n",
       "      <th>0</th>\n",
       "      <td>AAA</td>\n",
       "      <td>2013J</td>\n",
       "      <td>11391</td>\n",
       "      <td>M</td>\n",
       "      <td>East Anglian Region</td>\n",
       "      <td>HE Qualification</td>\n",
       "      <td>90-100%</td>\n",
       "      <td>55&lt;=</td>\n",
       "      <td>0</td>\n",
       "      <td>240</td>\n",
       "      <td>N</td>\n",
       "      <td>Pass</td>\n",
       "    </tr>\n",
       "    <tr>\n",
       "      <th>1</th>\n",
       "      <td>AAA</td>\n",
       "      <td>2013J</td>\n",
       "      <td>28400</td>\n",
       "      <td>F</td>\n",
       "      <td>Scotland</td>\n",
       "      <td>HE Qualification</td>\n",
       "      <td>20-30%</td>\n",
       "      <td>35-55</td>\n",
       "      <td>0</td>\n",
       "      <td>60</td>\n",
       "      <td>N</td>\n",
       "      <td>Pass</td>\n",
       "    </tr>\n",
       "    <tr>\n",
       "      <th>2</th>\n",
       "      <td>AAA</td>\n",
       "      <td>2013J</td>\n",
       "      <td>30268</td>\n",
       "      <td>F</td>\n",
       "      <td>North Western Region</td>\n",
       "      <td>A Level or Equivalent</td>\n",
       "      <td>30-40%</td>\n",
       "      <td>35-55</td>\n",
       "      <td>0</td>\n",
       "      <td>60</td>\n",
       "      <td>Y</td>\n",
       "      <td>Withdrawn</td>\n",
       "    </tr>\n",
       "    <tr>\n",
       "      <th>3</th>\n",
       "      <td>AAA</td>\n",
       "      <td>2013J</td>\n",
       "      <td>31604</td>\n",
       "      <td>F</td>\n",
       "      <td>South East Region</td>\n",
       "      <td>A Level or Equivalent</td>\n",
       "      <td>50-60%</td>\n",
       "      <td>35-55</td>\n",
       "      <td>0</td>\n",
       "      <td>60</td>\n",
       "      <td>N</td>\n",
       "      <td>Pass</td>\n",
       "    </tr>\n",
       "    <tr>\n",
       "      <th>4</th>\n",
       "      <td>AAA</td>\n",
       "      <td>2013J</td>\n",
       "      <td>32885</td>\n",
       "      <td>F</td>\n",
       "      <td>West Midlands Region</td>\n",
       "      <td>Lower Than A Level</td>\n",
       "      <td>50-60%</td>\n",
       "      <td>0-35</td>\n",
       "      <td>0</td>\n",
       "      <td>60</td>\n",
       "      <td>N</td>\n",
       "      <td>Pass</td>\n",
       "    </tr>\n",
       "  </tbody>\n",
       "</table>\n",
       "</div>"
      ],
      "text/plain": [
       "  code_module code_presentation  id_student gender                region  \\\n",
       "0         AAA             2013J       11391      M   East Anglian Region   \n",
       "1         AAA             2013J       28400      F              Scotland   \n",
       "2         AAA             2013J       30268      F  North Western Region   \n",
       "3         AAA             2013J       31604      F     South East Region   \n",
       "4         AAA             2013J       32885      F  West Midlands Region   \n",
       "\n",
       "       highest_education imd_band age_band  num_of_prev_attempts  \\\n",
       "0       HE Qualification  90-100%     55<=                     0   \n",
       "1       HE Qualification   20-30%    35-55                     0   \n",
       "2  A Level or Equivalent   30-40%    35-55                     0   \n",
       "3  A Level or Equivalent   50-60%    35-55                     0   \n",
       "4     Lower Than A Level   50-60%     0-35                     0   \n",
       "\n",
       "   studied_credits disability final_result  \n",
       "0              240          N         Pass  \n",
       "1               60          N         Pass  \n",
       "2               60          Y    Withdrawn  \n",
       "3               60          N         Pass  \n",
       "4               60          N         Pass  "
      ]
     },
     "execution_count": 19,
     "metadata": {},
     "output_type": "execute_result"
    }
   ],
   "source": [
    "oulad_student_info.head()"
   ]
  },
  {
   "cell_type": "code",
   "execution_count": 20,
   "id": "advanced-afghanistan",
   "metadata": {
    "execution": {
     "iopub.execute_input": "2021-05-11T17:39:07.777090Z",
     "iopub.status.busy": "2021-05-11T17:39:07.776172Z",
     "iopub.status.idle": "2021-05-11T17:39:23.025003Z",
     "shell.execute_reply": "2021-05-11T17:39:23.023554Z"
    },
    "papermill": {
     "duration": 15.348617,
     "end_time": "2021-05-11T17:39:23.025174",
     "exception": false,
     "start_time": "2021-05-11T17:39:07.676557",
     "status": "completed"
    },
    "tags": []
   },
   "outputs": [
    {
     "name": "stdout",
     "output_type": "stream",
     "text": [
      "\n",
      "Number of rows in data are 10655280\n",
      "Number of columns in data are 6\n",
      "\n",
      "Following are the data types of columns:- \n",
      "code_module          object\n",
      "code_presentation    object\n",
      "id_student            int64\n",
      "id_site               int64\n",
      "date                  int64\n",
      "sum_click             int64\n",
      "dtype: object\n",
      "Number of missing values in the data are:- \n",
      "code_module          0\n",
      "code_presentation    0\n",
      "id_student           0\n",
      "id_site              0\n",
      "date                 0\n",
      "sum_click            0\n",
      "dtype: int64\n",
      "Data Import is Complete\n"
     ]
    }
   ],
   "source": [
    "# code_module           an identification code for a module\n",
    "# code_presentation     the identification code of the module presentation\n",
    "# id_student            a unique identification number for the student\n",
    "# id_site               an identification number for the VLE material\n",
    "# date                  the date of studentís interaction with the material measured as the \n",
    "#                       number of days since the start of the module-presentation\n",
    "# sum_click             the number of times a student interacts with the material in that day \n",
    "\n",
    "oulad_student_vle = Load_File('G:/DL,FE Projects/Education in Big Data/archive/studentVle.csv')"
   ]
  },
  {
   "cell_type": "code",
   "execution_count": 21,
   "id": "covered-differential",
   "metadata": {
    "execution": {
     "iopub.execute_input": "2021-05-11T17:39:23.228888Z",
     "iopub.status.busy": "2021-05-11T17:39:23.228193Z",
     "iopub.status.idle": "2021-05-11T17:39:23.232723Z",
     "shell.execute_reply": "2021-05-11T17:39:23.232194Z"
    },
    "papermill": {
     "duration": 0.111476,
     "end_time": "2021-05-11T17:39:23.232870",
     "exception": false,
     "start_time": "2021-05-11T17:39:23.121394",
     "status": "completed"
    },
    "tags": []
   },
   "outputs": [
    {
     "data": {
      "text/html": [
       "<div>\n",
       "<style scoped>\n",
       "    .dataframe tbody tr th:only-of-type {\n",
       "        vertical-align: middle;\n",
       "    }\n",
       "\n",
       "    .dataframe tbody tr th {\n",
       "        vertical-align: top;\n",
       "    }\n",
       "\n",
       "    .dataframe thead th {\n",
       "        text-align: right;\n",
       "    }\n",
       "</style>\n",
       "<table border=\"1\" class=\"dataframe\">\n",
       "  <thead>\n",
       "    <tr style=\"text-align: right;\">\n",
       "      <th></th>\n",
       "      <th>code_module</th>\n",
       "      <th>code_presentation</th>\n",
       "      <th>id_student</th>\n",
       "      <th>id_site</th>\n",
       "      <th>date</th>\n",
       "      <th>sum_click</th>\n",
       "    </tr>\n",
       "  </thead>\n",
       "  <tbody>\n",
       "    <tr>\n",
       "      <th>0</th>\n",
       "      <td>AAA</td>\n",
       "      <td>2013J</td>\n",
       "      <td>28400</td>\n",
       "      <td>546652</td>\n",
       "      <td>-10</td>\n",
       "      <td>4</td>\n",
       "    </tr>\n",
       "    <tr>\n",
       "      <th>1</th>\n",
       "      <td>AAA</td>\n",
       "      <td>2013J</td>\n",
       "      <td>28400</td>\n",
       "      <td>546652</td>\n",
       "      <td>-10</td>\n",
       "      <td>1</td>\n",
       "    </tr>\n",
       "    <tr>\n",
       "      <th>2</th>\n",
       "      <td>AAA</td>\n",
       "      <td>2013J</td>\n",
       "      <td>28400</td>\n",
       "      <td>546652</td>\n",
       "      <td>-10</td>\n",
       "      <td>1</td>\n",
       "    </tr>\n",
       "    <tr>\n",
       "      <th>3</th>\n",
       "      <td>AAA</td>\n",
       "      <td>2013J</td>\n",
       "      <td>28400</td>\n",
       "      <td>546614</td>\n",
       "      <td>-10</td>\n",
       "      <td>11</td>\n",
       "    </tr>\n",
       "    <tr>\n",
       "      <th>4</th>\n",
       "      <td>AAA</td>\n",
       "      <td>2013J</td>\n",
       "      <td>28400</td>\n",
       "      <td>546714</td>\n",
       "      <td>-10</td>\n",
       "      <td>1</td>\n",
       "    </tr>\n",
       "  </tbody>\n",
       "</table>\n",
       "</div>"
      ],
      "text/plain": [
       "  code_module code_presentation  id_student  id_site  date  sum_click\n",
       "0         AAA             2013J       28400   546652   -10          4\n",
       "1         AAA             2013J       28400   546652   -10          1\n",
       "2         AAA             2013J       28400   546652   -10          1\n",
       "3         AAA             2013J       28400   546614   -10         11\n",
       "4         AAA             2013J       28400   546714   -10          1"
      ]
     },
     "execution_count": 21,
     "metadata": {},
     "output_type": "execute_result"
    }
   ],
   "source": [
    "oulad_student_vle.head()"
   ]
  },
  {
   "cell_type": "code",
   "execution_count": 22,
   "id": "backed-compiler",
   "metadata": {
    "execution": {
     "iopub.execute_input": "2021-05-11T17:39:23.431049Z",
     "iopub.status.busy": "2021-05-11T17:39:23.430328Z",
     "iopub.status.idle": "2021-05-11T17:39:23.459826Z",
     "shell.execute_reply": "2021-05-11T17:39:23.460507Z"
    },
    "papermill": {
     "duration": 0.131595,
     "end_time": "2021-05-11T17:39:23.460703",
     "exception": false,
     "start_time": "2021-05-11T17:39:23.329108",
     "status": "completed"
    },
    "tags": []
   },
   "outputs": [
    {
     "name": "stdout",
     "output_type": "stream",
     "text": [
      "\n",
      "Number of rows in data are 6364\n",
      "Number of columns in data are 6\n",
      "\n",
      "Following are the data types of columns:- \n",
      "id_site                int64\n",
      "code_module           object\n",
      "code_presentation     object\n",
      "activity_type         object\n",
      "week_from            float64\n",
      "week_to              float64\n",
      "dtype: object\n",
      "Number of missing values in the data are:- \n",
      "id_site                 0\n",
      "code_module             0\n",
      "code_presentation       0\n",
      "activity_type           0\n",
      "week_from            5243\n",
      "week_to              5243\n",
      "dtype: int64\n",
      "Data Import is Complete\n"
     ]
    }
   ],
   "source": [
    "\"\"\"Loading VLE data\"\"\"\n",
    "# id_site              an identification number of the material\n",
    "# code_module          an identification code for module\n",
    "# code_presentation    the identification code of presentation\n",
    "# activity_type        the role associated with the module material\n",
    "# week_from            the week from which the material is planned to be used\n",
    "# week_to              week until which the material is planned to be used\n",
    "\n",
    "oulad_vle = Load_File('G:/DL,FE Projects/Education in Big Data/archive/vle.csv')"
   ]
  },
  {
   "cell_type": "code",
   "execution_count": 23,
   "id": "junior-desire",
   "metadata": {
    "execution": {
     "iopub.execute_input": "2021-05-11T17:39:23.657893Z",
     "iopub.status.busy": "2021-05-11T17:39:23.657158Z",
     "iopub.status.idle": "2021-05-11T17:39:23.663666Z",
     "shell.execute_reply": "2021-05-11T17:39:23.663088Z"
    },
    "papermill": {
     "duration": 0.105932,
     "end_time": "2021-05-11T17:39:23.663804",
     "exception": false,
     "start_time": "2021-05-11T17:39:23.557872",
     "status": "completed"
    },
    "tags": []
   },
   "outputs": [],
   "source": [
    "### As we can see that there are close to 80% values which are missing in the week_from and week_to columns\n",
    "### So I will remove those columns\n",
    "\n",
    "oulad_vle = oulad_vle.drop(['week_from', 'week_to'], axis = 1)"
   ]
  },
  {
   "cell_type": "code",
   "execution_count": 24,
   "id": "harmful-things",
   "metadata": {
    "execution": {
     "iopub.execute_input": "2021-05-11T17:39:23.868875Z",
     "iopub.status.busy": "2021-05-11T17:39:23.868152Z",
     "iopub.status.idle": "2021-05-11T17:39:23.871982Z",
     "shell.execute_reply": "2021-05-11T17:39:23.871385Z"
    },
    "papermill": {
     "duration": 0.111995,
     "end_time": "2021-05-11T17:39:23.872127",
     "exception": false,
     "start_time": "2021-05-11T17:39:23.760132",
     "status": "completed"
    },
    "tags": []
   },
   "outputs": [
    {
     "data": {
      "text/html": [
       "<div>\n",
       "<style scoped>\n",
       "    .dataframe tbody tr th:only-of-type {\n",
       "        vertical-align: middle;\n",
       "    }\n",
       "\n",
       "    .dataframe tbody tr th {\n",
       "        vertical-align: top;\n",
       "    }\n",
       "\n",
       "    .dataframe thead th {\n",
       "        text-align: right;\n",
       "    }\n",
       "</style>\n",
       "<table border=\"1\" class=\"dataframe\">\n",
       "  <thead>\n",
       "    <tr style=\"text-align: right;\">\n",
       "      <th></th>\n",
       "      <th>id_site</th>\n",
       "      <th>code_module</th>\n",
       "      <th>code_presentation</th>\n",
       "      <th>activity_type</th>\n",
       "    </tr>\n",
       "  </thead>\n",
       "  <tbody>\n",
       "    <tr>\n",
       "      <th>0</th>\n",
       "      <td>546943</td>\n",
       "      <td>AAA</td>\n",
       "      <td>2013J</td>\n",
       "      <td>resource</td>\n",
       "    </tr>\n",
       "    <tr>\n",
       "      <th>1</th>\n",
       "      <td>546712</td>\n",
       "      <td>AAA</td>\n",
       "      <td>2013J</td>\n",
       "      <td>oucontent</td>\n",
       "    </tr>\n",
       "    <tr>\n",
       "      <th>2</th>\n",
       "      <td>546998</td>\n",
       "      <td>AAA</td>\n",
       "      <td>2013J</td>\n",
       "      <td>resource</td>\n",
       "    </tr>\n",
       "    <tr>\n",
       "      <th>3</th>\n",
       "      <td>546888</td>\n",
       "      <td>AAA</td>\n",
       "      <td>2013J</td>\n",
       "      <td>url</td>\n",
       "    </tr>\n",
       "    <tr>\n",
       "      <th>4</th>\n",
       "      <td>547035</td>\n",
       "      <td>AAA</td>\n",
       "      <td>2013J</td>\n",
       "      <td>resource</td>\n",
       "    </tr>\n",
       "  </tbody>\n",
       "</table>\n",
       "</div>"
      ],
      "text/plain": [
       "   id_site code_module code_presentation activity_type\n",
       "0   546943         AAA             2013J      resource\n",
       "1   546712         AAA             2013J     oucontent\n",
       "2   546998         AAA             2013J      resource\n",
       "3   546888         AAA             2013J           url\n",
       "4   547035         AAA             2013J      resource"
      ]
     },
     "execution_count": 24,
     "metadata": {},
     "output_type": "execute_result"
    }
   ],
   "source": [
    "oulad_vle.head()"
   ]
  },
  {
   "attachments": {
    "image.png": {
     "image/png": "[encoded data removed]"
    }
   },
   "cell_type": "markdown",
   "id": "center-serum",
   "metadata": {
    "papermill": {
     "duration": 0.097598,
     "end_time": "2021-05-11T17:39:24.594523",
     "exception": false,
     "start_time": "2021-05-11T17:39:24.496925",
     "status": "completed"
    },
    "tags": []
   },
   "source": [
    "# MERGING DATA\n",
    "\n",
    "#### In this step we will merge different dataframe which we loaded in the previous steps. Based on the database schema we will \n",
    "#### join the different tables\n",
    "\n",
    "Database schema.png![image.png](attachment:image.png)"
   ]
  },
  {
   "cell_type": "markdown",
   "id": "amended-hundred",
   "metadata": {
    "papermill": {
     "duration": 0.097581,
     "end_time": "2021-05-11T17:39:24.789785",
     "exception": false,
     "start_time": "2021-05-11T17:39:24.692204",
     "status": "completed"
    },
    "tags": []
   },
   "source": [
    "###### In the first step I am merging studentVle table with the vle table. This can show us about the interactions of students with VLE."
   ]
  },
  {
   "cell_type": "code",
   "execution_count": 25,
   "id": "interested-overhead",
   "metadata": {
    "execution": {
     "iopub.execute_input": "2021-05-11T17:39:24.995915Z",
     "iopub.status.busy": "2021-05-11T17:39:24.995209Z",
     "iopub.status.idle": "2021-05-11T17:39:28.938728Z",
     "shell.execute_reply": "2021-05-11T17:39:28.938093Z"
    },
    "papermill": {
     "duration": 4.046813,
     "end_time": "2021-05-11T17:39:28.938883",
     "exception": false,
     "start_time": "2021-05-11T17:39:24.892070",
     "status": "completed"
    },
    "tags": []
   },
   "outputs": [],
   "source": [
    "student_vle_merge_vle = oulad_student_vle.merge(oulad_vle, \n",
    "                                                on=['id_site', 'code_module', 'code_presentation'],\n",
    "                                                how = 'left')"
   ]
  },
  {
   "cell_type": "code",
   "execution_count": 26,
   "id": "significant-stock",
   "metadata": {
    "execution": {
     "iopub.execute_input": "2021-05-11T17:39:29.151496Z",
     "iopub.status.busy": "2021-05-11T17:39:29.150288Z",
     "iopub.status.idle": "2021-05-11T17:39:30.100043Z",
     "shell.execute_reply": "2021-05-11T17:39:30.100597Z"
    },
    "papermill": {
     "duration": 1.062072,
     "end_time": "2021-05-11T17:39:30.100792",
     "exception": false,
     "start_time": "2021-05-11T17:39:29.038720",
     "status": "completed"
    },
    "tags": []
   },
   "outputs": [
    {
     "data": {
      "text/html": [
       "<div>\n",
       "<style scoped>\n",
       "    .dataframe tbody tr th:only-of-type {\n",
       "        vertical-align: middle;\n",
       "    }\n",
       "\n",
       "    .dataframe tbody tr th {\n",
       "        vertical-align: top;\n",
       "    }\n",
       "\n",
       "    .dataframe thead th {\n",
       "        text-align: right;\n",
       "    }\n",
       "</style>\n",
       "<table border=\"1\" class=\"dataframe\">\n",
       "  <thead>\n",
       "    <tr style=\"text-align: right;\">\n",
       "      <th></th>\n",
       "      <th>code_module</th>\n",
       "      <th>code_presentation</th>\n",
       "      <th>id_student</th>\n",
       "      <th>id_site</th>\n",
       "      <th>date</th>\n",
       "      <th>sum_click</th>\n",
       "      <th>activity_type</th>\n",
       "    </tr>\n",
       "  </thead>\n",
       "  <tbody>\n",
       "    <tr>\n",
       "      <th>0</th>\n",
       "      <td>AAA</td>\n",
       "      <td>2013J</td>\n",
       "      <td>28400</td>\n",
       "      <td>546652</td>\n",
       "      <td>-10</td>\n",
       "      <td>4</td>\n",
       "      <td>forumng</td>\n",
       "    </tr>\n",
       "    <tr>\n",
       "      <th>1</th>\n",
       "      <td>AAA</td>\n",
       "      <td>2013J</td>\n",
       "      <td>28400</td>\n",
       "      <td>546652</td>\n",
       "      <td>-10</td>\n",
       "      <td>1</td>\n",
       "      <td>forumng</td>\n",
       "    </tr>\n",
       "    <tr>\n",
       "      <th>2</th>\n",
       "      <td>AAA</td>\n",
       "      <td>2013J</td>\n",
       "      <td>28400</td>\n",
       "      <td>546652</td>\n",
       "      <td>-10</td>\n",
       "      <td>1</td>\n",
       "      <td>forumng</td>\n",
       "    </tr>\n",
       "    <tr>\n",
       "      <th>3</th>\n",
       "      <td>AAA</td>\n",
       "      <td>2013J</td>\n",
       "      <td>28400</td>\n",
       "      <td>546614</td>\n",
       "      <td>-10</td>\n",
       "      <td>11</td>\n",
       "      <td>homepage</td>\n",
       "    </tr>\n",
       "    <tr>\n",
       "      <th>4</th>\n",
       "      <td>AAA</td>\n",
       "      <td>2013J</td>\n",
       "      <td>28400</td>\n",
       "      <td>546714</td>\n",
       "      <td>-10</td>\n",
       "      <td>1</td>\n",
       "      <td>oucontent</td>\n",
       "    </tr>\n",
       "    <tr>\n",
       "      <th>5</th>\n",
       "      <td>AAA</td>\n",
       "      <td>2013J</td>\n",
       "      <td>28400</td>\n",
       "      <td>546652</td>\n",
       "      <td>-10</td>\n",
       "      <td>8</td>\n",
       "      <td>forumng</td>\n",
       "    </tr>\n",
       "    <tr>\n",
       "      <th>6</th>\n",
       "      <td>AAA</td>\n",
       "      <td>2013J</td>\n",
       "      <td>28400</td>\n",
       "      <td>546876</td>\n",
       "      <td>-10</td>\n",
       "      <td>2</td>\n",
       "      <td>subpage</td>\n",
       "    </tr>\n",
       "    <tr>\n",
       "      <th>7</th>\n",
       "      <td>AAA</td>\n",
       "      <td>2013J</td>\n",
       "      <td>28400</td>\n",
       "      <td>546688</td>\n",
       "      <td>-10</td>\n",
       "      <td>15</td>\n",
       "      <td>oucontent</td>\n",
       "    </tr>\n",
       "    <tr>\n",
       "      <th>8</th>\n",
       "      <td>AAA</td>\n",
       "      <td>2013J</td>\n",
       "      <td>28400</td>\n",
       "      <td>546662</td>\n",
       "      <td>-10</td>\n",
       "      <td>17</td>\n",
       "      <td>oucontent</td>\n",
       "    </tr>\n",
       "    <tr>\n",
       "      <th>9</th>\n",
       "      <td>AAA</td>\n",
       "      <td>2013J</td>\n",
       "      <td>28400</td>\n",
       "      <td>546890</td>\n",
       "      <td>-10</td>\n",
       "      <td>1</td>\n",
       "      <td>url</td>\n",
       "    </tr>\n",
       "  </tbody>\n",
       "</table>\n",
       "</div>"
      ],
      "text/plain": [
       "  code_module code_presentation  id_student  id_site  date  sum_click  \\\n",
       "0         AAA             2013J       28400   546652   -10          4   \n",
       "1         AAA             2013J       28400   546652   -10          1   \n",
       "2         AAA             2013J       28400   546652   -10          1   \n",
       "3         AAA             2013J       28400   546614   -10         11   \n",
       "4         AAA             2013J       28400   546714   -10          1   \n",
       "5         AAA             2013J       28400   546652   -10          8   \n",
       "6         AAA             2013J       28400   546876   -10          2   \n",
       "7         AAA             2013J       28400   546688   -10         15   \n",
       "8         AAA             2013J       28400   546662   -10         17   \n",
       "9         AAA             2013J       28400   546890   -10          1   \n",
       "\n",
       "  activity_type  \n",
       "0       forumng  \n",
       "1       forumng  \n",
       "2       forumng  \n",
       "3      homepage  \n",
       "4     oucontent  \n",
       "5       forumng  \n",
       "6       subpage  \n",
       "7     oucontent  \n",
       "8     oucontent  \n",
       "9           url  "
      ]
     },
     "execution_count": 26,
     "metadata": {},
     "output_type": "execute_result"
    }
   ],
   "source": [
    "## We can see that there are multiple interactions from a single student even before the course started. We can assume\n",
    "## that if student is interested in the course then that student will interact with the material of course before the\n",
    "## course starts\n",
    "\n",
    "## Number of clicks before the course can be an importtant factor which can help us determine whether student will\n",
    "## perform good or bad in the course. Therefore for each student we will calculate the number of clicks before and\n",
    "## after course went live\n",
    "\n",
    "student_vle_merge_vle[(student_vle_merge_vle['id_student']==28400) & (student_vle_merge_vle['date']<0)].head(10)"
   ]
  },
  {
   "cell_type": "code",
   "execution_count": 27,
   "id": "opponent-client",
   "metadata": {
    "execution": {
     "iopub.execute_input": "2021-05-11T17:39:30.337675Z",
     "iopub.status.busy": "2021-05-11T17:39:30.332748Z",
     "iopub.status.idle": "2021-05-11T17:39:33.283340Z",
     "shell.execute_reply": "2021-05-11T17:39:33.282714Z"
    },
    "papermill": {
     "duration": 3.081968,
     "end_time": "2021-05-11T17:39:33.283510",
     "exception": false,
     "start_time": "2021-05-11T17:39:30.201542",
     "status": "completed"
    },
    "tags": []
   },
   "outputs": [],
   "source": [
    "student_vle_merge_vle['Click_Timing'] = ['Before' if date < 0 else 'After' for date in student_vle_merge_vle['date']]"
   ]
  },
  {
   "cell_type": "code",
   "execution_count": 28,
   "id": "coral-condition",
   "metadata": {
    "execution": {
     "iopub.execute_input": "2021-05-11T17:39:34.846391Z",
     "iopub.status.busy": "2021-05-11T17:39:34.844919Z",
     "iopub.status.idle": "2021-05-11T17:39:36.434468Z",
     "shell.execute_reply": "2021-05-11T17:39:36.435026Z"
    },
    "papermill": {
     "duration": 3.052459,
     "end_time": "2021-05-11T17:39:36.435233",
     "exception": false,
     "start_time": "2021-05-11T17:39:33.382774",
     "status": "completed"
    },
    "tags": []
   },
   "outputs": [],
   "source": [
    "# Creating After clicks and Before Clicks columns based on the data\n",
    "\n",
    "student_vle_merge_vle['After_Clicks'] = np.where(student_vle_merge_vle['Click_Timing'] =='After',\n",
    "                                                 student_vle_merge_vle['sum_click'], 0)\n",
    "\n",
    "student_vle_merge_vle['Before_Clicks']= np.where(student_vle_merge_vle['Click_Timing'] =='Before',\n",
    "                                                 student_vle_merge_vle['sum_click'], 0)"
   ]
  },
  {
   "cell_type": "code",
   "execution_count": 29,
   "id": "interpreted-density",
   "metadata": {
    "execution": {
     "iopub.execute_input": "2021-05-11T17:39:36.643428Z",
     "iopub.status.busy": "2021-05-11T17:39:36.642002Z",
     "iopub.status.idle": "2021-05-11T17:39:40.900187Z",
     "shell.execute_reply": "2021-05-11T17:39:40.899585Z"
    },
    "papermill": {
     "duration": 4.366017,
     "end_time": "2021-05-11T17:39:40.900384",
     "exception": false,
     "start_time": "2021-05-11T17:39:36.534367",
     "status": "completed"
    },
    "scrolled": true,
    "tags": []
   },
   "outputs": [],
   "source": [
    "# Create a new dataframe by Grouping the columns\n",
    "\n",
    "student_vle_merge_vle_group = student_vle_merge_vle.groupby(['code_module', \n",
    "                                                             'code_presentation', \n",
    "                                                             'id_student']\n",
    "                                                            ,as_index=False)['sum_click', 'After_Clicks', 'Before_Clicks'].sum()"
   ]
  },
  {
   "cell_type": "code",
   "execution_count": 30,
   "id": "israeli-withdrawal",
   "metadata": {
    "execution": {
     "iopub.execute_input": "2021-05-11T17:39:41.122745Z",
     "iopub.status.busy": "2021-05-11T17:39:41.120220Z",
     "iopub.status.idle": "2021-05-11T17:39:41.128190Z",
     "shell.execute_reply": "2021-05-11T17:39:41.127470Z"
    },
    "papermill": {
     "duration": 0.12273,
     "end_time": "2021-05-11T17:39:41.128342",
     "exception": false,
     "start_time": "2021-05-11T17:39:41.005612",
     "status": "completed"
    },
    "tags": []
   },
   "outputs": [
    {
     "data": {
      "text/plain": [
       "code_module          0\n",
       "code_presentation    0\n",
       "id_student           0\n",
       "sum_click            0\n",
       "After_Clicks         0\n",
       "Before_Clicks        0\n",
       "dtype: int64"
      ]
     },
     "execution_count": 30,
     "metadata": {},
     "output_type": "execute_result"
    }
   ],
   "source": [
    "student_vle_merge_vle_group.isnull().sum()"
   ]
  },
  {
   "cell_type": "code",
   "execution_count": 31,
   "id": "modern-playing",
   "metadata": {
    "execution": {
     "iopub.execute_input": "2021-05-11T17:39:52.785414Z",
     "iopub.status.busy": "2021-05-11T17:39:52.784041Z",
     "iopub.status.idle": "2021-05-11T17:39:54.273854Z",
     "shell.execute_reply": "2021-05-11T17:39:54.273303Z"
    },
    "papermill": {
     "duration": 1.619727,
     "end_time": "2021-05-11T17:39:54.274022",
     "exception": false,
     "start_time": "2021-05-11T17:39:52.654295",
     "status": "completed"
    },
    "tags": []
   },
   "outputs": [
    {
     "data": {
      "text/plain": [
       "<AxesSubplot:xlabel='activity_type'>"
      ]
     },
     "execution_count": 31,
     "metadata": {},
     "output_type": "execute_result"
    },
    {
     "data": {
      "image/png": "[encoded data removed]",
      "text/plain": [
       "<Figure size 1080x360 with 1 Axes>"
      ]
     },
     "metadata": {
      "needs_background": "light"
     },
     "output_type": "display_data"
    }
   ],
   "source": [
    "# In this step I am plotting average interaction of student with each activity type. \n",
    "# We can see that most of the interactions are with the QUIZ, OUCONTENT, GLOSSARY, OUWIKI which is understandable as \n",
    "# student interact mostly with content to learn stuff and then use glossary to understand the study material. Also,\n",
    "# interactions with quiz is evident as after learning something, there are quizzes on the platform after completing chapters.\n",
    "\n",
    "plt.figure(figsize = (15, 5))\n",
    "plt.xticks(rotation=90, fontsize=15)\n",
    "plt.yticks(rotation=0, fontsize=12)\n",
    "sns.set_style(\"whitegrid\")\n",
    "student_vle_merge_vle.groupby(['activity_type'], as_index=True)['sum_click'].mean().sort_values(ascending=False).plot(kind='bar')\n"
   ]
  },
  {
   "cell_type": "code",
   "execution_count": 32,
   "id": "productive-distribution",
   "metadata": {
    "execution": {
     "iopub.execute_input": "2021-05-11T17:39:54.498246Z",
     "iopub.status.busy": "2021-05-11T17:39:54.497505Z",
     "iopub.status.idle": "2021-05-11T17:39:54.502383Z",
     "shell.execute_reply": "2021-05-11T17:39:54.501717Z"
    },
    "papermill": {
     "duration": 0.12383,
     "end_time": "2021-05-11T17:39:54.502533",
     "exception": false,
     "start_time": "2021-05-11T17:39:54.378703",
     "status": "completed"
    },
    "tags": []
   },
   "outputs": [
    {
     "data": {
      "text/html": [
       "<div>\n",
       "<style scoped>\n",
       "    .dataframe tbody tr th:only-of-type {\n",
       "        vertical-align: middle;\n",
       "    }\n",
       "\n",
       "    .dataframe tbody tr th {\n",
       "        vertical-align: top;\n",
       "    }\n",
       "\n",
       "    .dataframe thead th {\n",
       "        text-align: right;\n",
       "    }\n",
       "</style>\n",
       "<table border=\"1\" class=\"dataframe\">\n",
       "  <thead>\n",
       "    <tr style=\"text-align: right;\">\n",
       "      <th></th>\n",
       "      <th>code_module</th>\n",
       "      <th>code_presentation</th>\n",
       "      <th>id_student</th>\n",
       "      <th>id_site</th>\n",
       "      <th>date</th>\n",
       "      <th>sum_click</th>\n",
       "      <th>activity_type</th>\n",
       "      <th>Click_Timing</th>\n",
       "      <th>After_Clicks</th>\n",
       "      <th>Before_Clicks</th>\n",
       "    </tr>\n",
       "  </thead>\n",
       "  <tbody>\n",
       "    <tr>\n",
       "      <th>0</th>\n",
       "      <td>AAA</td>\n",
       "      <td>2013J</td>\n",
       "      <td>28400</td>\n",
       "      <td>546652</td>\n",
       "      <td>-10</td>\n",
       "      <td>4</td>\n",
       "      <td>forumng</td>\n",
       "      <td>Before</td>\n",
       "      <td>0</td>\n",
       "      <td>4</td>\n",
       "    </tr>\n",
       "    <tr>\n",
       "      <th>1</th>\n",
       "      <td>AAA</td>\n",
       "      <td>2013J</td>\n",
       "      <td>28400</td>\n",
       "      <td>546652</td>\n",
       "      <td>-10</td>\n",
       "      <td>1</td>\n",
       "      <td>forumng</td>\n",
       "      <td>Before</td>\n",
       "      <td>0</td>\n",
       "      <td>1</td>\n",
       "    </tr>\n",
       "    <tr>\n",
       "      <th>2</th>\n",
       "      <td>AAA</td>\n",
       "      <td>2013J</td>\n",
       "      <td>28400</td>\n",
       "      <td>546652</td>\n",
       "      <td>-10</td>\n",
       "      <td>1</td>\n",
       "      <td>forumng</td>\n",
       "      <td>Before</td>\n",
       "      <td>0</td>\n",
       "      <td>1</td>\n",
       "    </tr>\n",
       "    <tr>\n",
       "      <th>3</th>\n",
       "      <td>AAA</td>\n",
       "      <td>2013J</td>\n",
       "      <td>28400</td>\n",
       "      <td>546614</td>\n",
       "      <td>-10</td>\n",
       "      <td>11</td>\n",
       "      <td>homepage</td>\n",
       "      <td>Before</td>\n",
       "      <td>0</td>\n",
       "      <td>11</td>\n",
       "    </tr>\n",
       "    <tr>\n",
       "      <th>4</th>\n",
       "      <td>AAA</td>\n",
       "      <td>2013J</td>\n",
       "      <td>28400</td>\n",
       "      <td>546714</td>\n",
       "      <td>-10</td>\n",
       "      <td>1</td>\n",
       "      <td>oucontent</td>\n",
       "      <td>Before</td>\n",
       "      <td>0</td>\n",
       "      <td>1</td>\n",
       "    </tr>\n",
       "  </tbody>\n",
       "</table>\n",
       "</div>"
      ],
      "text/plain": [
       "  code_module code_presentation  id_student  id_site  date  sum_click  \\\n",
       "0         AAA             2013J       28400   546652   -10          4   \n",
       "1         AAA             2013J       28400   546652   -10          1   \n",
       "2         AAA             2013J       28400   546652   -10          1   \n",
       "3         AAA             2013J       28400   546614   -10         11   \n",
       "4         AAA             2013J       28400   546714   -10          1   \n",
       "\n",
       "  activity_type Click_Timing  After_Clicks  Before_Clicks  \n",
       "0       forumng       Before             0              4  \n",
       "1       forumng       Before             0              1  \n",
       "2       forumng       Before             0              1  \n",
       "3      homepage       Before             0             11  \n",
       "4     oucontent       Before             0              1  "
      ]
     },
     "execution_count": 32,
     "metadata": {},
     "output_type": "execute_result"
    }
   ],
   "source": [
    "student_vle_merge_vle.head()"
   ]
  },
  {
   "cell_type": "markdown",
   "id": "caroline-vancouver",
   "metadata": {
    "papermill": {
     "duration": 0.106809,
     "end_time": "2021-05-11T17:39:54.716019",
     "exception": false,
     "start_time": "2021-05-11T17:39:54.609210",
     "status": "completed"
    },
    "tags": []
   },
   "source": [
    "###### In this step I will merge studentRegistration table with the courses table to understand the related between registrations and length of course"
   ]
  },
  {
   "cell_type": "code",
   "execution_count": 33,
   "id": "turned-strip",
   "metadata": {
    "execution": {
     "iopub.execute_input": "2021-05-11T17:39:54.941747Z",
     "iopub.status.busy": "2021-05-11T17:39:54.941059Z",
     "iopub.status.idle": "2021-05-11T17:39:54.951041Z",
     "shell.execute_reply": "2021-05-11T17:39:54.950300Z"
    },
    "papermill": {
     "duration": 0.129781,
     "end_time": "2021-05-11T17:39:54.951203",
     "exception": false,
     "start_time": "2021-05-11T17:39:54.821422",
     "status": "completed"
    },
    "tags": []
   },
   "outputs": [],
   "source": [
    "student_registration_merge_courses = oulad_student_registration.merge(oulad_courses, \n",
    "                                                                      on = ['code_module', 'code_presentation'],\n",
    "                                                                      how = 'left')"
   ]
  },
  {
   "cell_type": "code",
   "execution_count": 34,
   "id": "committed-clarity",
   "metadata": {
    "execution": {
     "iopub.execute_input": "2021-05-11T17:39:55.168768Z",
     "iopub.status.busy": "2021-05-11T17:39:55.168034Z",
     "iopub.status.idle": "2021-05-11T17:39:55.201748Z",
     "shell.execute_reply": "2021-05-11T17:39:55.202274Z"
    },
    "papermill": {
     "duration": 0.145768,
     "end_time": "2021-05-11T17:39:55.202479",
     "exception": false,
     "start_time": "2021-05-11T17:39:55.056711",
     "status": "completed"
    },
    "tags": []
   },
   "outputs": [],
   "source": [
    "student_registration_merge_courses['Year'] = student_registration_merge_courses['code_presentation'].str[0:4]\n",
    "student_registration_merge_courses['Starting_Month'] = ['February' if code[-1] == 'B' else 'October' \n",
    "                                                        for code in student_registration_merge_courses['code_presentation']]"
   ]
  },
  {
   "cell_type": "code",
   "execution_count": 35,
   "id": "welsh-geology",
   "metadata": {
    "execution": {
     "iopub.execute_input": "2021-05-11T17:39:55.416154Z",
     "iopub.status.busy": "2021-05-11T17:39:55.415363Z",
     "iopub.status.idle": "2021-05-11T17:39:55.439293Z",
     "shell.execute_reply": "2021-05-11T17:39:55.438434Z"
    },
    "papermill": {
     "duration": 0.13182,
     "end_time": "2021-05-11T17:39:55.439457",
     "exception": false,
     "start_time": "2021-05-11T17:39:55.307637",
     "status": "completed"
    },
    "tags": []
   },
   "outputs": [
    {
     "data": {
      "text/html": [
       "<div>\n",
       "<style scoped>\n",
       "    .dataframe tbody tr th:only-of-type {\n",
       "        vertical-align: middle;\n",
       "    }\n",
       "\n",
       "    .dataframe tbody tr th {\n",
       "        vertical-align: top;\n",
       "    }\n",
       "\n",
       "    .dataframe thead th {\n",
       "        text-align: right;\n",
       "    }\n",
       "</style>\n",
       "<table border=\"1\" class=\"dataframe\">\n",
       "  <thead>\n",
       "    <tr style=\"text-align: right;\">\n",
       "      <th></th>\n",
       "      <th>code_module</th>\n",
       "      <th>code_presentation</th>\n",
       "      <th>id_student</th>\n",
       "      <th>date_registration</th>\n",
       "      <th>date_unregistration</th>\n",
       "      <th>module_presentation_length</th>\n",
       "      <th>Year</th>\n",
       "      <th>Starting_Month</th>\n",
       "    </tr>\n",
       "  </thead>\n",
       "  <tbody>\n",
       "    <tr>\n",
       "      <th>0</th>\n",
       "      <td>AAA</td>\n",
       "      <td>2013J</td>\n",
       "      <td>11391</td>\n",
       "      <td>159.0</td>\n",
       "      <td>0</td>\n",
       "      <td>268</td>\n",
       "      <td>2013</td>\n",
       "      <td>October</td>\n",
       "    </tr>\n",
       "    <tr>\n",
       "      <th>1</th>\n",
       "      <td>AAA</td>\n",
       "      <td>2013J</td>\n",
       "      <td>28400</td>\n",
       "      <td>53.0</td>\n",
       "      <td>0</td>\n",
       "      <td>268</td>\n",
       "      <td>2013</td>\n",
       "      <td>October</td>\n",
       "    </tr>\n",
       "    <tr>\n",
       "      <th>2</th>\n",
       "      <td>AAA</td>\n",
       "      <td>2013J</td>\n",
       "      <td>30268</td>\n",
       "      <td>92.0</td>\n",
       "      <td>1</td>\n",
       "      <td>268</td>\n",
       "      <td>2013</td>\n",
       "      <td>October</td>\n",
       "    </tr>\n",
       "    <tr>\n",
       "      <th>3</th>\n",
       "      <td>AAA</td>\n",
       "      <td>2013J</td>\n",
       "      <td>31604</td>\n",
       "      <td>52.0</td>\n",
       "      <td>0</td>\n",
       "      <td>268</td>\n",
       "      <td>2013</td>\n",
       "      <td>October</td>\n",
       "    </tr>\n",
       "    <tr>\n",
       "      <th>4</th>\n",
       "      <td>AAA</td>\n",
       "      <td>2013J</td>\n",
       "      <td>32885</td>\n",
       "      <td>176.0</td>\n",
       "      <td>0</td>\n",
       "      <td>268</td>\n",
       "      <td>2013</td>\n",
       "      <td>October</td>\n",
       "    </tr>\n",
       "    <tr>\n",
       "      <th>...</th>\n",
       "      <td>...</td>\n",
       "      <td>...</td>\n",
       "      <td>...</td>\n",
       "      <td>...</td>\n",
       "      <td>...</td>\n",
       "      <td>...</td>\n",
       "      <td>...</td>\n",
       "      <td>...</td>\n",
       "    </tr>\n",
       "    <tr>\n",
       "      <th>32588</th>\n",
       "      <td>GGG</td>\n",
       "      <td>2014J</td>\n",
       "      <td>2640965</td>\n",
       "      <td>4.0</td>\n",
       "      <td>0</td>\n",
       "      <td>269</td>\n",
       "      <td>2014</td>\n",
       "      <td>October</td>\n",
       "    </tr>\n",
       "    <tr>\n",
       "      <th>32589</th>\n",
       "      <td>GGG</td>\n",
       "      <td>2014J</td>\n",
       "      <td>2645731</td>\n",
       "      <td>23.0</td>\n",
       "      <td>0</td>\n",
       "      <td>269</td>\n",
       "      <td>2014</td>\n",
       "      <td>October</td>\n",
       "    </tr>\n",
       "    <tr>\n",
       "      <th>32590</th>\n",
       "      <td>GGG</td>\n",
       "      <td>2014J</td>\n",
       "      <td>2648187</td>\n",
       "      <td>129.0</td>\n",
       "      <td>0</td>\n",
       "      <td>269</td>\n",
       "      <td>2014</td>\n",
       "      <td>October</td>\n",
       "    </tr>\n",
       "    <tr>\n",
       "      <th>32591</th>\n",
       "      <td>GGG</td>\n",
       "      <td>2014J</td>\n",
       "      <td>2679821</td>\n",
       "      <td>49.0</td>\n",
       "      <td>1</td>\n",
       "      <td>269</td>\n",
       "      <td>2014</td>\n",
       "      <td>October</td>\n",
       "    </tr>\n",
       "    <tr>\n",
       "      <th>32592</th>\n",
       "      <td>GGG</td>\n",
       "      <td>2014J</td>\n",
       "      <td>2684003</td>\n",
       "      <td>28.0</td>\n",
       "      <td>0</td>\n",
       "      <td>269</td>\n",
       "      <td>2014</td>\n",
       "      <td>October</td>\n",
       "    </tr>\n",
       "  </tbody>\n",
       "</table>\n",
       "<p>32593 rows × 8 columns</p>\n",
       "</div>"
      ],
      "text/plain": [
       "      code_module code_presentation  id_student  date_registration  \\\n",
       "0             AAA             2013J       11391              159.0   \n",
       "1             AAA             2013J       28400               53.0   \n",
       "2             AAA             2013J       30268               92.0   \n",
       "3             AAA             2013J       31604               52.0   \n",
       "4             AAA             2013J       32885              176.0   \n",
       "...           ...               ...         ...                ...   \n",
       "32588         GGG             2014J     2640965                4.0   \n",
       "32589         GGG             2014J     2645731               23.0   \n",
       "32590         GGG             2014J     2648187              129.0   \n",
       "32591         GGG             2014J     2679821               49.0   \n",
       "32592         GGG             2014J     2684003               28.0   \n",
       "\n",
       "      date_unregistration  module_presentation_length  Year Starting_Month  \n",
       "0                       0                         268  2013        October  \n",
       "1                       0                         268  2013        October  \n",
       "2                       1                         268  2013        October  \n",
       "3                       0                         268  2013        October  \n",
       "4                       0                         268  2013        October  \n",
       "...                   ...                         ...   ...            ...  \n",
       "32588                   0                         269  2014        October  \n",
       "32589                   0                         269  2014        October  \n",
       "32590                   0                         269  2014        October  \n",
       "32591                   1                         269  2014        October  \n",
       "32592                   0                         269  2014        October  \n",
       "\n",
       "[32593 rows x 8 columns]"
      ]
     },
     "execution_count": 35,
     "metadata": {},
     "output_type": "execute_result"
    }
   ],
   "source": [
    "student_registration_merge_courses"
   ]
  },
  {
   "cell_type": "code",
   "execution_count": 36,
   "id": "usual-candle",
   "metadata": {
    "execution": {
     "iopub.execute_input": "2021-05-11T17:39:56.212277Z",
     "iopub.status.busy": "2021-05-11T17:39:56.211271Z",
     "iopub.status.idle": "2021-05-11T17:39:56.329537Z",
     "shell.execute_reply": "2021-05-11T17:39:56.328815Z"
    },
    "papermill": {
     "duration": 0.305681,
     "end_time": "2021-05-11T17:39:56.329693",
     "exception": false,
     "start_time": "2021-05-11T17:39:56.024012",
     "status": "completed"
    },
    "tags": []
   },
   "outputs": [
    {
     "data": {
      "image/png": "[encoded data removed]",
      "text/plain": [
       "<Figure size 432x288 with 1 Axes>"
      ]
     },
     "metadata": {},
     "output_type": "display_data"
    }
   ],
   "source": [
    "### This plot shows us that there are more registrations in 2014 as compared to 2013\n",
    "sns.countplot(x ='Year', data = student_registration_merge_courses)\n",
    " \n",
    "# Show the plot\n",
    "plt.show()"
   ]
  },
  {
   "cell_type": "code",
   "execution_count": 37,
   "id": "imposed-freeze",
   "metadata": {
    "execution": {
     "iopub.execute_input": "2021-05-11T17:39:57.075299Z",
     "iopub.status.busy": "2021-05-11T17:39:57.073692Z",
     "iopub.status.idle": "2021-05-11T17:39:57.100866Z",
     "shell.execute_reply": "2021-05-11T17:39:57.100165Z"
    },
    "papermill": {
     "duration": 0.179257,
     "end_time": "2021-05-11T17:39:57.101078",
     "exception": false,
     "start_time": "2021-05-11T17:39:56.921821",
     "status": "completed"
    },
    "tags": []
   },
   "outputs": [
    {
     "data": {
      "text/html": [
       "<div>\n",
       "<style scoped>\n",
       "    .dataframe tbody tr th:only-of-type {\n",
       "        vertical-align: middle;\n",
       "    }\n",
       "\n",
       "    .dataframe tbody tr th {\n",
       "        vertical-align: top;\n",
       "    }\n",
       "\n",
       "    .dataframe thead th {\n",
       "        text-align: right;\n",
       "    }\n",
       "</style>\n",
       "<table border=\"1\" class=\"dataframe\">\n",
       "  <thead>\n",
       "    <tr style=\"text-align: right;\">\n",
       "      <th></th>\n",
       "      <th>date_unregistration</th>\n",
       "      <th>module_presentation_length</th>\n",
       "    </tr>\n",
       "  </thead>\n",
       "  <tbody>\n",
       "    <tr>\n",
       "      <th>0</th>\n",
       "      <td>0</td>\n",
       "      <td>256.095378</td>\n",
       "    </tr>\n",
       "    <tr>\n",
       "      <th>1</th>\n",
       "      <td>1</td>\n",
       "      <td>255.819500</td>\n",
       "    </tr>\n",
       "  </tbody>\n",
       "</table>\n",
       "</div>"
      ],
      "text/plain": [
       "  date_unregistration  module_presentation_length\n",
       "0                   0                  256.095378\n",
       "1                   1                  255.819500"
      ]
     },
     "execution_count": 37,
     "metadata": {},
     "output_type": "execute_result"
    }
   ],
   "source": [
    "### From the below table we can see that course length doesn't have much difference for the student who withdrawn\n",
    "### and students who completed the course\n",
    "\n",
    "student_registration_merge_courses.groupby('date_unregistration', as_index=False)['module_presentation_length'].mean()"
   ]
  },
  {
   "cell_type": "markdown",
   "id": "drawn-support",
   "metadata": {
    "papermill": {
     "duration": 0.113996,
     "end_time": "2021-05-11T17:39:57.330646",
     "exception": false,
     "start_time": "2021-05-11T17:39:57.216650",
     "status": "completed"
    },
    "tags": []
   },
   "source": [
    "###### In this step I will merge assessments Table with the studentAssessment Table to understand the relationship between assessment and student performance"
   ]
  },
  {
   "cell_type": "code",
   "execution_count": 38,
   "id": "equivalent-response",
   "metadata": {
    "execution": {
     "iopub.execute_input": "2021-05-11T17:39:57.562529Z",
     "iopub.status.busy": "2021-05-11T17:39:57.561208Z",
     "iopub.status.idle": "2021-05-11T17:39:57.604467Z",
     "shell.execute_reply": "2021-05-11T17:39:57.603817Z"
    },
    "papermill": {
     "duration": 0.162482,
     "end_time": "2021-05-11T17:39:57.604660",
     "exception": false,
     "start_time": "2021-05-11T17:39:57.442178",
     "status": "completed"
    },
    "tags": []
   },
   "outputs": [],
   "source": [
    "student_assessment_merge_assessment = oulad_student_assessment.merge(oulad_assessment,\n",
    "                                                                     on = ['id_assessment'], how='left' )"
   ]
  },
  {
   "cell_type": "code",
   "execution_count": 39,
   "id": "powerful-values",
   "metadata": {
    "execution": {
     "iopub.execute_input": "2021-05-11T17:39:57.843600Z",
     "iopub.status.busy": "2021-05-11T17:39:57.842626Z",
     "iopub.status.idle": "2021-05-11T17:39:57.847543Z",
     "shell.execute_reply": "2021-05-11T17:39:57.846882Z"
    },
    "papermill": {
     "duration": 0.128494,
     "end_time": "2021-05-11T17:39:57.847695",
     "exception": false,
     "start_time": "2021-05-11T17:39:57.719201",
     "status": "completed"
    },
    "tags": []
   },
   "outputs": [
    {
     "data": {
      "text/plain": [
       "id_assessment          int64\n",
       "id_student             int64\n",
       "date_submitted         int64\n",
       "is_banked              int64\n",
       "score                float64\n",
       "code_module           object\n",
       "code_presentation     object\n",
       "assessment_type       object\n",
       "date                 float64\n",
       "weight               float64\n",
       "dtype: object"
      ]
     },
     "execution_count": 39,
     "metadata": {},
     "output_type": "execute_result"
    }
   ],
   "source": [
    "student_assessment_merge_assessment.dtypes"
   ]
  },
  {
   "cell_type": "code",
   "execution_count": 40,
   "id": "protecting-preservation",
   "metadata": {
    "execution": {
     "iopub.execute_input": "2021-05-11T17:39:58.086308Z",
     "iopub.status.busy": "2021-05-11T17:39:58.080788Z",
     "iopub.status.idle": "2021-05-11T17:40:02.654130Z",
     "shell.execute_reply": "2021-05-11T17:40:02.653439Z"
    },
    "papermill": {
     "duration": 4.695429,
     "end_time": "2021-05-11T17:40:02.654305",
     "exception": false,
     "start_time": "2021-05-11T17:39:57.958876",
     "status": "completed"
    },
    "tags": []
   },
   "outputs": [],
   "source": [
    "# There would have been instances where students submitted their assignments later than the deadline. In this step,\n",
    "# using the date_submitted (days after student recieved their assignment) column and date (deadline in days for the assignment)\n",
    "# we can check whether their was a late submission or not (0 : Late, 1:OnTime)\n",
    "\n",
    "student_assessment_merge_assessment['Late_submission'] = ['0' if int(student_assessment_merge_assessment['date_submitted'].iloc[i]) \n",
    "                                                          > int(student_assessment_merge_assessment['date'].iloc[i]) else '1' \n",
    "                                                         for i in range(len(student_assessment_merge_assessment))]\n"
   ]
  },
  {
   "cell_type": "code",
   "execution_count": 41,
   "id": "recent-scoop",
   "metadata": {
    "execution": {
     "iopub.execute_input": "2021-05-11T17:40:02.916769Z",
     "iopub.status.busy": "2021-05-11T17:40:02.915399Z",
     "iopub.status.idle": "2021-05-11T17:40:02.953444Z",
     "shell.execute_reply": "2021-05-11T17:40:02.951904Z"
    },
    "papermill": {
     "duration": 0.184414,
     "end_time": "2021-05-11T17:40:02.953672",
     "exception": false,
     "start_time": "2021-05-11T17:40:02.769258",
     "status": "completed"
    },
    "tags": []
   },
   "outputs": [
    {
     "name": "stdout",
     "output_type": "stream",
     "text": [
      "Percentage of Late Submissions From Students are : \n",
      "29.958155624240963\n",
      "We can see that approximately 30 percent of students submitted their assigments late\n"
     ]
    }
   ],
   "source": [
    "print('Percentage of Late Submissions From Students are : ')\n",
    "print((len(student_assessment_merge_assessment[student_assessment_merge_assessment['Late_submission']=='0'])/len(student_assessment_merge_assessment)*100))\n",
    "print('We can see that approximately 30 percent of students submitted their assigments late')"
   ]
  },
  {
   "cell_type": "code",
   "execution_count": 42,
   "id": "amended-carnival",
   "metadata": {
    "execution": {
     "iopub.execute_input": "2021-05-11T17:40:03.258128Z",
     "iopub.status.busy": "2021-05-11T17:40:03.257339Z",
     "iopub.status.idle": "2021-05-11T17:40:03.501485Z",
     "shell.execute_reply": "2021-05-11T17:40:03.500704Z"
    },
    "papermill": {
     "duration": 0.430251,
     "end_time": "2021-05-11T17:40:03.501641",
     "exception": false,
     "start_time": "2021-05-11T17:40:03.071390",
     "status": "completed"
    },
    "tags": []
   },
   "outputs": [
    {
     "name": "stdout",
     "output_type": "stream",
     "text": [
      "Late_submission          0          1\n",
      "assessment_type                      \n",
      "CMA              46.777830  53.222170\n",
      "Exam             57.914902  42.085098\n",
      "TMA              16.473797  83.526203\n"
     ]
    },
    {
     "data": {
      "image/png": "[encoded data removed]",
      "text/plain": [
       "<Figure size 720x504 with 1 Axes>"
      ]
     },
     "metadata": {},
     "output_type": "display_data"
    }
   ],
   "source": [
    "# There are three types of assessments :- Tutor Marked Assessment (TMA), Computer Marked Assessment (CMA), Exams\n",
    "# Following Plot Shows us the Percentage of Late Submission by Assessment_Type\n",
    "# We can see that Most of the late submissions are for Final Exam and CMA which is Computer marked exam.\n",
    "# Tutor marked exams has the least late submissions\n",
    "\n",
    "stacked_plot(student_assessment_merge_assessment, 'assessment_type', 'Late_submission', 'id_student', plot_size=(10, 7))\n",
    "\n"
   ]
  },
  {
   "cell_type": "code",
   "execution_count": 43,
   "id": "cubic-office",
   "metadata": {
    "execution": {
     "iopub.execute_input": "2021-05-11T17:40:03.755266Z",
     "iopub.status.busy": "2021-05-11T17:40:03.747673Z",
     "iopub.status.idle": "2021-05-11T17:40:04.067756Z",
     "shell.execute_reply": "2021-05-11T17:40:04.067086Z"
    },
    "papermill": {
     "duration": 0.447369,
     "end_time": "2021-05-11T17:40:04.068058",
     "exception": false,
     "start_time": "2021-05-11T17:40:03.620689",
     "status": "completed"
    },
    "tags": []
   },
   "outputs": [
    {
     "name": "stdout",
     "output_type": "stream",
     "text": [
      "Late_submission          0          1\n",
      "code_module                          \n",
      "AAA              25.810553  74.189447\n",
      "BBB              47.472021  52.527979\n",
      "CCC              69.063342  30.936658\n",
      "DDD              30.566283  69.433717\n",
      "EEE              14.544763  85.455237\n",
      "FFF              10.345268  89.654732\n",
      "GGG              10.049293  89.950707\n"
     ]
    },
    {
     "data": {
      "image/png": "[encoded data removed]",
      "text/plain": [
       "<Figure size 864x576 with 1 Axes>"
      ]
     },
     "metadata": {},
     "output_type": "display_data"
    }
   ],
   "source": [
    "# There are 7 course modules. 4 are from STEM and 3 from Social Sciences\n",
    "# Social Sciences :- AAA, BBB, GGG\n",
    "# STEM :- CCC, DDD, EEE, FFF\n",
    "# We can see from the plot that most percentage of the late submissions are for Course BBB, CCC and DDD\n",
    "\n",
    "\n",
    "stacked_plot(student_assessment_merge_assessment, 'code_module', 'Late_submission', 'id_student', plot_size=(12, 8))"
   ]
  },
  {
   "cell_type": "code",
   "execution_count": 44,
   "id": "editorial-needle",
   "metadata": {
    "execution": {
     "iopub.execute_input": "2021-05-11T17:40:04.361929Z",
     "iopub.status.busy": "2021-05-11T17:40:04.346403Z",
     "iopub.status.idle": "2021-05-11T17:40:06.557288Z",
     "shell.execute_reply": "2021-05-11T17:40:06.556371Z"
    },
    "papermill": {
     "duration": 2.370531,
     "end_time": "2021-05-11T17:40:06.557498",
     "exception": false,
     "start_time": "2021-05-11T17:40:04.186967",
     "status": "completed"
    },
    "tags": []
   },
   "outputs": [],
   "source": [
    "## Creating a column for Social Science and STEM field\n",
    "\n",
    "student_assessment_merge_assessment['Code_Category'] = ['Social_Science' if student_assessment_merge_assessment['code_module'].iloc[i] in ['AAA', 'BBB', 'GGG']\n",
    "                                                        else 'STEM' for i in range(len(student_assessment_merge_assessment))]\n"
   ]
  },
  {
   "cell_type": "code",
   "execution_count": 45,
   "id": "applied-cabin",
   "metadata": {
    "execution": {
     "iopub.execute_input": "2021-05-11T17:40:06.817204Z",
     "iopub.status.busy": "2021-05-11T17:40:06.816449Z",
     "iopub.status.idle": "2021-05-11T17:40:07.043788Z",
     "shell.execute_reply": "2021-05-11T17:40:07.044388Z"
    },
    "papermill": {
     "duration": 0.362522,
     "end_time": "2021-05-11T17:40:07.044574",
     "exception": false,
     "start_time": "2021-05-11T17:40:06.682052",
     "status": "completed"
    },
    "tags": []
   },
   "outputs": [
    {
     "name": "stdout",
     "output_type": "stream",
     "text": [
      "Late_submission          0          1\n",
      "Code_Category                        \n",
      "STEM             26.072296  73.927704\n",
      "Social_Science   37.078578  62.921422\n"
     ]
    },
    {
     "data": {
      "image/png": "[encoded data removed]",
      "text/plain": [
       "<Figure size 576x504 with 1 Axes>"
      ]
     },
     "metadata": {},
     "output_type": "display_data"
    }
   ],
   "source": [
    "## Social Science has more percentage of late submissions as compared to STEM\n",
    "\n",
    "\n",
    "stacked_plot(student_assessment_merge_assessment, 'Code_Category', 'Late_submission', 'id_student', plot_size=(8, 7))"
   ]
  },
  {
   "cell_type": "code",
   "execution_count": 46,
   "id": "civic-mainstream",
   "metadata": {
    "execution": {
     "iopub.execute_input": "2021-05-11T17:40:07.314706Z",
     "iopub.status.busy": "2021-05-11T17:40:07.309147Z",
     "iopub.status.idle": "2021-05-11T17:40:09.574832Z",
     "shell.execute_reply": "2021-05-11T17:40:09.574244Z"
    },
    "papermill": {
     "duration": 2.413567,
     "end_time": "2021-05-11T17:40:09.574991",
     "exception": false,
     "start_time": "2021-05-11T17:40:07.161424",
     "status": "completed"
    },
    "tags": []
   },
   "outputs": [],
   "source": [
    "# As from the description of table we know that score less than 40 is considered as Fail and above that is pass\n",
    "\n",
    "\n",
    "student_assessment_merge_assessment['Result'] = ['Fail' if int(student_assessment_merge_assessment['score'].iloc[i]) < 40\n",
    "                                                        else 'Pass' for i in range(len(student_assessment_merge_assessment))]"
   ]
  },
  {
   "cell_type": "code",
   "execution_count": 47,
   "id": "diagnostic-saying",
   "metadata": {
    "execution": {
     "iopub.execute_input": "2021-05-11T17:40:09.825337Z",
     "iopub.status.busy": "2021-05-11T17:40:09.823908Z",
     "iopub.status.idle": "2021-05-11T17:40:10.058350Z",
     "shell.execute_reply": "2021-05-11T17:40:10.059027Z"
    },
    "papermill": {
     "duration": 0.368952,
     "end_time": "2021-05-11T17:40:10.059217",
     "exception": false,
     "start_time": "2021-05-11T17:40:09.690265",
     "status": "completed"
    },
    "tags": []
   },
   "outputs": [
    {
     "name": "stdout",
     "output_type": "stream",
     "text": [
      "Result              Fail       Pass\n",
      "Code_Category                      \n",
      "STEM            5.132608  94.867392\n",
      "Social_Science  2.949136  97.050864\n"
     ]
    },
    {
     "data": {
      "image/png": "[encoded data removed]",
      "text/plain": [
       "<Figure size 720x504 with 1 Axes>"
      ]
     },
     "metadata": {},
     "output_type": "display_data"
    }
   ],
   "source": [
    "# Following Plot shows us the Ratio of Pass and Fail students in the form of plot\n",
    "# Failure Rate in STEM is more as compared to Social Sciences\n",
    "\n",
    "stacked_plot(student_assessment_merge_assessment, 'Code_Category', 'Result', 'id_student', plot_size=(10, 7))"
   ]
  },
  {
   "cell_type": "code",
   "execution_count": 48,
   "id": "random-civilization",
   "metadata": {
    "execution": {
     "iopub.execute_input": "2021-05-11T17:40:10.304497Z",
     "iopub.status.busy": "2021-05-11T17:40:10.303625Z",
     "iopub.status.idle": "2021-05-11T17:40:10.607641Z",
     "shell.execute_reply": "2021-05-11T17:40:10.608157Z"
    },
    "papermill": {
     "duration": 0.43045,
     "end_time": "2021-05-11T17:40:10.608338",
     "exception": false,
     "start_time": "2021-05-11T17:40:10.177888",
     "status": "completed"
    },
    "tags": []
   },
   "outputs": [
    {
     "name": "stdout",
     "output_type": "stream",
     "text": [
      "Result           Fail       Pass\n",
      "code_module                     \n",
      "AAA          2.860776  97.139224\n",
      "BBB          3.306266  96.693734\n",
      "CCC          9.297903  90.702097\n",
      "DDD          9.044297  90.955703\n",
      "EEE          1.775298  98.224702\n",
      "FFF          1.975570  98.024430\n",
      "GGG          1.958593  98.041407\n"
     ]
    },
    {
     "data": {
      "image/png": "[encoded data removed]",
      "text/plain": [
       "<Figure size 1080x576 with 1 Axes>"
      ]
     },
     "metadata": {},
     "output_type": "display_data"
    }
   ],
   "source": [
    "# We can see from the following plot that course DDD , CCC and BBB have the most failure rate. Out of the 3\n",
    "# courses 2 of them are from STEM.\n",
    "\n",
    "\n",
    "stacked_plot(student_assessment_merge_assessment, 'code_module', 'Result', 'id_student', plot_size=(15, 8))"
   ]
  },
  {
   "cell_type": "code",
   "execution_count": 49,
   "id": "temporal-laptop",
   "metadata": {
    "execution": {
     "iopub.execute_input": "2021-05-11T17:40:10.855007Z",
     "iopub.status.busy": "2021-05-11T17:40:10.853789Z",
     "iopub.status.idle": "2021-05-11T17:40:10.946035Z",
     "shell.execute_reply": "2021-05-11T17:40:10.945164Z"
    },
    "papermill": {
     "duration": 0.218898,
     "end_time": "2021-05-11T17:40:10.946244",
     "exception": false,
     "start_time": "2021-05-11T17:40:10.727346",
     "status": "completed"
    },
    "tags": []
   },
   "outputs": [
    {
     "name": "stdout",
     "output_type": "stream",
     "text": [
      "[ 10.   20.   30.    5.   18.    1.    0.   35.    9.   22.    2.    7.\n",
      "   8.  100.    7.5  12.5  15.    3.    4.    6.   17.5  25.   16.   28. ]\n"
     ]
    }
   ],
   "source": [
    "## Weightage of Assignment can have impact on the submissions and Result of students. I categorized the weight into\n",
    "## Low, Medium and High Weightage.\n",
    "\n",
    "print(student_assessment_merge_assessment['weight'].unique())\n",
    "\n",
    "percentage_segment = []\n",
    "\n",
    "for percent in student_assessment_merge_assessment['weight']:\n",
    "    if percent <= 10:\n",
    "        percentage_segment.append('Low_Weightage')\n",
    "    elif percent > 10 and percent <= 30:\n",
    "        percentage_segment.append('Medium_Weightage')\n",
    "    else:\n",
    "        percentage_segment.append('High_Weightage')\n",
    "        \n",
    "student_assessment_merge_assessment['Weigthage'] = percentage_segment"
   ]
  },
  {
   "cell_type": "code",
   "execution_count": 50,
   "id": "accessible-truck",
   "metadata": {
    "execution": {
     "iopub.execute_input": "2021-05-11T17:40:11.205285Z",
     "iopub.status.busy": "2021-05-11T17:40:11.198345Z",
     "iopub.status.idle": "2021-05-11T17:40:11.446597Z",
     "shell.execute_reply": "2021-05-11T17:40:11.446033Z"
    },
    "papermill": {
     "duration": 0.380265,
     "end_time": "2021-05-11T17:40:11.446752",
     "exception": false,
     "start_time": "2021-05-11T17:40:11.066487",
     "status": "completed"
    },
    "tags": []
   },
   "outputs": [
    {
     "name": "stdout",
     "output_type": "stream",
     "text": [
      "Result                Fail       Pass\n",
      "Weigthage                            \n",
      "High_Weightage    8.463783  91.536217\n",
      "Low_Weightage     3.329021  96.670979\n",
      "Medium_Weightage  5.307333  94.692667\n"
     ]
    },
    {
     "data": {
      "image/png": "[encoded data removed]",
      "text/plain": [
       "<Figure size 576x432 with 1 Axes>"
      ]
     },
     "metadata": {},
     "output_type": "display_data"
    }
   ],
   "source": [
    "# We can see that Medium and High Weightage Assessments have high failure rate as compared to low\n",
    "\n",
    "stacked_plot(student_assessment_merge_assessment, 'Weigthage', 'Result', 'id_student', plot_size=(8, 6))"
   ]
  },
  {
   "cell_type": "code",
   "execution_count": 51,
   "id": "cloudy-italic",
   "metadata": {
    "execution": {
     "iopub.execute_input": "2021-05-11T17:40:11.689380Z",
     "iopub.status.busy": "2021-05-11T17:40:11.688710Z",
     "iopub.status.idle": "2021-05-11T17:40:11.918189Z",
     "shell.execute_reply": "2021-05-11T17:40:11.917562Z"
    },
    "papermill": {
     "duration": 0.351699,
     "end_time": "2021-05-11T17:40:11.918358",
     "exception": false,
     "start_time": "2021-05-11T17:40:11.566659",
     "status": "completed"
    },
    "tags": []
   },
   "outputs": [
    {
     "name": "stdout",
     "output_type": "stream",
     "text": [
      "Result               Fail       Pass\n",
      "Late_submission                     \n",
      "0                6.841630  93.158370\n",
      "1                3.301011  96.698989\n"
     ]
    },
    {
     "data": {
      "image/png": "[encoded data removed]",
      "text/plain": [
       "<Figure size 576x432 with 1 Axes>"
      ]
     },
     "metadata": {},
     "output_type": "display_data"
    }
   ],
   "source": [
    "# Following Plot shows the ratio of Pass and Fail in Late_submission.\n",
    "# We can clearly see that Late Submissions have more Failure Rate as compared to people who submit on time.\n",
    "\n",
    "stacked_plot(student_assessment_merge_assessment, 'Late_submission', 'Result', 'id_student', plot_size=(8, 6))"
   ]
  },
  {
   "cell_type": "code",
   "execution_count": 52,
   "id": "technical-provincial",
   "metadata": {
    "execution": {
     "iopub.execute_input": "2021-05-11T17:40:12.166465Z",
     "iopub.status.busy": "2021-05-11T17:40:12.165457Z",
     "iopub.status.idle": "2021-05-11T17:40:12.185982Z",
     "shell.execute_reply": "2021-05-11T17:40:12.186575Z"
    },
    "papermill": {
     "duration": 0.14633,
     "end_time": "2021-05-11T17:40:12.186754",
     "exception": false,
     "start_time": "2021-05-11T17:40:12.040424",
     "status": "completed"
    },
    "tags": []
   },
   "outputs": [
    {
     "data": {
      "text/html": [
       "<div>\n",
       "<style scoped>\n",
       "    .dataframe tbody tr th:only-of-type {\n",
       "        vertical-align: middle;\n",
       "    }\n",
       "\n",
       "    .dataframe tbody tr th {\n",
       "        vertical-align: top;\n",
       "    }\n",
       "\n",
       "    .dataframe thead th {\n",
       "        text-align: right;\n",
       "    }\n",
       "</style>\n",
       "<table border=\"1\" class=\"dataframe\">\n",
       "  <thead>\n",
       "    <tr style=\"text-align: right;\">\n",
       "      <th></th>\n",
       "      <th>id_assessment</th>\n",
       "      <th>id_student</th>\n",
       "      <th>date_submitted</th>\n",
       "      <th>is_banked</th>\n",
       "      <th>score</th>\n",
       "      <th>code_module</th>\n",
       "      <th>code_presentation</th>\n",
       "      <th>assessment_type</th>\n",
       "      <th>date</th>\n",
       "      <th>weight</th>\n",
       "      <th>Late_submission</th>\n",
       "      <th>Code_Category</th>\n",
       "      <th>Result</th>\n",
       "      <th>Weigthage</th>\n",
       "    </tr>\n",
       "  </thead>\n",
       "  <tbody>\n",
       "    <tr>\n",
       "      <th>0</th>\n",
       "      <td>1752</td>\n",
       "      <td>11391</td>\n",
       "      <td>18</td>\n",
       "      <td>0</td>\n",
       "      <td>78.0</td>\n",
       "      <td>AAA</td>\n",
       "      <td>2013J</td>\n",
       "      <td>TMA</td>\n",
       "      <td>19.0</td>\n",
       "      <td>10.0</td>\n",
       "      <td>1</td>\n",
       "      <td>Social_Science</td>\n",
       "      <td>Pass</td>\n",
       "      <td>Low_Weightage</td>\n",
       "    </tr>\n",
       "    <tr>\n",
       "      <th>1</th>\n",
       "      <td>1752</td>\n",
       "      <td>28400</td>\n",
       "      <td>22</td>\n",
       "      <td>0</td>\n",
       "      <td>70.0</td>\n",
       "      <td>AAA</td>\n",
       "      <td>2013J</td>\n",
       "      <td>TMA</td>\n",
       "      <td>19.0</td>\n",
       "      <td>10.0</td>\n",
       "      <td>0</td>\n",
       "      <td>Social_Science</td>\n",
       "      <td>Pass</td>\n",
       "      <td>Low_Weightage</td>\n",
       "    </tr>\n",
       "    <tr>\n",
       "      <th>2</th>\n",
       "      <td>1752</td>\n",
       "      <td>31604</td>\n",
       "      <td>17</td>\n",
       "      <td>0</td>\n",
       "      <td>72.0</td>\n",
       "      <td>AAA</td>\n",
       "      <td>2013J</td>\n",
       "      <td>TMA</td>\n",
       "      <td>19.0</td>\n",
       "      <td>10.0</td>\n",
       "      <td>1</td>\n",
       "      <td>Social_Science</td>\n",
       "      <td>Pass</td>\n",
       "      <td>Low_Weightage</td>\n",
       "    </tr>\n",
       "    <tr>\n",
       "      <th>3</th>\n",
       "      <td>1752</td>\n",
       "      <td>32885</td>\n",
       "      <td>26</td>\n",
       "      <td>0</td>\n",
       "      <td>69.0</td>\n",
       "      <td>AAA</td>\n",
       "      <td>2013J</td>\n",
       "      <td>TMA</td>\n",
       "      <td>19.0</td>\n",
       "      <td>10.0</td>\n",
       "      <td>0</td>\n",
       "      <td>Social_Science</td>\n",
       "      <td>Pass</td>\n",
       "      <td>Low_Weightage</td>\n",
       "    </tr>\n",
       "    <tr>\n",
       "      <th>4</th>\n",
       "      <td>1752</td>\n",
       "      <td>38053</td>\n",
       "      <td>19</td>\n",
       "      <td>0</td>\n",
       "      <td>79.0</td>\n",
       "      <td>AAA</td>\n",
       "      <td>2013J</td>\n",
       "      <td>TMA</td>\n",
       "      <td>19.0</td>\n",
       "      <td>10.0</td>\n",
       "      <td>1</td>\n",
       "      <td>Social_Science</td>\n",
       "      <td>Pass</td>\n",
       "      <td>Low_Weightage</td>\n",
       "    </tr>\n",
       "  </tbody>\n",
       "</table>\n",
       "</div>"
      ],
      "text/plain": [
       "   id_assessment  id_student  date_submitted  is_banked  score code_module  \\\n",
       "0           1752       11391              18          0   78.0         AAA   \n",
       "1           1752       28400              22          0   70.0         AAA   \n",
       "2           1752       31604              17          0   72.0         AAA   \n",
       "3           1752       32885              26          0   69.0         AAA   \n",
       "4           1752       38053              19          0   79.0         AAA   \n",
       "\n",
       "  code_presentation assessment_type  date  weight Late_submission  \\\n",
       "0             2013J             TMA  19.0    10.0               1   \n",
       "1             2013J             TMA  19.0    10.0               0   \n",
       "2             2013J             TMA  19.0    10.0               1   \n",
       "3             2013J             TMA  19.0    10.0               0   \n",
       "4             2013J             TMA  19.0    10.0               1   \n",
       "\n",
       "    Code_Category Result      Weigthage  \n",
       "0  Social_Science   Pass  Low_Weightage  \n",
       "1  Social_Science   Pass  Low_Weightage  \n",
       "2  Social_Science   Pass  Low_Weightage  \n",
       "3  Social_Science   Pass  Low_Weightage  \n",
       "4  Social_Science   Pass  Low_Weightage  "
      ]
     },
     "execution_count": 52,
     "metadata": {},
     "output_type": "execute_result"
    }
   ],
   "source": [
    "student_assessment_merge_assessment.head()"
   ]
  },
  {
   "cell_type": "markdown",
   "id": "spiritual-mixture",
   "metadata": {
    "papermill": {
     "duration": 0.121747,
     "end_time": "2021-05-11T17:40:12.429471",
     "exception": false,
     "start_time": "2021-05-11T17:40:12.307724",
     "status": "completed"
    },
    "tags": []
   },
   "source": [
    "###### MERGING VLE DATA WITH THE STUDENT INFO DATA"
   ]
  },
  {
   "cell_type": "code",
   "execution_count": 53,
   "id": "hybrid-beast",
   "metadata": {
    "execution": {
     "iopub.execute_input": "2021-05-11T17:40:12.675610Z",
     "iopub.status.busy": "2021-05-11T17:40:12.674604Z",
     "iopub.status.idle": "2021-05-11T17:40:12.720747Z",
     "shell.execute_reply": "2021-05-11T17:40:12.721248Z"
    },
    "papermill": {
     "duration": 0.171092,
     "end_time": "2021-05-11T17:40:12.721436",
     "exception": false,
     "start_time": "2021-05-11T17:40:12.550344",
     "status": "completed"
    },
    "scrolled": true,
    "tags": []
   },
   "outputs": [],
   "source": [
    "student_info = oulad_student_info.merge(student_vle_merge_vle_group, \n",
    "                                        on = ['code_module', 'code_presentation', 'id_student'],\n",
    "                                        how = 'left')\n",
    "\n",
    "student_info['sum_click']     = student_info['sum_click'].fillna(student_info['sum_click'].mean())\n",
    "student_info['After_Clicks']  = student_info['After_Clicks'].fillna(student_info['After_Clicks'].mean())\n",
    "student_info['Before_Clicks'] = student_info['Before_Clicks'].fillna(student_info['Before_Clicks'].mean())"
   ]
  },
  {
   "cell_type": "code",
   "execution_count": 54,
   "id": "veterinary-chinese",
   "metadata": {
    "execution": {
     "iopub.execute_input": "2021-05-11T17:40:12.970729Z",
     "iopub.status.busy": "2021-05-11T17:40:12.969699Z",
     "iopub.status.idle": "2021-05-11T17:40:13.150117Z",
     "shell.execute_reply": "2021-05-11T17:40:13.150601Z"
    },
    "papermill": {
     "duration": 0.308403,
     "end_time": "2021-05-11T17:40:13.150787",
     "exception": false,
     "start_time": "2021-05-11T17:40:12.842384",
     "status": "completed"
    },
    "tags": []
   },
   "outputs": [
    {
     "data": {
      "text/plain": [
       "<AxesSubplot:xlabel='final_result'>"
      ]
     },
     "execution_count": 54,
     "metadata": {},
     "output_type": "execute_result"
    },
    {
     "data": {
      "image/png": "[encoded data removed]",
      "text/plain": [
       "<Figure size 720x360 with 1 Axes>"
      ]
     },
     "metadata": {},
     "output_type": "display_data"
    }
   ],
   "source": [
    "## In this plot I am trying to examine the relationship between number of clicks versus the result\n",
    "## We can clearly see from the plot that number of clicks is directly related to the result. Student who passed with\n",
    "## Distinction has significantly more clicks as compared to ones with result = PASS and there is a huge difference\n",
    "## between the students who failed or withdrawn as compared to the one's who passed with or without distinction\n",
    "\n",
    "plt.figure(figsize = (10, 5))\n",
    "plt.xticks(rotation=90, fontsize=15)\n",
    "plt.yticks(rotation=0, fontsize=12)\n",
    "sns.set_style(\"whitegrid\")\n",
    "student_info.groupby(['final_result'])['After_Clicks'].mean().sort_values(ascending = False).plot(kind='bar')"
   ]
  },
  {
   "cell_type": "code",
   "execution_count": 55,
   "id": "ancient-richards",
   "metadata": {
    "execution": {
     "iopub.execute_input": "2021-05-11T17:40:13.401505Z",
     "iopub.status.busy": "2021-05-11T17:40:13.400488Z",
     "iopub.status.idle": "2021-05-11T17:40:13.585838Z",
     "shell.execute_reply": "2021-05-11T17:40:13.585226Z"
    },
    "papermill": {
     "duration": 0.311281,
     "end_time": "2021-05-11T17:40:13.585997",
     "exception": false,
     "start_time": "2021-05-11T17:40:13.274716",
     "status": "completed"
    },
    "tags": []
   },
   "outputs": [
    {
     "data": {
      "text/plain": [
       "<AxesSubplot:xlabel='final_result'>"
      ]
     },
     "execution_count": 55,
     "metadata": {},
     "output_type": "execute_result"
    },
    {
     "data": {
      "image/png": "[encoded data removed]",
      "text/plain": [
       "<Figure size 720x360 with 1 Axes>"
      ]
     },
     "metadata": {},
     "output_type": "display_data"
    }
   ],
   "source": [
    "## Even from the clicks data before the course even started, we can see that more the clicks more are the chances\n",
    "## for student to pass.\n",
    "\n",
    "plt.figure(figsize = (10, 5))\n",
    "plt.xticks(rotation=90, fontsize=15)\n",
    "plt.yticks(rotation=0, fontsize=12)\n",
    "sns.set_style(\"whitegrid\")\n",
    "student_info.groupby(['final_result'])['Before_Clicks'].mean().sort_values(ascending = False).plot(kind='bar')"
   ]
  },
  {
   "cell_type": "code",
   "execution_count": 56,
   "id": "mediterranean-mandate",
   "metadata": {
    "execution": {
     "iopub.execute_input": "2021-05-11T17:40:13.883834Z",
     "iopub.status.busy": "2021-05-11T17:40:13.882608Z",
     "iopub.status.idle": "2021-05-11T17:40:14.018857Z",
     "shell.execute_reply": "2021-05-11T17:40:14.018123Z"
    },
    "papermill": {
     "duration": 0.306852,
     "end_time": "2021-05-11T17:40:14.019036",
     "exception": false,
     "start_time": "2021-05-11T17:40:13.712184",
     "status": "completed"
    },
    "tags": []
   },
   "outputs": [
    {
     "data": {
      "text/plain": [
       "<AxesSubplot:xlabel='final_result'>"
      ]
     },
     "execution_count": 56,
     "metadata": {},
     "output_type": "execute_result"
    },
    {
     "data": {
      "image/png": "[encoded data removed]",
      "text/plain": [
       "<Figure size 720x360 with 1 Axes>"
      ]
     },
     "metadata": {},
     "output_type": "display_data"
    }
   ],
   "source": [
    "## People with less credits have more chances to pass with distinction or pass because they have to study less\n",
    "## People who withdrew has more average credits as compared to another. \n",
    "\n",
    "plt.figure(figsize = (10, 5))\n",
    "plt.xticks(rotation=90, fontsize=15)\n",
    "plt.yticks(rotation=0, fontsize=12)\n",
    "sns.set_style(\"whitegrid\")\n",
    "student_info.groupby(['final_result'])['studied_credits'].mean().sort_values(ascending = False).plot(kind='bar')"
   ]
  },
  {
   "cell_type": "code",
   "execution_count": 57,
   "id": "pretty-lying",
   "metadata": {
    "execution": {
     "iopub.execute_input": "2021-05-11T17:40:14.292555Z",
     "iopub.status.busy": "2021-05-11T17:40:14.284922Z",
     "iopub.status.idle": "2021-05-11T17:40:14.468557Z",
     "shell.execute_reply": "2021-05-11T17:40:14.467870Z"
    },
    "papermill": {
     "duration": 0.320327,
     "end_time": "2021-05-11T17:40:14.468724",
     "exception": false,
     "start_time": "2021-05-11T17:40:14.148397",
     "status": "completed"
    },
    "tags": []
   },
   "outputs": [
    {
     "data": {
      "text/plain": [
       "<AxesSubplot:xlabel='age_band'>"
      ]
     },
     "execution_count": 57,
     "metadata": {},
     "output_type": "execute_result"
    },
    {
     "data": {
      "image/png": "[encoded data removed]",
      "text/plain": [
       "<Figure size 720x360 with 1 Axes>"
      ]
     },
     "metadata": {},
     "output_type": "display_data"
    }
   ],
   "source": [
    "plt.figure(figsize = (10, 5))\n",
    "plt.xticks(rotation=90, fontsize=15)\n",
    "plt.yticks(rotation=0, fontsize=12)\n",
    "sns.set_style(\"whitegrid\")\n",
    "student_info.groupby(['age_band'])['Before_Clicks'].mean().sort_values(ascending = False).plot(kind='bar')"
   ]
  },
  {
   "cell_type": "code",
   "execution_count": 58,
   "id": "tamil-ottawa",
   "metadata": {
    "execution": {
     "iopub.execute_input": "2021-05-11T17:40:14.779699Z",
     "iopub.status.busy": "2021-05-11T17:40:14.758946Z",
     "iopub.status.idle": "2021-05-11T17:40:14.991584Z",
     "shell.execute_reply": "2021-05-11T17:40:14.990463Z"
    },
    "papermill": {
     "duration": 0.391643,
     "end_time": "2021-05-11T17:40:14.991747",
     "exception": false,
     "start_time": "2021-05-11T17:40:14.600104",
     "status": "completed"
    },
    "tags": []
   },
   "outputs": [
    {
     "data": {
      "text/plain": [
       "<AxesSubplot:xlabel='imd_band'>"
      ]
     },
     "execution_count": 58,
     "metadata": {},
     "output_type": "execute_result"
    },
    {
     "data": {
      "image/png": "[encoded data removed]",
      "text/plain": [
       "<Figure size 720x360 with 1 Axes>"
      ]
     },
     "metadata": {},
     "output_type": "display_data"
    }
   ],
   "source": [
    "# Number of Clicks by imd_band.\n",
    "\n",
    "plt.figure(figsize = (10, 5))\n",
    "plt.xticks(rotation=90, fontsize=15)\n",
    "plt.yticks(rotation=0, fontsize=12)\n",
    "sns.set_style(\"whitegrid\")\n",
    "student_info.groupby(['imd_band'])['sum_click'].sum().sort_values(ascending = False).plot(kind='bar')"
   ]
  },
  {
   "cell_type": "code",
   "execution_count": 59,
   "id": "foreign-gather",
   "metadata": {
    "execution": {
     "iopub.execute_input": "2021-05-11T17:40:15.274862Z",
     "iopub.status.busy": "2021-05-11T17:40:15.274102Z",
     "iopub.status.idle": "2021-05-11T17:40:15.410261Z",
     "shell.execute_reply": "2021-05-11T17:40:15.410757Z"
    },
    "papermill": {
     "duration": 0.287262,
     "end_time": "2021-05-11T17:40:15.410965",
     "exception": false,
     "start_time": "2021-05-11T17:40:15.123703",
     "status": "completed"
    },
    "tags": []
   },
   "outputs": [
    {
     "data": {
      "text/plain": [
       "<AxesSubplot:xlabel='gender'>"
      ]
     },
     "execution_count": 59,
     "metadata": {},
     "output_type": "execute_result"
    },
    {
     "data": {
      "image/png": "[encoded data removed]",
      "text/plain": [
       "<Figure size 576x360 with 1 Axes>"
      ]
     },
     "metadata": {},
     "output_type": "display_data"
    }
   ],
   "source": [
    "# We can see that Males have higher Click Rate as compared to the females\n",
    "\n",
    "plt.figure(figsize = (8, 5))\n",
    "plt.xticks(rotation=90, fontsize=15)\n",
    "plt.yticks(rotation=0, fontsize=12)\n",
    "sns.set_style(\"whitegrid\")\n",
    "student_info.groupby(['gender'])['sum_click'].sum().sort_values(ascending = False).plot(kind='bar')"
   ]
  },
  {
   "cell_type": "code",
   "execution_count": 60,
   "id": "involved-brother",
   "metadata": {
    "execution": {
     "iopub.execute_input": "2021-05-11T17:40:15.680154Z",
     "iopub.status.busy": "2021-05-11T17:40:15.679015Z",
     "iopub.status.idle": "2021-05-11T17:40:16.078253Z",
     "shell.execute_reply": "2021-05-11T17:40:16.078765Z"
    },
    "papermill": {
     "duration": 0.53624,
     "end_time": "2021-05-11T17:40:16.078986",
     "exception": false,
     "start_time": "2021-05-11T17:40:15.542746",
     "status": "completed"
    },
    "tags": []
   },
   "outputs": [
    {
     "name": "stdout",
     "output_type": "stream",
     "text": [
      "age_band  final_result\n",
      "0-35      Pass            8469\n",
      "          Withdrawn       7381\n",
      "          Fail            5231\n",
      "35-55     Pass            3800\n",
      "          Withdrawn       2721\n",
      "0-35      Distinction     1863\n",
      "35-55     Fail            1792\n",
      "          Distinction     1120\n",
      "55<=      Pass              92\n",
      "          Withdrawn         54\n",
      "          Distinction       41\n",
      "          Fail              29\n",
      "Name: id_student, dtype: int64\n",
      "final_result  Distinction       Fail       Pass  Withdrawn\n",
      "age_band                                                  \n",
      "0-35             8.119770  22.798989  36.911611  32.169630\n",
      "35-55           11.873211  18.997138  40.284109  28.845542\n",
      "55<=            18.981481  13.425926  42.592593  25.000000\n"
     ]
    },
    {
     "data": {
      "image/png": "[encoded data removed]",
      "text/plain": [
       "<Figure size 720x576 with 1 Axes>"
      ]
     },
     "metadata": {},
     "output_type": "display_data"
    }
   ],
   "source": [
    "## Following plot shows us the number of students in each result category. Most of the data is in age band 0-55.\n",
    "## There are very few data points for age >= 55. \n",
    "## We can see that Failure and Withdrawn rate is greater in age_band 0-35\n",
    "\n",
    "print(student_info.groupby(['age_band', 'final_result'])['id_student'].count().sort_values(ascending = False))\n",
    "stacked_plot(student_info, 'age_band', 'final_result', 'id_student', plot_size=(10, 8))"
   ]
  },
  {
   "cell_type": "code",
   "execution_count": 61,
   "id": "micro-decade",
   "metadata": {
    "execution": {
     "iopub.execute_input": "2021-05-11T17:40:16.352023Z",
     "iopub.status.busy": "2021-05-11T17:40:16.350946Z",
     "iopub.status.idle": "2021-05-11T17:40:16.645887Z",
     "shell.execute_reply": "2021-05-11T17:40:16.645347Z"
    },
    "papermill": {
     "duration": 0.43483,
     "end_time": "2021-05-11T17:40:16.646052",
     "exception": false,
     "start_time": "2021-05-11T17:40:16.211222",
     "status": "completed"
    },
    "tags": []
   },
   "outputs": [
    {
     "name": "stdout",
     "output_type": "stream",
     "text": [
      "final_result                 Distinction       Fail       Pass  Withdrawn\n",
      "highest_education                                                        \n",
      "A Level or Equivalent          10.651477  19.273763  41.381274  28.693485\n",
      "HE Qualification               14.735729  16.701903  41.437632  27.124736\n",
      "Lower Than A Level              5.525156  26.037392  33.325733  35.111719\n",
      "No Formal quals                 4.610951  27.377522  25.072046  42.939481\n",
      "Post Graduate Qualification    28.115016  10.862620  37.380192  23.642173\n"
     ]
    },
    {
     "data": {
      "image/png": "[encoded data removed]",
      "text/plain": [
       "<Figure size 720x576 with 1 Axes>"
      ]
     },
     "metadata": {},
     "output_type": "display_data"
    }
   ],
   "source": [
    "# We can see from the plot that Failure Rate and Withdrawal Rate is high in people who have NO FORMAL EDUCATION\n",
    "# and who have LOWER THAN A LEVEL EDUCATION\n",
    "# Failure Rate is lowest in people who has Post Graduation.\n",
    "\n",
    "\n",
    "stacked_plot(student_info, 'highest_education', 'final_result', 'id_student', plot_size=(10, 8))"
   ]
  },
  {
   "cell_type": "code",
   "execution_count": 62,
   "id": "frozen-watch",
   "metadata": {
    "execution": {
     "iopub.execute_input": "2021-05-11T17:40:17.433967Z",
     "iopub.status.busy": "2021-05-11T17:40:17.433261Z",
     "iopub.status.idle": "2021-05-11T17:40:17.440180Z",
     "shell.execute_reply": "2021-05-11T17:40:17.440755Z"
    },
    "papermill": {
     "duration": 0.149189,
     "end_time": "2021-05-11T17:40:17.440946",
     "exception": false,
     "start_time": "2021-05-11T17:40:17.291757",
     "status": "completed"
    },
    "tags": []
   },
   "outputs": [
    {
     "data": {
      "text/plain": [
       "array(['HE Qualification', 'A Level or Equivalent', 'Lower Than A Level',\n",
       "       'Post Graduate Qualification', 'No Formal quals'], dtype=object)"
      ]
     },
     "execution_count": 62,
     "metadata": {},
     "output_type": "execute_result"
    }
   ],
   "source": [
    "student_info['highest_education'].unique()"
   ]
  },
  {
   "cell_type": "code",
   "execution_count": 63,
   "id": "undefined-membership",
   "metadata": {
    "execution": {
     "iopub.execute_input": "2021-05-11T17:40:17.712193Z",
     "iopub.status.busy": "2021-05-11T17:40:17.711469Z",
     "iopub.status.idle": "2021-05-11T17:40:17.740791Z",
     "shell.execute_reply": "2021-05-11T17:40:17.740223Z"
    },
    "papermill": {
     "duration": 0.166151,
     "end_time": "2021-05-11T17:40:17.740946",
     "exception": false,
     "start_time": "2021-05-11T17:40:17.574795",
     "status": "completed"
    },
    "tags": []
   },
   "outputs": [],
   "source": [
    "## Manioulating the feature higher_education\n",
    "\n",
    "student_info['highest_education'] = [0 if education in ['A Level or Equivalent', 'Lower Than A Level', 'No Formal quals']\n",
    "                                    else 1 for education in student_info['highest_education']]\n"
   ]
  },
  {
   "cell_type": "code",
   "execution_count": 64,
   "id": "engaging-combining",
   "metadata": {
    "execution": {
     "iopub.execute_input": "2021-05-11T17:40:18.441134Z",
     "iopub.status.busy": "2021-05-11T17:40:18.440351Z",
     "iopub.status.idle": "2021-05-11T17:40:18.664776Z",
     "shell.execute_reply": "2021-05-11T17:40:18.665316Z"
    },
    "papermill": {
     "duration": 0.365493,
     "end_time": "2021-05-11T17:40:18.665487",
     "exception": false,
     "start_time": "2021-05-11T17:40:18.299994",
     "status": "completed"
    },
    "tags": []
   },
   "outputs": [
    {
     "name": "stdout",
     "output_type": "stream",
     "text": [
      "final_result       Distinction       Fail       Pass  Withdrawn\n",
      "highest_education                                              \n",
      "0                     8.127042  22.606171  37.328494  31.938294\n",
      "1                    15.566131  16.339480  41.185802  26.908586\n"
     ]
    },
    {
     "data": {
      "image/png": "[encoded data removed]",
      "text/plain": [
       "<Figure size 720x576 with 1 Axes>"
      ]
     },
     "metadata": {},
     "output_type": "display_data"
    }
   ],
   "source": [
    "## We can see from the plot that students with lower education has higher failure rate than the ones who had higher education\n",
    "\n",
    "stacked_plot(student_info, 'highest_education', 'final_result', 'id_student', plot_size=(10, 8))"
   ]
  },
  {
   "cell_type": "code",
   "execution_count": 65,
   "id": "virgin-cisco",
   "metadata": {
    "execution": {
     "iopub.execute_input": "2021-05-11T17:40:18.953524Z",
     "iopub.status.busy": "2021-05-11T17:40:18.952279Z",
     "iopub.status.idle": "2021-05-11T17:40:19.451554Z",
     "shell.execute_reply": "2021-05-11T17:40:19.450872Z"
    },
    "papermill": {
     "duration": 0.650129,
     "end_time": "2021-05-11T17:40:19.451698",
     "exception": false,
     "start_time": "2021-05-11T17:40:18.801569",
     "status": "completed"
    },
    "tags": []
   },
   "outputs": [
    {
     "name": "stdout",
     "output_type": "stream",
     "text": [
      "final_result          Distinction       Fail       Pass  Withdrawn\n",
      "region                                                            \n",
      "East Anglian Region      9.790419  20.898204  39.191617  30.119760\n",
      "East Midlands Region     8.456660  19.534884  37.251586  34.756871\n",
      "Ireland                  8.277027  22.043919  46.621622  23.057432\n",
      "London Region            8.177861  23.134328  34.172886  34.514925\n",
      "North Region            12.616566  17.937466  37.904553  31.541415\n",
      "North Western Region     7.329663  24.225740  32.863042  35.581555\n",
      "Scotland                 9.518282  24.724318  39.437028  26.320371\n",
      "South East Region       11.558503  17.764093  39.933681  30.743723\n",
      "South Region            10.769728  17.593790  41.623545  30.012937\n",
      "South West Region       10.837438  19.088670  38.957307  31.116585\n",
      "Wales                    8.485139  29.721956  36.673058  25.119847\n",
      "West Midlands Region     7.048799  21.340046  36.250968  35.360186\n",
      "Yorkshire Region         8.225324  22.382851  36.640080  32.751745\n"
     ]
    },
    {
     "data": {
      "image/png": "[encoded data removed]",
      "text/plain": [
       "<Figure size 1080x576 with 1 Axes>"
      ]
     },
     "metadata": {},
     "output_type": "display_data"
    }
   ],
   "source": [
    "## We can see that Failure Rate and Withdrawal rate is similar in all the regions.\n",
    "\n",
    "stacked_plot(student_info, 'region', 'final_result', 'id_student', plot_size=(15, 8))"
   ]
  },
  {
   "cell_type": "code",
   "execution_count": 66,
   "id": "heavy-concern",
   "metadata": {
    "execution": {
     "iopub.execute_input": "2021-05-11T17:40:19.739848Z",
     "iopub.status.busy": "2021-05-11T17:40:19.738759Z",
     "iopub.status.idle": "2021-05-11T17:40:20.151201Z",
     "shell.execute_reply": "2021-05-11T17:40:20.150413Z"
    },
    "papermill": {
     "duration": 0.560397,
     "end_time": "2021-05-11T17:40:20.151362",
     "exception": false,
     "start_time": "2021-05-11T17:40:19.590965",
     "status": "completed"
    },
    "tags": []
   },
   "outputs": [
    {
     "name": "stdout",
     "output_type": "stream",
     "text": [
      "final_result  Distinction       Fail       Pass  Withdrawn\n",
      "imd_band                                                  \n",
      "0-10%            5.073996  27.665358  30.081546  37.179100\n",
      "10-20            5.432309  25.938567  33.191126  35.437998\n",
      "20-30%           9.695698  20.755509  36.873033  32.675761\n",
      "30-40%           8.900819  22.153151  38.005086  30.940944\n",
      "40-50%           8.998771  21.406634  37.592138  32.002457\n",
      "50-60%           9.507042  22.439181  39.276569  28.777209\n",
      "60-70%          10.292599  18.519793  41.617900  29.569707\n",
      "70-80%          10.871830  20.805835  40.639111  27.683223\n",
      "80-90%          11.875453  17.921796  42.179580  28.023172\n",
      "90-100%         14.116719  16.600946  43.414826  25.867508\n"
     ]
    },
    {
     "data": {
      "image/png": "[encoded data removed]",
      "text/plain": [
       "<Figure size 1080x576 with 1 Axes>"
      ]
     },
     "metadata": {},
     "output_type": "display_data"
    }
   ],
   "source": [
    "stacked_plot(student_info, 'imd_band', 'final_result', 'id_student', plot_size=(15, 8))"
   ]
  },
  {
   "cell_type": "code",
   "execution_count": 67,
   "id": "alternate-scratch",
   "metadata": {
    "execution": {
     "iopub.execute_input": "2021-05-11T17:40:20.510871Z",
     "iopub.status.busy": "2021-05-11T17:40:20.486933Z",
     "iopub.status.idle": "2021-05-11T17:40:20.620161Z",
     "shell.execute_reply": "2021-05-11T17:40:20.620712Z"
    },
    "papermill": {
     "duration": 0.329419,
     "end_time": "2021-05-11T17:40:20.620889",
     "exception": false,
     "start_time": "2021-05-11T17:40:20.291470",
     "status": "completed"
    },
    "tags": []
   },
   "outputs": [
    {
     "data": {
      "image/png": "[encoded data removed]",
      "text/plain": [
       "<Figure size 432x288 with 1 Axes>"
      ]
     },
     "metadata": {},
     "output_type": "display_data"
    }
   ],
   "source": [
    "# We can see that Males are more in number as compared to females\n",
    "sns.countplot(x ='gender', data = student_info)\n",
    " \n",
    "# Show the plot\n",
    "plt.show()"
   ]
  },
  {
   "cell_type": "code",
   "execution_count": 68,
   "id": "adolescent-waterproof",
   "metadata": {
    "execution": {
     "iopub.execute_input": "2021-05-11T17:40:20.925173Z",
     "iopub.status.busy": "2021-05-11T17:40:20.924000Z",
     "iopub.status.idle": "2021-05-11T17:40:21.157176Z",
     "shell.execute_reply": "2021-05-11T17:40:21.156556Z"
    },
    "papermill": {
     "duration": 0.392514,
     "end_time": "2021-05-11T17:40:21.157343",
     "exception": false,
     "start_time": "2021-05-11T17:40:20.764829",
     "status": "completed"
    },
    "tags": []
   },
   "outputs": [
    {
     "name": "stdout",
     "output_type": "stream",
     "text": [
      "final_result  Distinction       Fail       Pass  Withdrawn\n",
      "gender                                                    \n",
      "F                9.471396  21.083028  38.965892  30.479685\n",
      "M                9.118881  22.092308  37.068531  31.720280\n"
     ]
    },
    {
     "data": {
      "image/png": "[encoded data removed]",
      "text/plain": [
       "<Figure size 720x576 with 1 Axes>"
      ]
     },
     "metadata": {},
     "output_type": "display_data"
    }
   ],
   "source": [
    "## We can see that there is no difference between the Withdrawal Rates and Failure Rates for both the gender.\n",
    "\n",
    "stacked_plot(student_info, 'gender', 'final_result', 'id_student', plot_size=(10, 8))"
   ]
  },
  {
   "cell_type": "code",
   "execution_count": 69,
   "id": "structural-school",
   "metadata": {
    "execution": {
     "iopub.execute_input": "2021-05-11T17:40:21.450768Z",
     "iopub.status.busy": "2021-05-11T17:40:21.449644Z",
     "iopub.status.idle": "2021-05-11T17:40:21.680948Z",
     "shell.execute_reply": "2021-05-11T17:40:21.680345Z"
    },
    "papermill": {
     "duration": 0.380551,
     "end_time": "2021-05-11T17:40:21.681116",
     "exception": false,
     "start_time": "2021-05-11T17:40:21.300565",
     "status": "completed"
    },
    "tags": []
   },
   "outputs": [
    {
     "name": "stdout",
     "output_type": "stream",
     "text": [
      "final_result  Distinction       Fail       Pass  Withdrawn\n",
      "disability                                                \n",
      "N                9.517823  21.543376  38.659146  30.279656\n",
      "Y                7.048040  22.503161  31.099874  39.348925\n"
     ]
    },
    {
     "data": {
      "image/png": "[encoded data removed]",
      "text/plain": [
       "<Figure size 1080x576 with 1 Axes>"
      ]
     },
     "metadata": {},
     "output_type": "display_data"
    }
   ],
   "source": [
    "# Following plot shows us the results by disability.\n",
    "# Withdrawn Rate is more in People who are disable.\n",
    "\n",
    "\n",
    "stacked_plot(student_info, 'disability', 'final_result', 'id_student', plot_size=(15, 8))"
   ]
  },
  {
   "cell_type": "markdown",
   "id": "lonely-pasta",
   "metadata": {
    "papermill": {
     "duration": 0.148326,
     "end_time": "2021-05-11T17:40:21.974729",
     "exception": false,
     "start_time": "2021-05-11T17:40:21.826403",
     "status": "completed"
    },
    "tags": []
   },
   "source": [
    "###### Combining Student Info with the Student Registration Table"
   ]
  },
  {
   "cell_type": "code",
   "execution_count": 70,
   "id": "strange-clerk",
   "metadata": {
    "execution": {
     "iopub.execute_input": "2021-05-11T17:40:22.281739Z",
     "iopub.status.busy": "2021-05-11T17:40:22.280941Z",
     "iopub.status.idle": "2021-05-11T17:40:22.284370Z",
     "shell.execute_reply": "2021-05-11T17:40:22.283717Z"
    },
    "papermill": {
     "duration": 0.15747,
     "end_time": "2021-05-11T17:40:22.284511",
     "exception": false,
     "start_time": "2021-05-11T17:40:22.127041",
     "status": "completed"
    },
    "tags": []
   },
   "outputs": [],
   "source": [
    "student_registration_merge_courses = student_registration_merge_courses.drop('date_unregistration', axis = 1)"
   ]
  },
  {
   "cell_type": "code",
   "execution_count": 71,
   "id": "proper-sense",
   "metadata": {
    "execution": {
     "iopub.execute_input": "2021-05-11T17:40:22.583901Z",
     "iopub.status.busy": "2021-05-11T17:40:22.582657Z",
     "iopub.status.idle": "2021-05-11T17:40:22.623117Z",
     "shell.execute_reply": "2021-05-11T17:40:22.623619Z"
    },
    "papermill": {
     "duration": 0.190887,
     "end_time": "2021-05-11T17:40:22.623816",
     "exception": false,
     "start_time": "2021-05-11T17:40:22.432929",
     "status": "completed"
    },
    "tags": []
   },
   "outputs": [],
   "source": [
    "student_info = student_info.merge(student_registration_merge_courses,\n",
    "                                 on = ['code_module', 'code_presentation', 'id_student'],\n",
    "                                 how = 'left')"
   ]
  },
  {
   "cell_type": "code",
   "execution_count": 72,
   "id": "divine-plenty",
   "metadata": {
    "execution": {
     "iopub.execute_input": "2021-05-11T17:40:22.925270Z",
     "iopub.status.busy": "2021-05-11T17:40:22.924508Z",
     "iopub.status.idle": "2021-05-11T17:40:23.167182Z",
     "shell.execute_reply": "2021-05-11T17:40:23.167677Z"
    },
    "papermill": {
     "duration": 0.39763,
     "end_time": "2021-05-11T17:40:23.167866",
     "exception": false,
     "start_time": "2021-05-11T17:40:22.770236",
     "status": "completed"
    },
    "tags": []
   },
   "outputs": [
    {
     "name": "stdout",
     "output_type": "stream",
     "text": [
      "final_result    Distinction       Fail       Pass  Withdrawn\n",
      "Starting_Month                                              \n",
      "February           8.896541  24.615631  34.769379  31.718450\n",
      "October            9.515046  19.786123  39.885601  30.813231\n"
     ]
    },
    {
     "data": {
      "image/png": "[encoded data removed]",
      "text/plain": [
       "<Figure size 1080x576 with 1 Axes>"
      ]
     },
     "metadata": {},
     "output_type": "display_data"
    }
   ],
   "source": [
    "## Following Plot shows us the Result by Session. Failure Rate is more in people who took the course in February.\n",
    "## Also withdrawn rate is slightly more in course starting in February. \n",
    "\n",
    "stacked_plot(student_info, 'Starting_Month', 'final_result', 'id_student', plot_size=(15, 8))"
   ]
  },
  {
   "cell_type": "code",
   "execution_count": 73,
   "id": "covered-stanley",
   "metadata": {
    "execution": {
     "iopub.execute_input": "2021-05-11T17:40:23.486800Z",
     "iopub.status.busy": "2021-05-11T17:40:23.486051Z",
     "iopub.status.idle": "2021-05-11T17:40:23.657856Z",
     "shell.execute_reply": "2021-05-11T17:40:23.658422Z"
    },
    "papermill": {
     "duration": 0.3417,
     "end_time": "2021-05-11T17:40:23.658610",
     "exception": false,
     "start_time": "2021-05-11T17:40:23.316910",
     "status": "completed"
    },
    "tags": []
   },
   "outputs": [
    {
     "data": {
      "image/png": "[encoded data removed]",
      "text/plain": [
       "<Figure size 432x288 with 1 Axes>"
      ]
     },
     "metadata": {},
     "output_type": "display_data"
    }
   ],
   "source": [
    "## There are less people who registered in February as compared to October. But still the failure and withdrawn rate\n",
    "## is more for february. May be the students don't like content or the course in February.\n",
    "sns.countplot(x ='Starting_Month', data = student_info)\n",
    " \n",
    "# Show the plot\n",
    "plt.show()"
   ]
  },
  {
   "cell_type": "code",
   "execution_count": 74,
   "id": "bright-bradley",
   "metadata": {
    "execution": {
     "iopub.execute_input": "2021-05-11T17:40:23.957124Z",
     "iopub.status.busy": "2021-05-11T17:40:23.956410Z",
     "iopub.status.idle": "2021-05-11T17:40:24.282829Z",
     "shell.execute_reply": "2021-05-11T17:40:24.283410Z"
    },
    "papermill": {
     "duration": 0.478717,
     "end_time": "2021-05-11T17:40:24.283606",
     "exception": false,
     "start_time": "2021-05-11T17:40:23.804889",
     "status": "completed"
    },
    "tags": []
   },
   "outputs": [
    {
     "name": "stdout",
     "output_type": "stream",
     "text": [
      "final_result          Distinction       Fail       Pass  Withdrawn\n",
      "num_of_prev_attempts                                              \n",
      "0                       10.052426  20.164667  39.224517  30.558390\n",
      "1                        4.334647  30.585026  30.221279  34.859048\n",
      "2                        3.259259  34.962963  25.185185  36.592593\n",
      "3                        0.704225  40.140845  21.830986  37.323944\n",
      "4                        0.000000  30.769231  33.333333  35.897436\n",
      "5                        0.000000  46.153846  15.384615  38.461538\n",
      "6                       25.000000  25.000000   0.000000  50.000000\n"
     ]
    },
    {
     "data": {
      "image/png": "[encoded data removed]",
      "text/plain": [
       "<Figure size 1080x576 with 1 Axes>"
      ]
     },
     "metadata": {},
     "output_type": "display_data"
    }
   ],
   "source": [
    "## We can clearly see from the plot that we have the least failure and withdrawn rate in the students who did not\n",
    "## took the course before or number of previous attempts are zero. \n",
    "\n",
    "stacked_plot(student_info, 'num_of_prev_attempts', 'final_result', 'id_student', plot_size=(15, 8))\n"
   ]
  },
  {
   "cell_type": "code",
   "execution_count": 75,
   "id": "orange-craps",
   "metadata": {
    "execution": {
     "iopub.execute_input": "2021-05-11T17:40:25.094440Z",
     "iopub.status.busy": "2021-05-11T17:40:25.093367Z",
     "iopub.status.idle": "2021-05-11T17:40:25.120561Z",
     "shell.execute_reply": "2021-05-11T17:40:25.121141Z"
    },
    "papermill": {
     "duration": 0.189158,
     "end_time": "2021-05-11T17:40:25.121341",
     "exception": false,
     "start_time": "2021-05-11T17:40:24.932183",
     "status": "completed"
    },
    "tags": []
   },
   "outputs": [],
   "source": [
    "student_info['num_of_prev_attempts'] = [0 if attempts == 0 else 1 for attempts in student_info['num_of_prev_attempts']]"
   ]
  },
  {
   "cell_type": "code",
   "execution_count": 76,
   "id": "western-black",
   "metadata": {
    "execution": {
     "iopub.execute_input": "2021-05-11T17:40:25.427683Z",
     "iopub.status.busy": "2021-05-11T17:40:25.426677Z",
     "iopub.status.idle": "2021-05-11T17:40:25.566747Z",
     "shell.execute_reply": "2021-05-11T17:40:25.567226Z"
    },
    "papermill": {
     "duration": 0.294066,
     "end_time": "2021-05-11T17:40:25.567402",
     "exception": false,
     "start_time": "2021-05-11T17:40:25.273336",
     "status": "completed"
    },
    "tags": []
   },
   "outputs": [
    {
     "data": {
      "image/png": "[encoded data removed]",
      "text/plain": [
       "<Figure size 432x288 with 1 Axes>"
      ]
     },
     "metadata": {},
     "output_type": "display_data"
    }
   ],
   "source": [
    "## Still there is imbalance in the feature but it's better than the initial.\n",
    "sns.countplot(x ='num_of_prev_attempts', data = student_info)\n",
    " \n",
    "# Show the plot\n",
    "plt.show()"
   ]
  },
  {
   "cell_type": "code",
   "execution_count": 77,
   "id": "ordinary-brooklyn",
   "metadata": {
    "execution": {
     "iopub.execute_input": "2021-05-11T17:40:25.874161Z",
     "iopub.status.busy": "2021-05-11T17:40:25.873095Z",
     "iopub.status.idle": "2021-05-11T17:40:26.113575Z",
     "shell.execute_reply": "2021-05-11T17:40:26.112890Z"
    },
    "papermill": {
     "duration": 0.396214,
     "end_time": "2021-05-11T17:40:26.113716",
     "exception": false,
     "start_time": "2021-05-11T17:40:25.717502",
     "status": "completed"
    },
    "tags": []
   },
   "outputs": [
    {
     "name": "stdout",
     "output_type": "stream",
     "text": [
      "final_result          Distinction       Fail       Pass  Withdrawn\n",
      "num_of_prev_attempts                                              \n",
      "0                       10.052426  20.164667  39.224517  30.558390\n",
      "1                        4.002876  31.663471  29.074784  35.258869\n"
     ]
    },
    {
     "data": {
      "image/png": "[encoded data removed]",
      "text/plain": [
       "<Figure size 1080x576 with 1 Axes>"
      ]
     },
     "metadata": {},
     "output_type": "display_data"
    }
   ],
   "source": [
    "# We can clearly see that people with previous attempts have more failure and withdrawn rate.\n",
    "\n",
    "stacked_plot(student_info, 'num_of_prev_attempts', 'final_result', 'id_student', plot_size=(15, 8))"
   ]
  },
  {
   "cell_type": "code",
   "execution_count": 78,
   "id": "fresh-spiritual",
   "metadata": {
    "execution": {
     "iopub.execute_input": "2021-05-11T17:40:26.427646Z",
     "iopub.status.busy": "2021-05-11T17:40:26.426897Z",
     "iopub.status.idle": "2021-05-11T17:40:26.934531Z",
     "shell.execute_reply": "2021-05-11T17:40:26.933943Z"
    },
    "papermill": {
     "duration": 0.667052,
     "end_time": "2021-05-11T17:40:26.934693",
     "exception": false,
     "start_time": "2021-05-11T17:40:26.267641",
     "status": "completed"
    },
    "tags": []
   },
   "outputs": [
    {
     "name": "stdout",
     "output_type": "stream",
     "text": [
      "final_result  Distinction       Fail       Pass  Withdrawn\n",
      "code_module                                               \n",
      "AAA              5.882353  12.165775  65.106952  16.844920\n",
      "BBB              8.559869  22.341636  38.905045  30.193450\n",
      "CCC             11.231394  17.613893  26.612539  44.542174\n",
      "DDD              6.106505  22.512755  35.507015  35.873724\n",
      "EEE             12.133606  19.154738  44.103613  24.608044\n",
      "FFF              8.631796  22.043288  38.366400  30.958516\n",
      "GGG             15.627466  28.729282  44.119968  11.523283\n"
     ]
    },
    {
     "data": {
      "image/png": "[encoded data removed]",
      "text/plain": [
       "<Figure size 1080x576 with 1 Axes>"
      ]
     },
     "metadata": {},
     "output_type": "display_data"
    }
   ],
   "source": [
    "## We can see that \n",
    "\n",
    "stacked_plot(student_info, 'code_module', 'final_result', 'id_student', plot_size=(15, 8))"
   ]
  },
  {
   "cell_type": "code",
   "execution_count": 79,
   "id": "hungry-cycling",
   "metadata": {
    "execution": {
     "iopub.execute_input": "2021-05-11T17:40:27.256827Z",
     "iopub.status.busy": "2021-05-11T17:40:27.256124Z",
     "iopub.status.idle": "2021-05-11T17:40:27.661387Z",
     "shell.execute_reply": "2021-05-11T17:40:27.661927Z"
    },
    "papermill": {
     "duration": 0.570824,
     "end_time": "2021-05-11T17:40:27.662126",
     "exception": false,
     "start_time": "2021-05-11T17:40:27.091302",
     "status": "completed"
    },
    "tags": []
   },
   "outputs": [],
   "source": [
    "student_info['Code_Category'] = ['Social_Science' if student_info['code_module'].iloc[i] in ['AAA', 'BBB', 'GGG']\n",
    "                                 else 'STEM' for i in range(len(student_info))]"
   ]
  },
  {
   "cell_type": "code",
   "execution_count": 80,
   "id": "compact-poker",
   "metadata": {
    "execution": {
     "iopub.execute_input": "2021-05-11T17:40:27.975407Z",
     "iopub.status.busy": "2021-05-11T17:40:27.974374Z",
     "iopub.status.idle": "2021-05-11T17:40:28.210901Z",
     "shell.execute_reply": "2021-05-11T17:40:28.211456Z"
    },
    "papermill": {
     "duration": 0.398313,
     "end_time": "2021-05-11T17:40:28.211643",
     "exception": false,
     "start_time": "2021-05-11T17:40:27.813330",
     "status": "completed"
    },
    "tags": []
   },
   "outputs": [
    {
     "name": "stdout",
     "output_type": "stream",
     "text": [
      "final_result    Distinction       Fail       Pass  Withdrawn\n",
      "Code_Category                                               \n",
      "STEM               8.910382  20.867209  35.879824  34.342585\n",
      "Social_Science     9.981235  23.107855  41.837191  25.073720\n"
     ]
    },
    {
     "data": {
      "image/png": "[encoded data removed]",
      "text/plain": [
       "<Figure size 1080x576 with 1 Axes>"
      ]
     },
     "metadata": {},
     "output_type": "display_data"
    }
   ],
   "source": [
    "## From the following plot we can see that Failure Rate is higher in Social Science and Withdrawn rate is higher in\n",
    "## STEM Courses.\n",
    "\n",
    "stacked_plot(student_info, 'Code_Category', 'final_result', 'id_student', plot_size=(15, 8))"
   ]
  },
  {
   "cell_type": "markdown",
   "id": "demonstrated-juice",
   "metadata": {
    "papermill": {
     "duration": 0.157298,
     "end_time": "2021-05-11T17:40:28.523917",
     "exception": false,
     "start_time": "2021-05-11T17:40:28.366619",
     "status": "completed"
    },
    "tags": []
   },
   "source": [
    "# DATA PREPARATION\n",
    "#### Feature Selection\n",
    "#### Data Encoding\n",
    "#### Splitting Data"
   ]
  },
  {
   "cell_type": "code",
   "execution_count": 81,
   "id": "shaped-defense",
   "metadata": {
    "execution": {
     "iopub.execute_input": "2021-05-11T17:40:28.837470Z",
     "iopub.status.busy": "2021-05-11T17:40:28.836602Z",
     "iopub.status.idle": "2021-05-11T17:40:28.850880Z",
     "shell.execute_reply": "2021-05-11T17:40:28.850249Z"
    },
    "papermill": {
     "duration": 0.173639,
     "end_time": "2021-05-11T17:40:28.851056",
     "exception": false,
     "start_time": "2021-05-11T17:40:28.677417",
     "status": "completed"
    },
    "tags": []
   },
   "outputs": [],
   "source": [
    "# In this step, I will remove code_module, code_presentation, id_student and Year as those won't have impact on the result \n",
    "\n",
    "student_info = student_info.drop(['code_presentation', 'id_student', 'Year'], axis = 1)"
   ]
  },
  {
   "cell_type": "code",
   "execution_count": 82,
   "id": "stuck-ocean",
   "metadata": {
    "execution": {
     "iopub.execute_input": "2021-05-11T17:40:29.169713Z",
     "iopub.status.busy": "2021-05-11T17:40:29.169023Z",
     "iopub.status.idle": "2021-05-11T17:40:29.172313Z",
     "shell.execute_reply": "2021-05-11T17:40:29.172922Z"
    },
    "papermill": {
     "duration": 0.162484,
     "end_time": "2021-05-11T17:40:29.173133",
     "exception": false,
     "start_time": "2021-05-11T17:40:29.010649",
     "status": "completed"
    },
    "tags": []
   },
   "outputs": [],
   "source": [
    "student_info['date_registration'] = student_info['date_registration'].astype(float)"
   ]
  },
  {
   "cell_type": "code",
   "execution_count": 83,
   "id": "nutritional-skirt",
   "metadata": {
    "execution": {
     "iopub.execute_input": "2021-05-11T17:40:29.486226Z",
     "iopub.status.busy": "2021-05-11T17:40:29.485549Z",
     "iopub.status.idle": "2021-05-11T17:40:29.499212Z",
     "shell.execute_reply": "2021-05-11T17:40:29.498660Z"
    },
    "papermill": {
     "duration": 0.171169,
     "end_time": "2021-05-11T17:40:29.499357",
     "exception": false,
     "start_time": "2021-05-11T17:40:29.328188",
     "status": "completed"
    },
    "tags": []
   },
   "outputs": [
    {
     "data": {
      "text/plain": [
       "count    32593.000000\n",
       "mean        69.492437\n",
       "std         49.044122\n",
       "min          0.000000\n",
       "25%         29.000000\n",
       "50%         57.000000\n",
       "75%        100.000000\n",
       "max        322.000000\n",
       "Name: date_registration, dtype: float64"
      ]
     },
     "execution_count": 83,
     "metadata": {},
     "output_type": "execute_result"
    }
   ],
   "source": [
    "student_info['date_registration'].describe()"
   ]
  },
  {
   "cell_type": "code",
   "execution_count": 84,
   "id": "helpful-silicon",
   "metadata": {
    "execution": {
     "iopub.execute_input": "2021-05-11T17:40:29.833376Z",
     "iopub.status.busy": "2021-05-11T17:40:29.832257Z",
     "iopub.status.idle": "2021-05-11T17:40:29.837519Z",
     "shell.execute_reply": "2021-05-11T17:40:29.836867Z"
    },
    "papermill": {
     "duration": 0.183958,
     "end_time": "2021-05-11T17:40:29.837757",
     "exception": false,
     "start_time": "2021-05-11T17:40:29.653799",
     "status": "completed"
    },
    "scrolled": true,
    "tags": []
   },
   "outputs": [
    {
     "data": {
      "text/html": [
       "<div>\n",
       "<style scoped>\n",
       "    .dataframe tbody tr th:only-of-type {\n",
       "        vertical-align: middle;\n",
       "    }\n",
       "\n",
       "    .dataframe tbody tr th {\n",
       "        vertical-align: top;\n",
       "    }\n",
       "\n",
       "    .dataframe thead th {\n",
       "        text-align: right;\n",
       "    }\n",
       "</style>\n",
       "<table border=\"1\" class=\"dataframe\">\n",
       "  <thead>\n",
       "    <tr style=\"text-align: right;\">\n",
       "      <th></th>\n",
       "      <th>code_module</th>\n",
       "      <th>gender</th>\n",
       "      <th>region</th>\n",
       "      <th>highest_education</th>\n",
       "      <th>imd_band</th>\n",
       "      <th>age_band</th>\n",
       "      <th>num_of_prev_attempts</th>\n",
       "      <th>studied_credits</th>\n",
       "      <th>disability</th>\n",
       "      <th>final_result</th>\n",
       "      <th>sum_click</th>\n",
       "      <th>After_Clicks</th>\n",
       "      <th>Before_Clicks</th>\n",
       "      <th>date_registration</th>\n",
       "      <th>module_presentation_length</th>\n",
       "      <th>Starting_Month</th>\n",
       "      <th>Code_Category</th>\n",
       "    </tr>\n",
       "  </thead>\n",
       "  <tbody>\n",
       "    <tr>\n",
       "      <th>0</th>\n",
       "      <td>AAA</td>\n",
       "      <td>M</td>\n",
       "      <td>East Anglian Region</td>\n",
       "      <td>1</td>\n",
       "      <td>90-100%</td>\n",
       "      <td>55&lt;=</td>\n",
       "      <td>0</td>\n",
       "      <td>240</td>\n",
       "      <td>N</td>\n",
       "      <td>Pass</td>\n",
       "      <td>934.0</td>\n",
       "      <td>836.0</td>\n",
       "      <td>98.0</td>\n",
       "      <td>159.0</td>\n",
       "      <td>268</td>\n",
       "      <td>October</td>\n",
       "      <td>Social_Science</td>\n",
       "    </tr>\n",
       "    <tr>\n",
       "      <th>1</th>\n",
       "      <td>AAA</td>\n",
       "      <td>F</td>\n",
       "      <td>Scotland</td>\n",
       "      <td>1</td>\n",
       "      <td>20-30%</td>\n",
       "      <td>35-55</td>\n",
       "      <td>0</td>\n",
       "      <td>60</td>\n",
       "      <td>N</td>\n",
       "      <td>Pass</td>\n",
       "      <td>1435.0</td>\n",
       "      <td>1220.0</td>\n",
       "      <td>215.0</td>\n",
       "      <td>53.0</td>\n",
       "      <td>268</td>\n",
       "      <td>October</td>\n",
       "      <td>Social_Science</td>\n",
       "    </tr>\n",
       "    <tr>\n",
       "      <th>2</th>\n",
       "      <td>AAA</td>\n",
       "      <td>F</td>\n",
       "      <td>North Western Region</td>\n",
       "      <td>0</td>\n",
       "      <td>30-40%</td>\n",
       "      <td>35-55</td>\n",
       "      <td>0</td>\n",
       "      <td>60</td>\n",
       "      <td>Y</td>\n",
       "      <td>Withdrawn</td>\n",
       "      <td>281.0</td>\n",
       "      <td>179.0</td>\n",
       "      <td>102.0</td>\n",
       "      <td>92.0</td>\n",
       "      <td>268</td>\n",
       "      <td>October</td>\n",
       "      <td>Social_Science</td>\n",
       "    </tr>\n",
       "    <tr>\n",
       "      <th>3</th>\n",
       "      <td>AAA</td>\n",
       "      <td>F</td>\n",
       "      <td>South East Region</td>\n",
       "      <td>0</td>\n",
       "      <td>50-60%</td>\n",
       "      <td>35-55</td>\n",
       "      <td>0</td>\n",
       "      <td>60</td>\n",
       "      <td>N</td>\n",
       "      <td>Pass</td>\n",
       "      <td>2158.0</td>\n",
       "      <td>1989.0</td>\n",
       "      <td>169.0</td>\n",
       "      <td>52.0</td>\n",
       "      <td>268</td>\n",
       "      <td>October</td>\n",
       "      <td>Social_Science</td>\n",
       "    </tr>\n",
       "    <tr>\n",
       "      <th>4</th>\n",
       "      <td>AAA</td>\n",
       "      <td>F</td>\n",
       "      <td>West Midlands Region</td>\n",
       "      <td>0</td>\n",
       "      <td>50-60%</td>\n",
       "      <td>0-35</td>\n",
       "      <td>0</td>\n",
       "      <td>60</td>\n",
       "      <td>N</td>\n",
       "      <td>Pass</td>\n",
       "      <td>1034.0</td>\n",
       "      <td>739.0</td>\n",
       "      <td>295.0</td>\n",
       "      <td>176.0</td>\n",
       "      <td>268</td>\n",
       "      <td>October</td>\n",
       "      <td>Social_Science</td>\n",
       "    </tr>\n",
       "  </tbody>\n",
       "</table>\n",
       "</div>"
      ],
      "text/plain": [
       "  code_module gender                region  highest_education imd_band  \\\n",
       "0         AAA      M   East Anglian Region                  1  90-100%   \n",
       "1         AAA      F              Scotland                  1   20-30%   \n",
       "2         AAA      F  North Western Region                  0   30-40%   \n",
       "3         AAA      F     South East Region                  0   50-60%   \n",
       "4         AAA      F  West Midlands Region                  0   50-60%   \n",
       "\n",
       "  age_band  num_of_prev_attempts  studied_credits disability final_result  \\\n",
       "0     55<=                     0              240          N         Pass   \n",
       "1    35-55                     0               60          N         Pass   \n",
       "2    35-55                     0               60          Y    Withdrawn   \n",
       "3    35-55                     0               60          N         Pass   \n",
       "4     0-35                     0               60          N         Pass   \n",
       "\n",
       "   sum_click  After_Clicks  Before_Clicks  date_registration  \\\n",
       "0      934.0         836.0           98.0              159.0   \n",
       "1     1435.0        1220.0          215.0               53.0   \n",
       "2      281.0         179.0          102.0               92.0   \n",
       "3     2158.0        1989.0          169.0               52.0   \n",
       "4     1034.0         739.0          295.0              176.0   \n",
       "\n",
       "   module_presentation_length Starting_Month   Code_Category  \n",
       "0                         268        October  Social_Science  \n",
       "1                         268        October  Social_Science  \n",
       "2                         268        October  Social_Science  \n",
       "3                         268        October  Social_Science  \n",
       "4                         268        October  Social_Science  "
      ]
     },
     "execution_count": 84,
     "metadata": {},
     "output_type": "execute_result"
    }
   ],
   "source": [
    "student_info.head()"
   ]
  },
  {
   "cell_type": "code",
   "execution_count": 85,
   "id": "requested-strain",
   "metadata": {
    "execution": {
     "iopub.execute_input": "2021-05-11T17:40:30.191714Z",
     "iopub.status.busy": "2021-05-11T17:40:30.190946Z",
     "iopub.status.idle": "2021-05-11T17:40:30.193373Z",
     "shell.execute_reply": "2021-05-11T17:40:30.193892Z"
    },
    "papermill": {
     "duration": 0.187236,
     "end_time": "2021-05-11T17:40:30.194095",
     "exception": false,
     "start_time": "2021-05-11T17:40:30.006859",
     "status": "completed"
    },
    "tags": []
   },
   "outputs": [],
   "source": [
    "# There are two types of categorical variables in the data.\n",
    "# 1. NOMINAL :- Here there is no order in the categories\n",
    "# 2. ORDINAL :- When there is order in the category\n",
    "\n",
    "nominal_columns = ['gender', 'region', 'disability', 'Starting_Month', 'code_module', 'Code_Category']\n",
    "ordinal_columns = ['highest_education', 'imd_band', 'age_band']"
   ]
  },
  {
   "cell_type": "code",
   "execution_count": 86,
   "id": "instructional-softball",
   "metadata": {
    "execution": {
     "iopub.execute_input": "2021-05-11T17:40:30.515630Z",
     "iopub.status.busy": "2021-05-11T17:40:30.514706Z",
     "iopub.status.idle": "2021-05-11T17:40:30.658745Z",
     "shell.execute_reply": "2021-05-11T17:40:30.658042Z"
    },
    "papermill": {
     "duration": 0.306753,
     "end_time": "2021-05-11T17:40:30.658891",
     "exception": false,
     "start_time": "2021-05-11T17:40:30.352138",
     "status": "completed"
    },
    "tags": []
   },
   "outputs": [
    {
     "name": "stdout",
     "output_type": "stream",
     "text": [
      "['M' 'F']\n",
      "['East Anglian Region' 'Scotland' 'North Western Region'\n",
      " 'South East Region' 'West Midlands Region' 'Wales' 'North Region'\n",
      " 'South Region' 'Ireland' 'South West Region' 'East Midlands Region'\n",
      " 'Yorkshire Region' 'London Region']\n",
      "['N' 'Y']\n",
      "['October' 'February']\n",
      "['AAA' 'BBB' 'CCC' 'DDD' 'EEE' 'FFF' 'GGG']\n",
      "['Social_Science' 'STEM']\n"
     ]
    }
   ],
   "source": [
    "data = labelEncoder(student_info, ordinal_columns)\n",
    "data = categorical_encoding(student_info, nominal_columns)"
   ]
  },
  {
   "cell_type": "code",
   "execution_count": 87,
   "id": "coordinate-doubt",
   "metadata": {
    "execution": {
     "iopub.execute_input": "2021-05-11T17:40:30.974156Z",
     "iopub.status.busy": "2021-05-11T17:40:30.973156Z",
     "iopub.status.idle": "2021-05-11T17:40:31.182366Z",
     "shell.execute_reply": "2021-05-11T17:40:31.181788Z"
    },
    "papermill": {
     "duration": 0.367778,
     "end_time": "2021-05-11T17:40:31.182517",
     "exception": false,
     "start_time": "2021-05-11T17:40:30.814739",
     "status": "completed"
    },
    "tags": []
   },
   "outputs": [
    {
     "data": {
      "image/png": "[encoded data removed]",
      "text/plain": [
       "<Figure size 432x288 with 1 Axes>"
      ]
     },
     "metadata": {},
     "output_type": "display_data"
    }
   ],
   "source": [
    "sns.countplot(x ='final_result', data = data)\n",
    " \n",
    "# Show the plot\n",
    "plt.show()"
   ]
  },
  {
   "cell_type": "markdown",
   "id": "indonesian-dictionary",
   "metadata": {
    "papermill": {
     "duration": 0.160875,
     "end_time": "2021-05-11T17:40:31.503220",
     "exception": false,
     "start_time": "2021-05-11T17:40:31.342345",
     "status": "completed"
    },
    "tags": []
   },
   "source": [
    "### In the First case I am assuming Withdrawn Class as Fail and I am building a model whether student will pass or fail.\n",
    "### In the Second case I will create a labels for dropout vs non-dropout and build a model using that"
   ]
  },
  {
   "cell_type": "code",
   "execution_count": 88,
   "id": "equal-bridal",
   "metadata": {
    "execution": {
     "iopub.execute_input": "2021-05-11T17:40:31.851768Z",
     "iopub.status.busy": "2021-05-11T17:40:31.850459Z",
     "iopub.status.idle": "2021-05-11T17:40:31.853612Z",
     "shell.execute_reply": "2021-05-11T17:40:31.852919Z"
    },
    "papermill": {
     "duration": 0.191848,
     "end_time": "2021-05-11T17:40:31.853776",
     "exception": false,
     "start_time": "2021-05-11T17:40:31.661928",
     "status": "completed"
    },
    "tags": []
   },
   "outputs": [],
   "source": [
    "## To built a simplified binary class model, I am labeling Distinction and Pass as 0 and Withdrawn and Failure as 1\n",
    "\n",
    "data['Result']  = [0 if result in ['Pass', 'Distinction'] else 1 for result in data['final_result']]"
   ]
  },
  {
   "cell_type": "code",
   "execution_count": 89,
   "id": "diverse-broadway",
   "metadata": {
    "execution": {
     "iopub.execute_input": "2021-05-11T17:40:32.205765Z",
     "iopub.status.busy": "2021-05-11T17:40:32.205092Z",
     "iopub.status.idle": "2021-05-11T17:40:32.208794Z",
     "shell.execute_reply": "2021-05-11T17:40:32.208103Z"
    },
    "papermill": {
     "duration": 0.192532,
     "end_time": "2021-05-11T17:40:32.208938",
     "exception": false,
     "start_time": "2021-05-11T17:40:32.016406",
     "status": "completed"
    },
    "tags": []
   },
   "outputs": [],
   "source": [
    "## In this steP, I am creating a dropout column where we consider withdrawn as the dropout and everything else as no dropout\n",
    "## '0' : Not Withdrawn, '1': 'Withdrawn'\n",
    "\n",
    "data['dropout'] = [0 if result in ['Pass', 'Distinction', 'Fail'] else 1 for result in data['final_result']]"
   ]
  },
  {
   "cell_type": "code",
   "execution_count": 90,
   "id": "conservative-lighter",
   "metadata": {
    "execution": {
     "iopub.execute_input": "2021-05-11T17:40:32.533587Z",
     "iopub.status.busy": "2021-05-11T17:40:32.532839Z",
     "iopub.status.idle": "2021-05-11T17:40:32.540424Z",
     "shell.execute_reply": "2021-05-11T17:40:32.539841Z"
    },
    "papermill": {
     "duration": 0.169942,
     "end_time": "2021-05-11T17:40:32.540583",
     "exception": false,
     "start_time": "2021-05-11T17:40:32.370641",
     "status": "completed"
    },
    "tags": []
   },
   "outputs": [],
   "source": [
    "## Creating Feature and Target Dataframes\n",
    "\n",
    "feature = data.drop(['final_result', 'Result'], axis = 1)\n",
    "target  = data['Result']"
   ]
  },
  {
   "cell_type": "code",
   "execution_count": 91,
   "id": "solved-dimension",
   "metadata": {
    "execution": {
     "iopub.execute_input": "2021-05-11T17:40:32.867548Z",
     "iopub.status.busy": "2021-05-11T17:40:32.866667Z",
     "iopub.status.idle": "2021-05-11T17:40:32.871079Z",
     "shell.execute_reply": "2021-05-11T17:40:32.870418Z"
    },
    "papermill": {
     "duration": 0.171209,
     "end_time": "2021-05-11T17:40:32.871230",
     "exception": false,
     "start_time": "2021-05-11T17:40:32.700021",
     "status": "completed"
    },
    "tags": []
   },
   "outputs": [
    {
     "data": {
      "text/plain": [
       "1    17208\n",
       "0    15385\n",
       "Name: Result, dtype: int64"
      ]
     },
     "execution_count": 91,
     "metadata": {},
     "output_type": "execute_result"
    }
   ],
   "source": [
    "## We can see that both the classes are close in numbers. So I will treat this as a balanced case of binary classification.\n",
    "\n",
    "target.value_counts()"
   ]
  },
  {
   "cell_type": "code",
   "execution_count": 92,
   "id": "hawaiian-stability",
   "metadata": {
    "execution": {
     "iopub.execute_input": "2021-05-11T17:40:33.196038Z",
     "iopub.status.busy": "2021-05-11T17:40:33.195339Z",
     "iopub.status.idle": "2021-05-11T17:40:33.265633Z",
     "shell.execute_reply": "2021-05-11T17:40:33.266221Z"
    },
    "papermill": {
     "duration": 0.233945,
     "end_time": "2021-05-11T17:40:33.266411",
     "exception": false,
     "start_time": "2021-05-11T17:40:33.032466",
     "status": "completed"
    },
    "tags": []
   },
   "outputs": [],
   "source": [
    "### Here we will split our data into training and testing. As we have less data, I will keep 80% of the data for \n",
    "### training and only 20% for testing. I would like to have more data where I can create three separate datasets\n",
    "### for training, validation and testing. As our objective here is to find features which impact the decision whether\n",
    "### student will fail or not, I will use most for training only.\n",
    "\n",
    "X_train, X_test, Y_train, Y_test = train_test_split(feature, target, \n",
    "                                                    test_size = 0.2, \n",
    "                                                    random_state = 123, \n",
    "                                                    stratify=data.final_result)"
   ]
  },
  {
   "cell_type": "code",
   "execution_count": 93,
   "id": "specific-compatibility",
   "metadata": {
    "execution": {
     "iopub.execute_input": "2021-05-11T17:40:33.589032Z",
     "iopub.status.busy": "2021-05-11T17:40:33.588169Z",
     "iopub.status.idle": "2021-05-11T17:40:33.595506Z",
     "shell.execute_reply": "2021-05-11T17:40:33.596083Z"
    },
    "papermill": {
     "duration": 0.172602,
     "end_time": "2021-05-11T17:40:33.596294",
     "exception": false,
     "start_time": "2021-05-11T17:40:33.423692",
     "status": "completed"
    },
    "tags": []
   },
   "outputs": [],
   "source": [
    "# In this step I will create a feature and target set for the dropout vs non-dropout case\n",
    "\n",
    "feature_dropout = data.drop(['final_result', 'dropout', 'Result'], axis = 1)\n",
    "target_dropout  = data['dropout']"
   ]
  },
  {
   "cell_type": "code",
   "execution_count": 94,
   "id": "therapeutic-aggregate",
   "metadata": {
    "execution": {
     "iopub.execute_input": "2021-05-11T17:40:33.915644Z",
     "iopub.status.busy": "2021-05-11T17:40:33.914970Z",
     "iopub.status.idle": "2021-05-11T17:40:33.923268Z",
     "shell.execute_reply": "2021-05-11T17:40:33.923792Z"
    },
    "papermill": {
     "duration": 0.17092,
     "end_time": "2021-05-11T17:40:33.923986",
     "exception": false,
     "start_time": "2021-05-11T17:40:33.753066",
     "status": "completed"
    },
    "tags": []
   },
   "outputs": [
    {
     "data": {
      "text/plain": [
       "0    22437\n",
       "1    10156\n",
       "Name: dropout, dtype: int64"
      ]
     },
     "execution_count": 94,
     "metadata": {},
     "output_type": "execute_result"
    }
   ],
   "source": [
    "target_dropout.value_counts()"
   ]
  },
  {
   "cell_type": "code",
   "execution_count": 95,
   "id": "educated-dryer",
   "metadata": {
    "execution": {
     "iopub.execute_input": "2021-05-11T17:40:34.252405Z",
     "iopub.status.busy": "2021-05-11T17:40:34.251705Z",
     "iopub.status.idle": "2021-05-11T17:40:34.292118Z",
     "shell.execute_reply": "2021-05-11T17:40:34.292681Z"
    },
    "papermill": {
     "duration": 0.205391,
     "end_time": "2021-05-11T17:40:34.292875",
     "exception": false,
     "start_time": "2021-05-11T17:40:34.087484",
     "status": "completed"
    },
    "tags": []
   },
   "outputs": [],
   "source": [
    "## Splitting Data into training and test sets\n",
    "\n",
    "X_train_dropout, X_test_dropout, Y_train_dropout, Y_test_dropout = train_test_split(feature_dropout, target_dropout, \n",
    "                                                                                    test_size = 0.2, \n",
    "                                                                                    random_state = 123, \n",
    "                                                                                    stratify=target_dropout)"
   ]
  },
  {
   "cell_type": "code",
   "execution_count": 96,
   "id": "other-replica",
   "metadata": {
    "execution": {
     "iopub.execute_input": "2021-05-11T17:40:34.644517Z",
     "iopub.status.busy": "2021-05-11T17:40:34.639092Z",
     "iopub.status.idle": "2021-05-11T17:40:34.650583Z",
     "shell.execute_reply": "2021-05-11T17:40:34.649934Z"
    },
    "papermill": {
     "duration": 0.196076,
     "end_time": "2021-05-11T17:40:34.650722",
     "exception": false,
     "start_time": "2021-05-11T17:40:34.454646",
     "status": "completed"
    },
    "tags": []
   },
   "outputs": [
    {
     "data": {
      "text/html": [
       "<div>\n",
       "<style scoped>\n",
       "    .dataframe tbody tr th:only-of-type {\n",
       "        vertical-align: middle;\n",
       "    }\n",
       "\n",
       "    .dataframe tbody tr th {\n",
       "        vertical-align: top;\n",
       "    }\n",
       "\n",
       "    .dataframe thead th {\n",
       "        text-align: right;\n",
       "    }\n",
       "</style>\n",
       "<table border=\"1\" class=\"dataframe\">\n",
       "  <thead>\n",
       "    <tr style=\"text-align: right;\">\n",
       "      <th></th>\n",
       "      <th>highest_education</th>\n",
       "      <th>imd_band</th>\n",
       "      <th>age_band</th>\n",
       "      <th>num_of_prev_attempts</th>\n",
       "      <th>studied_credits</th>\n",
       "      <th>final_result</th>\n",
       "      <th>sum_click</th>\n",
       "      <th>After_Clicks</th>\n",
       "      <th>Before_Clicks</th>\n",
       "      <th>date_registration</th>\n",
       "      <th>module_presentation_length</th>\n",
       "      <th>gender_F</th>\n",
       "      <th>gender_M</th>\n",
       "      <th>region_East Anglian Region</th>\n",
       "      <th>region_East Midlands Region</th>\n",
       "      <th>region_Ireland</th>\n",
       "      <th>region_London Region</th>\n",
       "      <th>region_North Region</th>\n",
       "      <th>region_North Western Region</th>\n",
       "      <th>region_Scotland</th>\n",
       "      <th>region_South East Region</th>\n",
       "      <th>region_South Region</th>\n",
       "      <th>region_South West Region</th>\n",
       "      <th>region_Wales</th>\n",
       "      <th>region_West Midlands Region</th>\n",
       "      <th>region_Yorkshire Region</th>\n",
       "      <th>disability_N</th>\n",
       "      <th>disability_Y</th>\n",
       "      <th>Starting_Month_February</th>\n",
       "      <th>Starting_Month_October</th>\n",
       "      <th>code_module_AAA</th>\n",
       "      <th>code_module_BBB</th>\n",
       "      <th>code_module_CCC</th>\n",
       "      <th>code_module_DDD</th>\n",
       "      <th>code_module_EEE</th>\n",
       "      <th>code_module_FFF</th>\n",
       "      <th>code_module_GGG</th>\n",
       "      <th>Code_Category_STEM</th>\n",
       "      <th>Code_Category_Social_Science</th>\n",
       "      <th>Result</th>\n",
       "      <th>dropout</th>\n",
       "    </tr>\n",
       "  </thead>\n",
       "  <tbody>\n",
       "    <tr>\n",
       "      <th>0</th>\n",
       "      <td>1</td>\n",
       "      <td>9</td>\n",
       "      <td>2</td>\n",
       "      <td>0</td>\n",
       "      <td>240</td>\n",
       "      <td>Pass</td>\n",
       "      <td>934.0</td>\n",
       "      <td>836.0</td>\n",
       "      <td>98.0</td>\n",
       "      <td>159.0</td>\n",
       "      <td>268</td>\n",
       "      <td>0</td>\n",
       "      <td>1</td>\n",
       "      <td>1</td>\n",
       "      <td>0</td>\n",
       "      <td>0</td>\n",
       "      <td>0</td>\n",
       "      <td>0</td>\n",
       "      <td>0</td>\n",
       "      <td>0</td>\n",
       "      <td>0</td>\n",
       "      <td>0</td>\n",
       "      <td>0</td>\n",
       "      <td>0</td>\n",
       "      <td>0</td>\n",
       "      <td>0</td>\n",
       "      <td>1</td>\n",
       "      <td>0</td>\n",
       "      <td>0</td>\n",
       "      <td>1</td>\n",
       "      <td>1</td>\n",
       "      <td>0</td>\n",
       "      <td>0</td>\n",
       "      <td>0</td>\n",
       "      <td>0</td>\n",
       "      <td>0</td>\n",
       "      <td>0</td>\n",
       "      <td>0</td>\n",
       "      <td>1</td>\n",
       "      <td>0</td>\n",
       "      <td>0</td>\n",
       "    </tr>\n",
       "    <tr>\n",
       "      <th>1</th>\n",
       "      <td>1</td>\n",
       "      <td>2</td>\n",
       "      <td>1</td>\n",
       "      <td>0</td>\n",
       "      <td>60</td>\n",
       "      <td>Pass</td>\n",
       "      <td>1435.0</td>\n",
       "      <td>1220.0</td>\n",
       "      <td>215.0</td>\n",
       "      <td>53.0</td>\n",
       "      <td>268</td>\n",
       "      <td>1</td>\n",
       "      <td>0</td>\n",
       "      <td>0</td>\n",
       "      <td>0</td>\n",
       "      <td>0</td>\n",
       "      <td>0</td>\n",
       "      <td>0</td>\n",
       "      <td>0</td>\n",
       "      <td>1</td>\n",
       "      <td>0</td>\n",
       "      <td>0</td>\n",
       "      <td>0</td>\n",
       "      <td>0</td>\n",
       "      <td>0</td>\n",
       "      <td>0</td>\n",
       "      <td>1</td>\n",
       "      <td>0</td>\n",
       "      <td>0</td>\n",
       "      <td>1</td>\n",
       "      <td>1</td>\n",
       "      <td>0</td>\n",
       "      <td>0</td>\n",
       "      <td>0</td>\n",
       "      <td>0</td>\n",
       "      <td>0</td>\n",
       "      <td>0</td>\n",
       "      <td>0</td>\n",
       "      <td>1</td>\n",
       "      <td>0</td>\n",
       "      <td>0</td>\n",
       "    </tr>\n",
       "    <tr>\n",
       "      <th>2</th>\n",
       "      <td>0</td>\n",
       "      <td>3</td>\n",
       "      <td>1</td>\n",
       "      <td>0</td>\n",
       "      <td>60</td>\n",
       "      <td>Withdrawn</td>\n",
       "      <td>281.0</td>\n",
       "      <td>179.0</td>\n",
       "      <td>102.0</td>\n",
       "      <td>92.0</td>\n",
       "      <td>268</td>\n",
       "      <td>1</td>\n",
       "      <td>0</td>\n",
       "      <td>0</td>\n",
       "      <td>0</td>\n",
       "      <td>0</td>\n",
       "      <td>0</td>\n",
       "      <td>0</td>\n",
       "      <td>1</td>\n",
       "      <td>0</td>\n",
       "      <td>0</td>\n",
       "      <td>0</td>\n",
       "      <td>0</td>\n",
       "      <td>0</td>\n",
       "      <td>0</td>\n",
       "      <td>0</td>\n",
       "      <td>0</td>\n",
       "      <td>1</td>\n",
       "      <td>0</td>\n",
       "      <td>1</td>\n",
       "      <td>1</td>\n",
       "      <td>0</td>\n",
       "      <td>0</td>\n",
       "      <td>0</td>\n",
       "      <td>0</td>\n",
       "      <td>0</td>\n",
       "      <td>0</td>\n",
       "      <td>0</td>\n",
       "      <td>1</td>\n",
       "      <td>1</td>\n",
       "      <td>1</td>\n",
       "    </tr>\n",
       "    <tr>\n",
       "      <th>3</th>\n",
       "      <td>0</td>\n",
       "      <td>5</td>\n",
       "      <td>1</td>\n",
       "      <td>0</td>\n",
       "      <td>60</td>\n",
       "      <td>Pass</td>\n",
       "      <td>2158.0</td>\n",
       "      <td>1989.0</td>\n",
       "      <td>169.0</td>\n",
       "      <td>52.0</td>\n",
       "      <td>268</td>\n",
       "      <td>1</td>\n",
       "      <td>0</td>\n",
       "      <td>0</td>\n",
       "      <td>0</td>\n",
       "      <td>0</td>\n",
       "      <td>0</td>\n",
       "      <td>0</td>\n",
       "      <td>0</td>\n",
       "      <td>0</td>\n",
       "      <td>1</td>\n",
       "      <td>0</td>\n",
       "      <td>0</td>\n",
       "      <td>0</td>\n",
       "      <td>0</td>\n",
       "      <td>0</td>\n",
       "      <td>1</td>\n",
       "      <td>0</td>\n",
       "      <td>0</td>\n",
       "      <td>1</td>\n",
       "      <td>1</td>\n",
       "      <td>0</td>\n",
       "      <td>0</td>\n",
       "      <td>0</td>\n",
       "      <td>0</td>\n",
       "      <td>0</td>\n",
       "      <td>0</td>\n",
       "      <td>0</td>\n",
       "      <td>1</td>\n",
       "      <td>0</td>\n",
       "      <td>0</td>\n",
       "    </tr>\n",
       "    <tr>\n",
       "      <th>4</th>\n",
       "      <td>0</td>\n",
       "      <td>5</td>\n",
       "      <td>0</td>\n",
       "      <td>0</td>\n",
       "      <td>60</td>\n",
       "      <td>Pass</td>\n",
       "      <td>1034.0</td>\n",
       "      <td>739.0</td>\n",
       "      <td>295.0</td>\n",
       "      <td>176.0</td>\n",
       "      <td>268</td>\n",
       "      <td>1</td>\n",
       "      <td>0</td>\n",
       "      <td>0</td>\n",
       "      <td>0</td>\n",
       "      <td>0</td>\n",
       "      <td>0</td>\n",
       "      <td>0</td>\n",
       "      <td>0</td>\n",
       "      <td>0</td>\n",
       "      <td>0</td>\n",
       "      <td>0</td>\n",
       "      <td>0</td>\n",
       "      <td>0</td>\n",
       "      <td>1</td>\n",
       "      <td>0</td>\n",
       "      <td>1</td>\n",
       "      <td>0</td>\n",
       "      <td>0</td>\n",
       "      <td>1</td>\n",
       "      <td>1</td>\n",
       "      <td>0</td>\n",
       "      <td>0</td>\n",
       "      <td>0</td>\n",
       "      <td>0</td>\n",
       "      <td>0</td>\n",
       "      <td>0</td>\n",
       "      <td>0</td>\n",
       "      <td>1</td>\n",
       "      <td>0</td>\n",
       "      <td>0</td>\n",
       "    </tr>\n",
       "  </tbody>\n",
       "</table>\n",
       "</div>"
      ],
      "text/plain": [
       "   highest_education  imd_band  age_band  num_of_prev_attempts  \\\n",
       "0                  1         9         2                     0   \n",
       "1                  1         2         1                     0   \n",
       "2                  0         3         1                     0   \n",
       "3                  0         5         1                     0   \n",
       "4                  0         5         0                     0   \n",
       "\n",
       "   studied_credits final_result  sum_click  After_Clicks  Before_Clicks  \\\n",
       "0              240         Pass      934.0         836.0           98.0   \n",
       "1               60         Pass     1435.0        1220.0          215.0   \n",
       "2               60    Withdrawn      281.0         179.0          102.0   \n",
       "3               60         Pass     2158.0        1989.0          169.0   \n",
       "4               60         Pass     1034.0         739.0          295.0   \n",
       "\n",
       "   date_registration  module_presentation_length  gender_F  gender_M  \\\n",
       "0              159.0                         268         0         1   \n",
       "1               53.0                         268         1         0   \n",
       "2               92.0                         268         1         0   \n",
       "3               52.0                         268         1         0   \n",
       "4              176.0                         268         1         0   \n",
       "\n",
       "   region_East Anglian Region  region_East Midlands Region  region_Ireland  \\\n",
       "0                           1                            0               0   \n",
       "1                           0                            0               0   \n",
       "2                           0                            0               0   \n",
       "3                           0                            0               0   \n",
       "4                           0                            0               0   \n",
       "\n",
       "   region_London Region  region_North Region  region_North Western Region  \\\n",
       "0                     0                    0                            0   \n",
       "1                     0                    0                            0   \n",
       "2                     0                    0                            1   \n",
       "3                     0                    0                            0   \n",
       "4                     0                    0                            0   \n",
       "\n",
       "   region_Scotland  region_South East Region  region_South Region  \\\n",
       "0                0                         0                    0   \n",
       "1                1                         0                    0   \n",
       "2                0                         0                    0   \n",
       "3                0                         1                    0   \n",
       "4                0                         0                    0   \n",
       "\n",
       "   region_South West Region  region_Wales  region_West Midlands Region  \\\n",
       "0                         0             0                            0   \n",
       "1                         0             0                            0   \n",
       "2                         0             0                            0   \n",
       "3                         0             0                            0   \n",
       "4                         0             0                            1   \n",
       "\n",
       "   region_Yorkshire Region  disability_N  disability_Y  \\\n",
       "0                        0             1             0   \n",
       "1                        0             1             0   \n",
       "2                        0             0             1   \n",
       "3                        0             1             0   \n",
       "4                        0             1             0   \n",
       "\n",
       "   Starting_Month_February  Starting_Month_October  code_module_AAA  \\\n",
       "0                        0                       1                1   \n",
       "1                        0                       1                1   \n",
       "2                        0                       1                1   \n",
       "3                        0                       1                1   \n",
       "4                        0                       1                1   \n",
       "\n",
       "   code_module_BBB  code_module_CCC  code_module_DDD  code_module_EEE  \\\n",
       "0                0                0                0                0   \n",
       "1                0                0                0                0   \n",
       "2                0                0                0                0   \n",
       "3                0                0                0                0   \n",
       "4                0                0                0                0   \n",
       "\n",
       "   code_module_FFF  code_module_GGG  Code_Category_STEM  \\\n",
       "0                0                0                   0   \n",
       "1                0                0                   0   \n",
       "2                0                0                   0   \n",
       "3                0                0                   0   \n",
       "4                0                0                   0   \n",
       "\n",
       "   Code_Category_Social_Science  Result  dropout  \n",
       "0                             1       0        0  \n",
       "1                             1       0        0  \n",
       "2                             1       1        1  \n",
       "3                             1       0        0  \n",
       "4                             1       0        0  "
      ]
     },
     "execution_count": 96,
     "metadata": {},
     "output_type": "execute_result"
    }
   ],
   "source": [
    "data.head()"
   ]
  },
  {
   "cell_type": "markdown",
   "id": "particular-receipt",
   "metadata": {
    "papermill": {
     "duration": 0.157963,
     "end_time": "2021-05-11T17:40:34.967461",
     "exception": false,
     "start_time": "2021-05-11T17:40:34.809498",
     "status": "completed"
    },
    "tags": []
   },
   "source": [
    "# BUILDING AND EVALUATING MODEL"
   ]
  },
  {
   "cell_type": "markdown",
   "id": "infinite-morrison",
   "metadata": {
    "papermill": {
     "duration": 0.166447,
     "end_time": "2021-05-11T17:40:35.297894",
     "exception": false,
     "start_time": "2021-05-11T17:40:35.131447",
     "status": "completed"
    },
    "tags": []
   },
   "source": [
    "#### Building a model to predict whether student will pass or fail"
   ]
  },
  {
   "cell_type": "code",
   "execution_count": 97,
   "id": "fleet-liver",
   "metadata": {
    "execution": {
     "iopub.execute_input": "2021-05-11T17:40:35.626366Z",
     "iopub.status.busy": "2021-05-11T17:40:35.625631Z",
     "iopub.status.idle": "2021-05-11T17:40:35.628941Z",
     "shell.execute_reply": "2021-05-11T17:40:35.629635Z"
    },
    "papermill": {
     "duration": 0.169819,
     "end_time": "2021-05-11T17:40:35.629837",
     "exception": false,
     "start_time": "2021-05-11T17:40:35.460018",
     "status": "completed"
    },
    "tags": []
   },
   "outputs": [],
   "source": [
    "## Initializing the Random Forest Model\n",
    "\n",
    "random_forest_model = RandomForestClassifier(n_estimators=100, \n",
    "                                             random_state=123, \n",
    "                                             max_depth=25,\n",
    "                                             min_samples_split = 100,\n",
    "                                             n_jobs=4)"
   ]
  },
  {
   "cell_type": "code",
   "execution_count": 98,
   "id": "unique-testing",
   "metadata": {
    "execution": {
     "iopub.execute_input": "2021-05-11T17:40:35.964082Z",
     "iopub.status.busy": "2021-05-11T17:40:35.962644Z",
     "iopub.status.idle": "2021-05-11T17:40:37.041381Z",
     "shell.execute_reply": "2021-05-11T17:40:37.040306Z"
    },
    "papermill": {
     "duration": 1.249297,
     "end_time": "2021-05-11T17:40:37.041540",
     "exception": false,
     "start_time": "2021-05-11T17:40:35.792243",
     "status": "completed"
    },
    "tags": []
   },
   "outputs": [
    {
     "data": {
      "text/plain": [
       "RandomForestClassifier(max_depth=25, min_samples_split=100, n_jobs=4,\n",
       "                       random_state=123)"
      ]
     },
     "execution_count": 98,
     "metadata": {},
     "output_type": "execute_result"
    }
   ],
   "source": [
    "## Fitting the model using Training Data\n",
    "\n",
    "random_forest_model.fit(X_train, Y_train)"
   ]
  },
  {
   "cell_type": "code",
   "execution_count": 99,
   "id": "wound-teaching",
   "metadata": {
    "execution": {
     "iopub.execute_input": "2021-05-11T17:40:37.373394Z",
     "iopub.status.busy": "2021-05-11T17:40:37.372573Z",
     "iopub.status.idle": "2021-05-11T17:40:37.481470Z",
     "shell.execute_reply": "2021-05-11T17:40:37.480776Z"
    },
    "papermill": {
     "duration": 0.276464,
     "end_time": "2021-05-11T17:40:37.481619",
     "exception": false,
     "start_time": "2021-05-11T17:40:37.205155",
     "status": "completed"
    },
    "tags": []
   },
   "outputs": [],
   "source": [
    "## Predicting on Test Data using fitted model\n",
    "\n",
    "predictions_random = random_forest_model.predict(X_test)"
   ]
  },
  {
   "cell_type": "code",
   "execution_count": 100,
   "id": "external-outdoors",
   "metadata": {
    "execution": {
     "iopub.execute_input": "2021-05-11T17:40:37.825538Z",
     "iopub.status.busy": "2021-05-11T17:40:37.824433Z",
     "iopub.status.idle": "2021-05-11T17:40:37.842912Z",
     "shell.execute_reply": "2021-05-11T17:40:37.842106Z"
    },
    "papermill": {
     "duration": 0.199002,
     "end_time": "2021-05-11T17:40:37.843095",
     "exception": false,
     "start_time": "2021-05-11T17:40:37.644093",
     "status": "completed"
    },
    "tags": []
   },
   "outputs": [
    {
     "name": "stdout",
     "output_type": "stream",
     "text": [
      "[[2918  159]\n",
      " [ 506 2936]]\n"
     ]
    }
   ],
   "source": [
    "print(confusion_matrix(Y_test, predictions_random))"
   ]
  },
  {
   "cell_type": "code",
   "execution_count": 101,
   "id": "worth-baptist",
   "metadata": {
    "execution": {
     "iopub.execute_input": "2021-05-11T17:40:38.219491Z",
     "iopub.status.busy": "2021-05-11T17:40:38.218641Z",
     "iopub.status.idle": "2021-05-11T17:40:38.226739Z",
     "shell.execute_reply": "2021-05-11T17:40:38.225891Z"
    },
    "papermill": {
     "duration": 0.199462,
     "end_time": "2021-05-11T17:40:38.226947",
     "exception": false,
     "start_time": "2021-05-11T17:40:38.027485",
     "status": "completed"
    },
    "tags": []
   },
   "outputs": [
    {
     "name": "stdout",
     "output_type": "stream",
     "text": [
      "Accuracy of the model is  0.8979904893388556\n"
     ]
    }
   ],
   "source": [
    "print(\"Accuracy of the model is \", accuracy_score(Y_test, predictions_random))"
   ]
  },
  {
   "cell_type": "code",
   "execution_count": 102,
   "id": "computational-passenger",
   "metadata": {
    "execution": {
     "iopub.execute_input": "2021-05-11T17:40:38.571979Z",
     "iopub.status.busy": "2021-05-11T17:40:38.570919Z",
     "iopub.status.idle": "2021-05-11T17:40:38.593113Z",
     "shell.execute_reply": "2021-05-11T17:40:38.593894Z"
    },
    "papermill": {
     "duration": 0.19747,
     "end_time": "2021-05-11T17:40:38.594164",
     "exception": false,
     "start_time": "2021-05-11T17:40:38.396694",
     "status": "completed"
    },
    "tags": []
   },
   "outputs": [
    {
     "name": "stdout",
     "output_type": "stream",
     "text": [
      "              precision    recall  f1-score   support\n",
      "\n",
      "           0       0.85      0.95      0.90      3077\n",
      "           1       0.95      0.85      0.90      3442\n",
      "\n",
      "    accuracy                           0.90      6519\n",
      "   macro avg       0.90      0.90      0.90      6519\n",
      "weighted avg       0.90      0.90      0.90      6519\n",
      "\n"
     ]
    }
   ],
   "source": [
    "print(classification_report(Y_test, predictions_random, digits=2))"
   ]
  },
  {
   "cell_type": "code",
   "execution_count": 103,
   "id": "organized-duncan",
   "metadata": {
    "execution": {
     "iopub.execute_input": "2021-05-11T17:40:38.936615Z",
     "iopub.status.busy": "2021-05-11T17:40:38.935897Z",
     "iopub.status.idle": "2021-05-11T17:40:39.250180Z",
     "shell.execute_reply": "2021-05-11T17:40:39.249468Z"
    },
    "papermill": {
     "duration": 0.488083,
     "end_time": "2021-05-11T17:40:39.250336",
     "exception": false,
     "start_time": "2021-05-11T17:40:38.762253",
     "status": "completed"
    },
    "tags": []
   },
   "outputs": [
    {
     "data": {
      "image/png": "[encoded data removed]",
      "text/plain": [
       "<Figure size 432x288 with 1 Axes>"
      ]
     },
     "metadata": {},
     "output_type": "display_data"
    }
   ],
   "source": [
    "predictions_rf = random_forest_model.predict_proba(X_test)\n",
    "preds = predictions_rf[:,1]\n",
    "y_test = np.array(Y_test)\n",
    "fpr, tpr, threshold = metrics.roc_curve(y_test, preds)\n",
    "roc_auc = metrics.auc(fpr, tpr)\n",
    "\n",
    "\n",
    "plt.title('Receiver Operating Characteristic')\n",
    "plt.plot(fpr, tpr, 'b', label = 'AUC = %0.2f' % roc_auc)\n",
    "plt.legend(loc = 'lower right')\n",
    "plt.plot([0, 1], [0, 1],'r--')\n",
    "plt.xlim([0, 1])\n",
    "plt.ylim([0, 1])\n",
    "plt.ylabel('True Positive Rate')\n",
    "plt.xlabel('False Positive Rate')\n",
    "plt.show()"
   ]
  },
  {
   "cell_type": "markdown",
   "id": "outdoor-comment",
   "metadata": {
    "papermill": {
     "duration": 0.166977,
     "end_time": "2021-05-11T17:40:39.582965",
     "exception": false,
     "start_time": "2021-05-11T17:40:39.415988",
     "status": "completed"
    },
    "tags": []
   },
   "source": [
    "#### USING GRID SEARCH FOR HYPERPARAMETER OPTIMIZATION"
   ]
  },
  {
   "cell_type": "code",
   "execution_count": 104,
   "id": "informative-question",
   "metadata": {
    "execution": {
     "iopub.execute_input": "2021-05-11T17:40:40.621081Z",
     "iopub.status.busy": "2021-05-11T17:40:40.619995Z",
     "iopub.status.idle": "2021-05-11T17:40:40.625247Z",
     "shell.execute_reply": "2021-05-11T17:40:40.625721Z"
    },
    "papermill": {
     "duration": 0.178359,
     "end_time": "2021-05-11T17:40:40.625918",
     "exception": false,
     "start_time": "2021-05-11T17:40:40.447559",
     "status": "completed"
    },
    "tags": []
   },
   "outputs": [],
   "source": [
    "random_forest_model_best_fit = RandomForestClassifier(n_estimators=100, \n",
    "                                                      random_state=123, \n",
    "                                                      max_depth=30,\n",
    "                                                      min_samples_split = 50,\n",
    "                                                      n_jobs=4)"
   ]
  },
  {
   "cell_type": "code",
   "execution_count": 105,
   "id": "upset-patent",
   "metadata": {
    "execution": {
     "iopub.execute_input": "2021-05-11T17:40:40.970289Z",
     "iopub.status.busy": "2021-05-11T17:40:40.969222Z",
     "iopub.status.idle": "2021-05-11T17:40:42.168377Z",
     "shell.execute_reply": "2021-05-11T17:40:42.167360Z"
    },
    "papermill": {
     "duration": 1.378122,
     "end_time": "2021-05-11T17:40:42.168540",
     "exception": false,
     "start_time": "2021-05-11T17:40:40.790418",
     "status": "completed"
    },
    "tags": []
   },
   "outputs": [
    {
     "data": {
      "text/plain": [
       "RandomForestClassifier(max_depth=30, min_samples_split=50, n_jobs=4,\n",
       "                       random_state=123)"
      ]
     },
     "execution_count": 105,
     "metadata": {},
     "output_type": "execute_result"
    }
   ],
   "source": [
    "random_forest_model_best_fit.fit(X_train, Y_train)"
   ]
  },
  {
   "cell_type": "code",
   "execution_count": 106,
   "id": "extra-arrangement",
   "metadata": {
    "execution": {
     "iopub.execute_input": "2021-05-11T17:40:42.510154Z",
     "iopub.status.busy": "2021-05-11T17:40:42.509137Z",
     "iopub.status.idle": "2021-05-11T17:40:42.617711Z",
     "shell.execute_reply": "2021-05-11T17:40:42.616845Z"
    },
    "papermill": {
     "duration": 0.285829,
     "end_time": "2021-05-11T17:40:42.617907",
     "exception": false,
     "start_time": "2021-05-11T17:40:42.332078",
     "status": "completed"
    },
    "tags": []
   },
   "outputs": [],
   "source": [
    "predict_best_fit = random_forest_model_best_fit.predict(X_test)"
   ]
  },
  {
   "cell_type": "code",
   "execution_count": 107,
   "id": "sensitive-council",
   "metadata": {
    "execution": {
     "iopub.execute_input": "2021-05-11T17:40:42.962516Z",
     "iopub.status.busy": "2021-05-11T17:40:42.961637Z",
     "iopub.status.idle": "2021-05-11T17:40:42.983893Z",
     "shell.execute_reply": "2021-05-11T17:40:42.984468Z"
    },
    "papermill": {
     "duration": 0.198238,
     "end_time": "2021-05-11T17:40:42.984646",
     "exception": false,
     "start_time": "2021-05-11T17:40:42.786408",
     "status": "completed"
    },
    "tags": []
   },
   "outputs": [
    {
     "name": "stdout",
     "output_type": "stream",
     "text": [
      "              precision    recall  f1-score   support\n",
      "\n",
      "           0       0.95      0.85      0.90      3424\n",
      "           1       0.85      0.95      0.90      3095\n",
      "\n",
      "    accuracy                           0.90      6519\n",
      "   macro avg       0.90      0.90      0.90      6519\n",
      "weighted avg       0.90      0.90      0.90      6519\n",
      "\n"
     ]
    }
   ],
   "source": [
    "print(classification_report(predict_best_fit, Y_test))"
   ]
  },
  {
   "cell_type": "code",
   "execution_count": 108,
   "id": "appropriate-modification",
   "metadata": {
    "execution": {
     "iopub.execute_input": "2021-05-11T17:40:43.337364Z",
     "iopub.status.busy": "2021-05-11T17:40:43.336329Z",
     "iopub.status.idle": "2021-05-11T17:40:43.454894Z",
     "shell.execute_reply": "2021-05-11T17:40:43.455400Z"
    },
    "papermill": {
     "duration": 0.297745,
     "end_time": "2021-05-11T17:40:43.455631",
     "exception": false,
     "start_time": "2021-05-11T17:40:43.157886",
     "status": "completed"
    },
    "scrolled": true,
    "tags": []
   },
   "outputs": [
    {
     "data": {
      "text/html": [
       "<div>\n",
       "<style scoped>\n",
       "    .dataframe tbody tr th:only-of-type {\n",
       "        vertical-align: middle;\n",
       "    }\n",
       "\n",
       "    .dataframe tbody tr th {\n",
       "        vertical-align: top;\n",
       "    }\n",
       "\n",
       "    .dataframe thead th {\n",
       "        text-align: right;\n",
       "    }\n",
       "</style>\n",
       "<table border=\"1\" class=\"dataframe\">\n",
       "  <thead>\n",
       "    <tr style=\"text-align: right;\">\n",
       "      <th></th>\n",
       "      <th>Features</th>\n",
       "      <th>Coeff</th>\n",
       "    </tr>\n",
       "  </thead>\n",
       "  <tbody>\n",
       "    <tr>\n",
       "      <th>38</th>\n",
       "      <td>dropout</td>\n",
       "      <td>0.351216</td>\n",
       "    </tr>\n",
       "    <tr>\n",
       "      <th>6</th>\n",
       "      <td>After_Clicks</td>\n",
       "      <td>0.245894</td>\n",
       "    </tr>\n",
       "    <tr>\n",
       "      <th>5</th>\n",
       "      <td>sum_click</td>\n",
       "      <td>0.217119</td>\n",
       "    </tr>\n",
       "    <tr>\n",
       "      <th>7</th>\n",
       "      <td>Before_Clicks</td>\n",
       "      <td>0.058357</td>\n",
       "    </tr>\n",
       "    <tr>\n",
       "      <th>34</th>\n",
       "      <td>code_module_FFF</td>\n",
       "      <td>0.019404</td>\n",
       "    </tr>\n",
       "    <tr>\n",
       "      <th>37</th>\n",
       "      <td>Code_Category_Social_Science</td>\n",
       "      <td>0.012351</td>\n",
       "    </tr>\n",
       "    <tr>\n",
       "      <th>36</th>\n",
       "      <td>Code_Category_STEM</td>\n",
       "      <td>0.012193</td>\n",
       "    </tr>\n",
       "    <tr>\n",
       "      <th>4</th>\n",
       "      <td>studied_credits</td>\n",
       "      <td>0.011334</td>\n",
       "    </tr>\n",
       "    <tr>\n",
       "      <th>1</th>\n",
       "      <td>imd_band</td>\n",
       "      <td>0.010093</td>\n",
       "    </tr>\n",
       "    <tr>\n",
       "      <th>8</th>\n",
       "      <td>date_registration</td>\n",
       "      <td>0.007599</td>\n",
       "    </tr>\n",
       "    <tr>\n",
       "      <th>9</th>\n",
       "      <td>module_presentation_length</td>\n",
       "      <td>0.005644</td>\n",
       "    </tr>\n",
       "    <tr>\n",
       "      <th>3</th>\n",
       "      <td>num_of_prev_attempts</td>\n",
       "      <td>0.005627</td>\n",
       "    </tr>\n",
       "    <tr>\n",
       "      <th>35</th>\n",
       "      <td>code_module_GGG</td>\n",
       "      <td>0.004766</td>\n",
       "    </tr>\n",
       "    <tr>\n",
       "      <th>30</th>\n",
       "      <td>code_module_BBB</td>\n",
       "      <td>0.004016</td>\n",
       "    </tr>\n",
       "    <tr>\n",
       "      <th>0</th>\n",
       "      <td>highest_education</td>\n",
       "      <td>0.003736</td>\n",
       "    </tr>\n",
       "    <tr>\n",
       "      <th>32</th>\n",
       "      <td>code_module_DDD</td>\n",
       "      <td>0.002964</td>\n",
       "    </tr>\n",
       "    <tr>\n",
       "      <th>31</th>\n",
       "      <td>code_module_CCC</td>\n",
       "      <td>0.002583</td>\n",
       "    </tr>\n",
       "    <tr>\n",
       "      <th>10</th>\n",
       "      <td>gender_F</td>\n",
       "      <td>0.002174</td>\n",
       "    </tr>\n",
       "    <tr>\n",
       "      <th>11</th>\n",
       "      <td>gender_M</td>\n",
       "      <td>0.001782</td>\n",
       "    </tr>\n",
       "    <tr>\n",
       "      <th>2</th>\n",
       "      <td>age_band</td>\n",
       "      <td>0.001737</td>\n",
       "    </tr>\n",
       "    <tr>\n",
       "      <th>33</th>\n",
       "      <td>code_module_EEE</td>\n",
       "      <td>0.001710</td>\n",
       "    </tr>\n",
       "    <tr>\n",
       "      <th>28</th>\n",
       "      <td>Starting_Month_October</td>\n",
       "      <td>0.001693</td>\n",
       "    </tr>\n",
       "    <tr>\n",
       "      <th>27</th>\n",
       "      <td>Starting_Month_February</td>\n",
       "      <td>0.001600</td>\n",
       "    </tr>\n",
       "    <tr>\n",
       "      <th>29</th>\n",
       "      <td>code_module_AAA</td>\n",
       "      <td>0.001268</td>\n",
       "    </tr>\n",
       "    <tr>\n",
       "      <th>26</th>\n",
       "      <td>disability_Y</td>\n",
       "      <td>0.001220</td>\n",
       "    </tr>\n",
       "    <tr>\n",
       "      <th>25</th>\n",
       "      <td>disability_N</td>\n",
       "      <td>0.001177</td>\n",
       "    </tr>\n",
       "    <tr>\n",
       "      <th>22</th>\n",
       "      <td>region_Wales</td>\n",
       "      <td>0.001138</td>\n",
       "    </tr>\n",
       "    <tr>\n",
       "      <th>15</th>\n",
       "      <td>region_London Region</td>\n",
       "      <td>0.001068</td>\n",
       "    </tr>\n",
       "    <tr>\n",
       "      <th>17</th>\n",
       "      <td>region_North Western Region</td>\n",
       "      <td>0.001022</td>\n",
       "    </tr>\n",
       "    <tr>\n",
       "      <th>20</th>\n",
       "      <td>region_South Region</td>\n",
       "      <td>0.000953</td>\n",
       "    </tr>\n",
       "    <tr>\n",
       "      <th>18</th>\n",
       "      <td>region_Scotland</td>\n",
       "      <td>0.000928</td>\n",
       "    </tr>\n",
       "    <tr>\n",
       "      <th>14</th>\n",
       "      <td>region_Ireland</td>\n",
       "      <td>0.000859</td>\n",
       "    </tr>\n",
       "    <tr>\n",
       "      <th>19</th>\n",
       "      <td>region_South East Region</td>\n",
       "      <td>0.000843</td>\n",
       "    </tr>\n",
       "    <tr>\n",
       "      <th>13</th>\n",
       "      <td>region_East Midlands Region</td>\n",
       "      <td>0.000700</td>\n",
       "    </tr>\n",
       "    <tr>\n",
       "      <th>12</th>\n",
       "      <td>region_East Anglian Region</td>\n",
       "      <td>0.000686</td>\n",
       "    </tr>\n",
       "    <tr>\n",
       "      <th>21</th>\n",
       "      <td>region_South West Region</td>\n",
       "      <td>0.000683</td>\n",
       "    </tr>\n",
       "    <tr>\n",
       "      <th>23</th>\n",
       "      <td>region_West Midlands Region</td>\n",
       "      <td>0.000652</td>\n",
       "    </tr>\n",
       "    <tr>\n",
       "      <th>16</th>\n",
       "      <td>region_North Region</td>\n",
       "      <td>0.000626</td>\n",
       "    </tr>\n",
       "    <tr>\n",
       "      <th>24</th>\n",
       "      <td>region_Yorkshire Region</td>\n",
       "      <td>0.000586</td>\n",
       "    </tr>\n",
       "  </tbody>\n",
       "</table>\n",
       "</div>"
      ],
      "text/plain": [
       "                        Features     Coeff\n",
       "38                       dropout  0.351216\n",
       "6                   After_Clicks  0.245894\n",
       "5                      sum_click  0.217119\n",
       "7                  Before_Clicks  0.058357\n",
       "34               code_module_FFF  0.019404\n",
       "37  Code_Category_Social_Science  0.012351\n",
       "36            Code_Category_STEM  0.012193\n",
       "4                studied_credits  0.011334\n",
       "1                       imd_band  0.010093\n",
       "8              date_registration  0.007599\n",
       "9     module_presentation_length  0.005644\n",
       "3           num_of_prev_attempts  0.005627\n",
       "35               code_module_GGG  0.004766\n",
       "30               code_module_BBB  0.004016\n",
       "0              highest_education  0.003736\n",
       "32               code_module_DDD  0.002964\n",
       "31               code_module_CCC  0.002583\n",
       "10                      gender_F  0.002174\n",
       "11                      gender_M  0.001782\n",
       "2                       age_band  0.001737\n",
       "33               code_module_EEE  0.001710\n",
       "28        Starting_Month_October  0.001693\n",
       "27       Starting_Month_February  0.001600\n",
       "29               code_module_AAA  0.001268\n",
       "26                  disability_Y  0.001220\n",
       "25                  disability_N  0.001177\n",
       "22                  region_Wales  0.001138\n",
       "15          region_London Region  0.001068\n",
       "17   region_North Western Region  0.001022\n",
       "20           region_South Region  0.000953\n",
       "18               region_Scotland  0.000928\n",
       "14                region_Ireland  0.000859\n",
       "19      region_South East Region  0.000843\n",
       "13   region_East Midlands Region  0.000700\n",
       "12    region_East Anglian Region  0.000686\n",
       "21      region_South West Region  0.000683\n",
       "23   region_West Midlands Region  0.000652\n",
       "16           region_North Region  0.000626\n",
       "24       region_Yorkshire Region  0.000586"
      ]
     },
     "execution_count": 108,
     "metadata": {},
     "output_type": "execute_result"
    }
   ],
   "source": [
    "## We can see that region has close to None impact on the output of the model. So we will remove this feature.\n",
    "\n",
    "importance = pd.concat([pd.DataFrame(X_train.columns),\n",
    "                          pd.DataFrame(np.transpose(random_forest_model.feature_importances_))], axis = 1)\n",
    "importance.columns = ['Features', 'Coeff']\n",
    "importance = importance.sort_values('Coeff', ascending=False)\n",
    "importance"
   ]
  },
  {
   "cell_type": "markdown",
   "id": "straight-commander",
   "metadata": {
    "papermill": {
     "duration": 0.173515,
     "end_time": "2021-05-11T17:40:43.804984",
     "exception": false,
     "start_time": "2021-05-11T17:40:43.631469",
     "status": "completed"
    },
    "tags": []
   },
   "source": [
    "#### Building a model to predict whether student will dropout or not"
   ]
  },
  {
   "cell_type": "code",
   "execution_count": 109,
   "id": "frequent-program",
   "metadata": {
    "execution": {
     "iopub.execute_input": "2021-05-11T17:40:44.157072Z",
     "iopub.status.busy": "2021-05-11T17:40:44.156328Z",
     "iopub.status.idle": "2021-05-11T17:40:44.162562Z",
     "shell.execute_reply": "2021-05-11T17:40:44.161873Z"
    },
    "papermill": {
     "duration": 0.183248,
     "end_time": "2021-05-11T17:40:44.162711",
     "exception": false,
     "start_time": "2021-05-11T17:40:43.979463",
     "status": "completed"
    },
    "tags": []
   },
   "outputs": [],
   "source": [
    "## I am using class weight in this case because we have less samples for class = 1 which is dropout\n",
    "\n",
    "random_forest_model_drop = RandomForestClassifier(n_estimators=100, \n",
    "                                                  random_state=123, \n",
    "                                                  max_depth=25,\n",
    "                                                  min_samples_split = 100,\n",
    "                                                  class_weight = {0: 1, 1: 2},\n",
    "                                                  n_jobs=4)"
   ]
  },
  {
   "cell_type": "code",
   "execution_count": 110,
   "id": "czech-reproduction",
   "metadata": {
    "execution": {
     "iopub.execute_input": "2021-05-11T17:40:44.499542Z",
     "iopub.status.busy": "2021-05-11T17:40:44.498770Z",
     "iopub.status.idle": "2021-05-11T17:40:45.680905Z",
     "shell.execute_reply": "2021-05-11T17:40:45.680279Z"
    },
    "papermill": {
     "duration": 1.353282,
     "end_time": "2021-05-11T17:40:45.681071",
     "exception": false,
     "start_time": "2021-05-11T17:40:44.327789",
     "status": "completed"
    },
    "tags": []
   },
   "outputs": [
    {
     "data": {
      "text/plain": [
       "RandomForestClassifier(class_weight={0: 1, 1: 2}, max_depth=25,\n",
       "                       min_samples_split=100, n_jobs=4, random_state=123)"
      ]
     },
     "execution_count": 110,
     "metadata": {},
     "output_type": "execute_result"
    }
   ],
   "source": [
    "random_forest_model_drop.fit(X_train_dropout, Y_train_dropout)"
   ]
  },
  {
   "cell_type": "code",
   "execution_count": 111,
   "id": "suspected-constitutional",
   "metadata": {
    "execution": {
     "iopub.execute_input": "2021-05-11T17:40:46.032387Z",
     "iopub.status.busy": "2021-05-11T17:40:46.031480Z",
     "iopub.status.idle": "2021-05-11T17:40:46.139146Z",
     "shell.execute_reply": "2021-05-11T17:40:46.138516Z"
    },
    "papermill": {
     "duration": 0.288713,
     "end_time": "2021-05-11T17:40:46.139292",
     "exception": false,
     "start_time": "2021-05-11T17:40:45.850579",
     "status": "completed"
    },
    "tags": []
   },
   "outputs": [],
   "source": [
    "predict_dropout = random_forest_model_drop.predict(X_test_dropout)"
   ]
  },
  {
   "cell_type": "code",
   "execution_count": 112,
   "id": "accomplished-courage",
   "metadata": {
    "execution": {
     "iopub.execute_input": "2021-05-11T17:40:46.486413Z",
     "iopub.status.busy": "2021-05-11T17:40:46.485728Z",
     "iopub.status.idle": "2021-05-11T17:40:46.508416Z",
     "shell.execute_reply": "2021-05-11T17:40:46.507687Z"
    },
    "papermill": {
     "duration": 0.195445,
     "end_time": "2021-05-11T17:40:46.508563",
     "exception": false,
     "start_time": "2021-05-11T17:40:46.313118",
     "status": "completed"
    },
    "tags": []
   },
   "outputs": [
    {
     "name": "stdout",
     "output_type": "stream",
     "text": [
      "              precision    recall  f1-score   support\n",
      "\n",
      "           0       0.82      0.90      0.86      4102\n",
      "           1       0.80      0.67      0.73      2417\n",
      "\n",
      "    accuracy                           0.82      6519\n",
      "   macro avg       0.81      0.79      0.80      6519\n",
      "weighted avg       0.82      0.82      0.81      6519\n",
      "\n"
     ]
    }
   ],
   "source": [
    "print(classification_report(predict_dropout, Y_test_dropout))"
   ]
  },
  {
   "cell_type": "code",
   "execution_count": 113,
   "id": "directed-forwarding",
   "metadata": {
    "execution": {
     "iopub.execute_input": "2021-05-11T17:40:46.858023Z",
     "iopub.status.busy": "2021-05-11T17:40:46.857300Z",
     "iopub.status.idle": "2021-05-11T17:40:47.175455Z",
     "shell.execute_reply": "2021-05-11T17:40:47.175993Z"
    },
    "papermill": {
     "duration": 0.501331,
     "end_time": "2021-05-11T17:40:47.176187",
     "exception": false,
     "start_time": "2021-05-11T17:40:46.674856",
     "status": "completed"
    },
    "tags": []
   },
   "outputs": [
    {
     "data": {
      "image/png": "[encoded data removed]",
      "text/plain": [
       "<Figure size 432x288 with 1 Axes>"
      ]
     },
     "metadata": {},
     "output_type": "display_data"
    }
   ],
   "source": [
    "predictions_rf = random_forest_model_drop.predict_proba(X_test_dropout)\n",
    "preds = predictions_rf[:,1]\n",
    "y_test = np.array(Y_test_dropout)\n",
    "fpr, tpr, threshold = metrics.roc_curve(y_test, preds)\n",
    "roc_auc = metrics.auc(fpr, tpr)\n",
    "\n",
    "\n",
    "plt.title('Receiver Operating Characteristic')\n",
    "plt.plot(fpr, tpr, 'b', label = 'AUC = %0.2f' % roc_auc)\n",
    "plt.legend(loc = 'lower right')\n",
    "plt.plot([0, 1], [0, 1],'r--')\n",
    "plt.xlim([0, 1])\n",
    "plt.ylim([0, 1])\n",
    "plt.ylabel('True Positive Rate')\n",
    "plt.xlabel('False Positive Rate')\n",
    "plt.show()"
   ]
  },
  {
   "cell_type": "code",
   "execution_count": 115,
   "id": "f1fa30e4",
   "metadata": {},
   "outputs": [
    {
     "data": {
      "text/html": [
       "<div>\n",
       "<style scoped>\n",
       "    .dataframe tbody tr th:only-of-type {\n",
       "        vertical-align: middle;\n",
       "    }\n",
       "\n",
       "    .dataframe tbody tr th {\n",
       "        vertical-align: top;\n",
       "    }\n",
       "\n",
       "    .dataframe thead th {\n",
       "        text-align: right;\n",
       "    }\n",
       "</style>\n",
       "<table border=\"1\" class=\"dataframe\">\n",
       "  <thead>\n",
       "    <tr style=\"text-align: right;\">\n",
       "      <th></th>\n",
       "      <th>Features</th>\n",
       "      <th>Coeff</th>\n",
       "    </tr>\n",
       "  </thead>\n",
       "  <tbody>\n",
       "    <tr>\n",
       "      <th>6</th>\n",
       "      <td>After_Clicks</td>\n",
       "      <td>0.341960</td>\n",
       "    </tr>\n",
       "    <tr>\n",
       "      <th>5</th>\n",
       "      <td>sum_click</td>\n",
       "      <td>0.303304</td>\n",
       "    </tr>\n",
       "    <tr>\n",
       "      <th>7</th>\n",
       "      <td>Before_Clicks</td>\n",
       "      <td>0.124920</td>\n",
       "    </tr>\n",
       "    <tr>\n",
       "      <th>4</th>\n",
       "      <td>studied_credits</td>\n",
       "      <td>0.034788</td>\n",
       "    </tr>\n",
       "    <tr>\n",
       "      <th>8</th>\n",
       "      <td>date_registration</td>\n",
       "      <td>0.024408</td>\n",
       "    </tr>\n",
       "    <tr>\n",
       "      <th>36</th>\n",
       "      <td>Code_Category_STEM</td>\n",
       "      <td>0.021686</td>\n",
       "    </tr>\n",
       "    <tr>\n",
       "      <th>37</th>\n",
       "      <td>Code_Category_Social_Science</td>\n",
       "      <td>0.021497</td>\n",
       "    </tr>\n",
       "    <tr>\n",
       "      <th>35</th>\n",
       "      <td>code_module_GGG</td>\n",
       "      <td>0.017961</td>\n",
       "    </tr>\n",
       "    <tr>\n",
       "      <th>34</th>\n",
       "      <td>code_module_FFF</td>\n",
       "      <td>0.014039</td>\n",
       "    </tr>\n",
       "    <tr>\n",
       "      <th>9</th>\n",
       "      <td>module_presentation_length</td>\n",
       "      <td>0.011269</td>\n",
       "    </tr>\n",
       "    <tr>\n",
       "      <th>31</th>\n",
       "      <td>code_module_CCC</td>\n",
       "      <td>0.008950</td>\n",
       "    </tr>\n",
       "    <tr>\n",
       "      <th>1</th>\n",
       "      <td>imd_band</td>\n",
       "      <td>0.008747</td>\n",
       "    </tr>\n",
       "    <tr>\n",
       "      <th>30</th>\n",
       "      <td>code_module_BBB</td>\n",
       "      <td>0.006885</td>\n",
       "    </tr>\n",
       "    <tr>\n",
       "      <th>32</th>\n",
       "      <td>code_module_DDD</td>\n",
       "      <td>0.005626</td>\n",
       "    </tr>\n",
       "    <tr>\n",
       "      <th>2</th>\n",
       "      <td>age_band</td>\n",
       "      <td>0.004882</td>\n",
       "    </tr>\n",
       "    <tr>\n",
       "      <th>22</th>\n",
       "      <td>region_Wales</td>\n",
       "      <td>0.003875</td>\n",
       "    </tr>\n",
       "    <tr>\n",
       "      <th>18</th>\n",
       "      <td>region_Scotland</td>\n",
       "      <td>0.003572</td>\n",
       "    </tr>\n",
       "    <tr>\n",
       "      <th>33</th>\n",
       "      <td>code_module_EEE</td>\n",
       "      <td>0.003366</td>\n",
       "    </tr>\n",
       "    <tr>\n",
       "      <th>26</th>\n",
       "      <td>disability_Y</td>\n",
       "      <td>0.002889</td>\n",
       "    </tr>\n",
       "    <tr>\n",
       "      <th>25</th>\n",
       "      <td>disability_N</td>\n",
       "      <td>0.002833</td>\n",
       "    </tr>\n",
       "    <tr>\n",
       "      <th>3</th>\n",
       "      <td>num_of_prev_attempts</td>\n",
       "      <td>0.002758</td>\n",
       "    </tr>\n",
       "    <tr>\n",
       "      <th>11</th>\n",
       "      <td>gender_M</td>\n",
       "      <td>0.002743</td>\n",
       "    </tr>\n",
       "    <tr>\n",
       "      <th>10</th>\n",
       "      <td>gender_F</td>\n",
       "      <td>0.002488</td>\n",
       "    </tr>\n",
       "    <tr>\n",
       "      <th>27</th>\n",
       "      <td>Starting_Month_February</td>\n",
       "      <td>0.002201</td>\n",
       "    </tr>\n",
       "    <tr>\n",
       "      <th>0</th>\n",
       "      <td>highest_education</td>\n",
       "      <td>0.001978</td>\n",
       "    </tr>\n",
       "    <tr>\n",
       "      <th>28</th>\n",
       "      <td>Starting_Month_October</td>\n",
       "      <td>0.001941</td>\n",
       "    </tr>\n",
       "    <tr>\n",
       "      <th>14</th>\n",
       "      <td>region_Ireland</td>\n",
       "      <td>0.001887</td>\n",
       "    </tr>\n",
       "    <tr>\n",
       "      <th>13</th>\n",
       "      <td>region_East Midlands Region</td>\n",
       "      <td>0.001814</td>\n",
       "    </tr>\n",
       "    <tr>\n",
       "      <th>29</th>\n",
       "      <td>code_module_AAA</td>\n",
       "      <td>0.001807</td>\n",
       "    </tr>\n",
       "    <tr>\n",
       "      <th>23</th>\n",
       "      <td>region_West Midlands Region</td>\n",
       "      <td>0.001699</td>\n",
       "    </tr>\n",
       "    <tr>\n",
       "      <th>16</th>\n",
       "      <td>region_North Region</td>\n",
       "      <td>0.001594</td>\n",
       "    </tr>\n",
       "    <tr>\n",
       "      <th>17</th>\n",
       "      <td>region_North Western Region</td>\n",
       "      <td>0.001536</td>\n",
       "    </tr>\n",
       "    <tr>\n",
       "      <th>20</th>\n",
       "      <td>region_South Region</td>\n",
       "      <td>0.001435</td>\n",
       "    </tr>\n",
       "    <tr>\n",
       "      <th>15</th>\n",
       "      <td>region_London Region</td>\n",
       "      <td>0.001422</td>\n",
       "    </tr>\n",
       "    <tr>\n",
       "      <th>21</th>\n",
       "      <td>region_South West Region</td>\n",
       "      <td>0.001391</td>\n",
       "    </tr>\n",
       "    <tr>\n",
       "      <th>19</th>\n",
       "      <td>region_South East Region</td>\n",
       "      <td>0.001370</td>\n",
       "    </tr>\n",
       "    <tr>\n",
       "      <th>12</th>\n",
       "      <td>region_East Anglian Region</td>\n",
       "      <td>0.001258</td>\n",
       "    </tr>\n",
       "    <tr>\n",
       "      <th>24</th>\n",
       "      <td>region_Yorkshire Region</td>\n",
       "      <td>0.001221</td>\n",
       "    </tr>\n",
       "  </tbody>\n",
       "</table>\n",
       "</div>"
      ],
      "text/plain": [
       "                        Features     Coeff\n",
       "6                   After_Clicks  0.341960\n",
       "5                      sum_click  0.303304\n",
       "7                  Before_Clicks  0.124920\n",
       "4                studied_credits  0.034788\n",
       "8              date_registration  0.024408\n",
       "36            Code_Category_STEM  0.021686\n",
       "37  Code_Category_Social_Science  0.021497\n",
       "35               code_module_GGG  0.017961\n",
       "34               code_module_FFF  0.014039\n",
       "9     module_presentation_length  0.011269\n",
       "31               code_module_CCC  0.008950\n",
       "1                       imd_band  0.008747\n",
       "30               code_module_BBB  0.006885\n",
       "32               code_module_DDD  0.005626\n",
       "2                       age_band  0.004882\n",
       "22                  region_Wales  0.003875\n",
       "18               region_Scotland  0.003572\n",
       "33               code_module_EEE  0.003366\n",
       "26                  disability_Y  0.002889\n",
       "25                  disability_N  0.002833\n",
       "3           num_of_prev_attempts  0.002758\n",
       "11                      gender_M  0.002743\n",
       "10                      gender_F  0.002488\n",
       "27       Starting_Month_February  0.002201\n",
       "0              highest_education  0.001978\n",
       "28        Starting_Month_October  0.001941\n",
       "14                region_Ireland  0.001887\n",
       "13   region_East Midlands Region  0.001814\n",
       "29               code_module_AAA  0.001807\n",
       "23   region_West Midlands Region  0.001699\n",
       "16           region_North Region  0.001594\n",
       "17   region_North Western Region  0.001536\n",
       "20           region_South Region  0.001435\n",
       "15          region_London Region  0.001422\n",
       "21      region_South West Region  0.001391\n",
       "19      region_South East Region  0.001370\n",
       "12    region_East Anglian Region  0.001258\n",
       "24       region_Yorkshire Region  0.001221"
      ]
     },
     "execution_count": 115,
     "metadata": {},
     "output_type": "execute_result"
    }
   ],
   "source": [
    "importance = pd.concat([pd.DataFrame(X_train_dropout.columns),\n",
    "                          pd.DataFrame(np.transpose(random_forest_model_drop.feature_importances_))], axis = 1)\n",
    "importance.columns = ['Features', 'Coeff']\n",
    "importance = importance.sort_values('Coeff', ascending=False)\n",
    "importance"
   ]
  }
 ],
 "metadata": {
  "kernelspec": {
   "display_name": "Python 3 (ipykernel)",
   "language": "python",
   "name": "python3"
  },
  "language_info": {
   "codemirror_mode": {
    "name": "ipython",
    "version": 3
   },
   "file_extension": ".py",
   "mimetype": "text/x-python",
   "name": "python",
   "nbconvert_exporter": "python",
   "pygments_lexer": "ipython3",
   "version": "3.7.12"
  },
  "papermill": {
   "default_parameters": {},
   "duration": 115.123683,
   "end_time": "2021-05-11T17:40:48.825031",
   "environment_variables": {},
   "exception": null,
   "input_path": "__notebook__.ipynb",
   "output_path": "__notebook__.ipynb",
   "parameters": {},
   "start_time": "2021-05-11T17:38:53.701348",
   "version": "2.3.2"
  }
 },
 "nbformat": 4,
 "nbformat_minor": 5
}
